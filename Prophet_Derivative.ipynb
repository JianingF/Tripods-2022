{
 "cells": [
  {
   "cell_type": "markdown",
   "metadata": {},
   "source": [
    "# Discrete derivatives and Prophet \n",
    "\n",
    "The purpose of this notebook is to set up the use of the first derivative of the data as a regressor in Prophet. Since the first derivative is needed as a future regressor, we run the Prophet first without regressors, obtain a list of forecasted values, use those to compute future derivatives, and then use those as a future regressor. "
   ]
  },
  {
   "cell_type": "code",
   "execution_count": 1,
   "metadata": {},
   "outputs": [
    {
     "name": "stdout",
     "output_type": "stream",
     "text": [
      "Requirement already satisfied: prophet in /Users/iosevich/opt/anaconda3/lib/python3.7/site-packages (1.1)\n",
      "Requirement already satisfied: holidays>=0.13 in /Users/iosevich/opt/anaconda3/lib/python3.7/site-packages (from prophet) (0.13)\n",
      "Requirement already satisfied: matplotlib>=2.0.0 in /Users/iosevich/opt/anaconda3/lib/python3.7/site-packages (from prophet) (3.1.1)\n",
      "Requirement already satisfied: setuptools-git>=1.2 in /Users/iosevich/opt/anaconda3/lib/python3.7/site-packages (from prophet) (1.2)\n",
      "Requirement already satisfied: numpy>=1.15.4 in /Users/iosevich/opt/anaconda3/lib/python3.7/site-packages (from prophet) (1.21.2)\n",
      "Requirement already satisfied: convertdate>=2.1.2 in /Users/iosevich/opt/anaconda3/lib/python3.7/site-packages (from prophet) (2.3.2)\n",
      "Requirement already satisfied: wheel>=0.37.0 in /Users/iosevich/opt/anaconda3/lib/python3.7/site-packages (from prophet) (0.37.1)\n",
      "Requirement already satisfied: Cython>=0.22 in /Users/iosevich/opt/anaconda3/lib/python3.7/site-packages (from prophet) (0.29.13)\n",
      "Requirement already satisfied: LunarCalendar>=0.0.9 in /Users/iosevich/opt/anaconda3/lib/python3.7/site-packages (from prophet) (0.0.9)\n",
      "Requirement already satisfied: setuptools>=42 in /Users/iosevich/opt/anaconda3/lib/python3.7/site-packages (from prophet) (63.1.0)\n",
      "Requirement already satisfied: python-dateutil>=2.8.0 in /Users/iosevich/opt/anaconda3/lib/python3.7/site-packages (from prophet) (2.8.0)\n",
      "Requirement already satisfied: pandas>=1.0.4 in /Users/iosevich/opt/anaconda3/lib/python3.7/site-packages (from prophet) (1.3.4)\n",
      "Requirement already satisfied: cmdstanpy>=1.0.1 in /Users/iosevich/opt/anaconda3/lib/python3.7/site-packages (from prophet) (1.0.4)\n",
      "Requirement already satisfied: tqdm>=4.36.1 in /Users/iosevich/opt/anaconda3/lib/python3.7/site-packages (from prophet) (4.62.3)\n",
      "Requirement already satisfied: korean-lunar-calendar in /Users/iosevich/opt/anaconda3/lib/python3.7/site-packages (from holidays>=0.13->prophet) (0.2.1)\n",
      "Requirement already satisfied: hijri-converter in /Users/iosevich/opt/anaconda3/lib/python3.7/site-packages (from holidays>=0.13->prophet) (2.2.2)\n",
      "Requirement already satisfied: cycler>=0.10 in /Users/iosevich/opt/anaconda3/lib/python3.7/site-packages (from matplotlib>=2.0.0->prophet) (0.10.0)\n",
      "Requirement already satisfied: kiwisolver>=1.0.1 in /Users/iosevich/opt/anaconda3/lib/python3.7/site-packages (from matplotlib>=2.0.0->prophet) (1.1.0)\n",
      "Requirement already satisfied: pyparsing!=2.0.4,!=2.1.2,!=2.1.6,>=2.0.1 in /Users/iosevich/opt/anaconda3/lib/python3.7/site-packages (from matplotlib>=2.0.0->prophet) (2.4.2)\n",
      "Requirement already satisfied: pytz>=2014.10 in /Users/iosevich/opt/anaconda3/lib/python3.7/site-packages (from convertdate>=2.1.2->prophet) (2019.3)\n",
      "Requirement already satisfied: pymeeus<=1,>=0.3.13 in /Users/iosevich/opt/anaconda3/lib/python3.7/site-packages (from convertdate>=2.1.2->prophet) (0.5.11)\n",
      "Requirement already satisfied: ephem>=3.7.5.3 in /Users/iosevich/opt/anaconda3/lib/python3.7/site-packages (from LunarCalendar>=0.0.9->prophet) (4.1.2)\n",
      "Requirement already satisfied: six>=1.5 in /Users/iosevich/opt/anaconda3/lib/python3.7/site-packages (from python-dateutil>=2.8.0->prophet) (1.12.0)\n",
      "Requirement already satisfied: ujson in /Users/iosevich/opt/anaconda3/lib/python3.7/site-packages (from cmdstanpy>=1.0.1->prophet) (5.1.0)\n",
      "Note: you may need to restart the kernel to use updated packages.\n"
     ]
    }
   ],
   "source": [
    "pip install prophet"
   ]
  },
  {
   "cell_type": "markdown",
   "metadata": {},
   "source": [
    "# Imports "
   ]
  },
  {
   "cell_type": "code",
   "execution_count": 11,
   "metadata": {},
   "outputs": [],
   "source": [
    "import pandas as pd\n",
    "import numpy as np \n",
    "import matplotlib \n",
    "import matplotlib.pyplot as plt\n",
    "from sklearn import metrics\n",
    "from prophet import Prophet\n",
    "from prophet.diagnostics import cross_validation\n",
    "from prophet.diagnostics import performance_metrics\n",
    "import pickle\n",
    "import sys\n",
    "import os"
   ]
  },
  {
   "cell_type": "markdown",
   "metadata": {},
   "source": [
    "# Derivative"
   ]
  },
  {
   "cell_type": "code",
   "execution_count": 2,
   "metadata": {},
   "outputs": [],
   "source": [
    "def derivative_new(my_list):\n",
    "    return [my_list[i]-my_list[i-1] for i in range(1,len(my_list))]"
   ]
  },
  {
   "cell_type": "code",
   "execution_count": 3,
   "metadata": {},
   "outputs": [],
   "source": [
    "def kthderiv(extended_list, k, original_length):\n",
    "    '''\n",
    "    Parameters:\n",
    "        extended_list (list): list to take derivatives of plus at least k predictions\n",
    "        k (int): number of derivatives\n",
    "        original_length (int): length of original list\n",
    "    \n",
    "    Returns:\n",
    "        derivatives (numpy array): the ith column has the ith derivative of the list, up to the kth derivative\n",
    "    '''\n",
    "    \n",
    "    derivatives = extended_list[:original_length]\n",
    "    for i in range(1,k+1):\n",
    "        next_deriv = extended_list[:original_length + i]\n",
    "        for j in range(i):\n",
    "            next_deriv = derivative_new(next_deriv)\n",
    "        derivatives = np.column_stack((derivatives, next_deriv))\n",
    "    return derivatives"
   ]
  },
  {
   "cell_type": "markdown",
   "metadata": {},
   "source": [
    "# Prophet with Derivatives and Regressors"
   ]
  },
  {
   "cell_type": "code",
   "execution_count": 4,
   "metadata": {},
   "outputs": [],
   "source": [
    "def create_df(x, y):\n",
    "    df = pd.DataFrame()\n",
    "    df['ds'] = pd.to_datetime(x, unit='D')\n",
    "    df['y'] = y\n",
    "    return df"
   ]
  },
  {
   "cell_type": "code",
   "execution_count": 5,
   "metadata": {},
   "outputs": [],
   "source": [
    "def holdout_variance_explained(pred, pred_length, y_pred):\n",
    "    '''\n",
    "    Parameters:\n",
    "        pred (list): list of predictions\n",
    "        pred_length (int): length of prediction\n",
    "        y_pred (list): correct future values\n",
    "        \n",
    "    Returns:\n",
    "        Percentage of variance explained for holdout\n",
    "    '''\n",
    "    y_pred = np.array(y_pred)\n",
    "    score = np.sqrt(metrics.mean_squared_error(pred[-pred_length:],y_pred[-pred_length:]))\n",
    "    variance_explained = ((y_pred[-pred_length:].std()-score)/y_pred[-pred_length:].std())*100\n",
    "    return variance_explained"
   ]
  },
  {
   "cell_type": "code",
   "execution_count": 6,
   "metadata": {},
   "outputs": [],
   "source": [
    "def prophetpredict(training,horizon,horizon_freq,regressors,retail_data = True):\n",
    "    '''\n",
    "    Parameters:\n",
    "        training (dataframe): ['ds'] contains dates, ['y'] contains values\n",
    "        horizon (int): number of predictions\n",
    "        horizon_freq (string): time interval between predictions\n",
    "        regressors (dataframe): all values for regressors, including future regressors\n",
    "        retail_data (bool): set to True when running on real data\n",
    "    \n",
    "    Returns:\n",
    "        List of model outputs for known dates plus predictions\n",
    "    '''\n",
    "    data_length = len(training.index)\n",
    "    m = Prophet(yearly_seasonality=True, daily_seasonality=False, weekly_seasonality=False)\n",
    "    if retail_data:\n",
    "        m.add_country_holidays(country_name='US')\n",
    "        m.train_holiday_names\n",
    "    \n",
    "    for col in regressors:\n",
    "        m.add_regressor(col)\n",
    "    all_input = pd.concat((training, regressors.head(data_length)), axis=1)\n",
    "    m.fit(all_input)\n",
    "    future = m.make_future_dataframe(periods=horizon, freq=horizon_freq)\n",
    "    all_future_input = pd.concat((future, regressors.head(data_length+horizon)), axis=1)\n",
    "    forecast = m.predict(all_future_input)\n",
    "    predicteddf=forecast[['ds', 'yhat']]\n",
    "    return list(predicteddf['yhat'])"
   ]
  },
  {
   "cell_type": "code",
   "execution_count": 7,
   "metadata": {},
   "outputs": [],
   "source": [
    "def prophetnderivatives(df, horizon, horizon_freq, n_derivs, regressors, retail_data=True):\n",
    "    '''\n",
    "    Parameters:\n",
    "        df (dataframe): ['ds'] contains all dates, ['y'] contains all values (train and test combined)\n",
    "        horizon (int): length of test set/number of predictions\n",
    "        horizon_freq (string): time interval between predictions\n",
    "        n_derivs (int): number of derivative regressors to use\n",
    "        regressors (dataframe): all values for regressors\n",
    "        retail_data (bool): set to True when running on real data\n",
    "        \n",
    "    Returns:\n",
    "        Percentage of variance explained for holdout\n",
    "    '''\n",
    "    data_length = len(df.index) - horizon\n",
    "    \n",
    "    if n_derivs == 0:\n",
    "        pred = prophetpredict(df.head(data_length), horizon + n_derivs, horizon_freq, regressors, retail_data)\n",
    "        return holdout_variance_explained(pred, horizon, list(df['y']))\n",
    "        \n",
    "    pred = prophetpredict(df.head(data_length), horizon + n_derivs, horizon_freq, pd.DataFrame(), retail_data)\n",
    "    \n",
    "    y_train = list(df['y'].head(data_length))\n",
    "    \n",
    "    col_names = ['derivative_' + str(i+1) for i in range(n_derivs)]\n",
    "    future_derivatives = kthderiv(y_train + pred[data_length:], n_derivs, data_length + horizon)[:,1:]\n",
    "    future_derivatives = pd.DataFrame(data=future_derivatives, columns=col_names)\n",
    "    all_future_regressors = pd.concat((future_derivatives, regressors), axis=1)\n",
    "\n",
    "    P = prophetpredict(df.head(data_length), horizon, horizon_freq, all_future_regressors, retail_data)\n",
    "    variance_explained = holdout_variance_explained(P, horizon, list(df['y']))\n",
    "    return variance_explained"
   ]
  },
  {
   "cell_type": "markdown",
   "metadata": {},
   "source": [
    "# Sales Data Example"
   ]
  },
  {
   "cell_type": "code",
   "execution_count": 8,
   "metadata": {},
   "outputs": [],
   "source": [
    "salesdata = pd.read_excel('All_Data_Formatted.xlsx', header=1)\n",
    "salesdata = salesdata.rename({'date':'ds'}, axis=1)\n",
    "salesdata = salesdata.iloc[84:204, :]\n",
    "ds = salesdata['ds']\n",
    "sales = salesdata.iloc[:, 1:13]\n",
    "indicators = salesdata.iloc[:, 13:]\n",
    "indicators.reset_index(inplace=True, drop=True)\n",
    "sales = pd.concat((ds, sales), axis=1)\n",
    "sales.reset_index(inplace=True, drop=True)"
   ]
  },
  {
   "cell_type": "code",
   "execution_count": 9,
   "metadata": {},
   "outputs": [
    {
     "name": "stdout",
     "output_type": "stream",
     "text": [
      "            ds   RSAFS  RSFSXMV  RSHPCS  RSGASS  RSCCAS  RSSGHBMS  RSGMS  \\\n",
      "0     2010/1/1  346043   289245   21187   37399   17351      6507  49844   \n",
      "1     2010/2/1  346835   291032   21199   36950   17402      6412  50538   \n",
      "2     2010/3/1  354360   293463   21363   37123   17908      6515  50095   \n",
      "3     2010/4/1  357461   295638   21471   37218   17724      6409  50650   \n",
      "4     2010/5/1  354255   292684   21399   36606   17656      6496  50023   \n",
      "..         ...     ...      ...     ...     ...     ...       ...    ...   \n",
      "115   2019/8/1  521158   415426   28580   42735   22615      6740  60074   \n",
      "116   2019/9/1  517755   414270   28600   42589   22376      6698  59377   \n",
      "117  2019/10/1  519519   416179   28809   43254   22417      6742  59662   \n",
      "118  2019/11/1  521774   416055   28576   43246   22184      6532  60033   \n",
      "119  2019/12/1  525903   422153   28267   44459   23230      6720  60632   \n",
      "\n",
      "     RSDSELD  RSMSR  RSNSR  RSFSDP   RSXFS  \n",
      "0      15585   8363  27236   37700  308343  \n",
      "1      15507   8251  27249   38267  308568  \n",
      "2      15479   8705  27852   38376  315984  \n",
      "3      15744   8567  27767   38658  318803  \n",
      "4      15399   8632  27752   38695  315560  \n",
      "..       ...    ...    ...     ...     ...  \n",
      "115    11369  11045  63727   65191  455967  \n",
      "116    11042  10997  63995   65707  452048  \n",
      "117    10969  11156  64346   66068  453451  \n",
      "118    11109  11255  64466   65841  455933  \n",
      "119    10954  11096  66026   66980  458923  \n",
      "\n",
      "[120 rows x 13 columns]\n",
      "     break_inflate10  employ_rate  indust_prod  mortgage_rate30  \\\n",
      "0           2.358421    66.750593      89.1936           5.0300   \n",
      "1           2.272105    66.709214      89.5089           4.9900   \n",
      "2           2.219130    66.732157      90.1449           4.9675   \n",
      "3           2.345909    66.868325      90.4740           5.0980   \n",
      "4           2.113000    66.755470      91.7131           4.8875   \n",
      "..               ...          ...          ...              ...   \n",
      "115         1.586364    71.435858     102.9086           3.6160   \n",
      "116         1.587000    71.722503     102.5790           3.6050   \n",
      "117         1.560909    71.687213     101.7775           3.6880   \n",
      "118         1.640526    71.676521     102.0979           3.6950   \n",
      "119         1.718095    71.688613     101.7632           3.7200   \n",
      "\n",
      "     Sticky_Price_Cpi  International_Trade   Med_Cpi         CPI  \n",
      "0            1.177002         136725000000  0.680111   91.422556  \n",
      "1            1.054847         133898000000 -0.106628   91.445339  \n",
      "2            0.931839         157728000000 -0.286064   91.820840  \n",
      "3            0.876030         153163000000  0.452616   91.980322  \n",
      "4            0.799868         156124000000  0.275748   92.051625  \n",
      "..                ...                  ...       ...         ...  \n",
      "115          2.633395         215385000000  2.587546  108.244556  \n",
      "116          2.616559         206362000000  2.820512  108.329360  \n",
      "117          2.734200         219158000000  2.360034  108.577022  \n",
      "118          2.760463         199187000000  3.130819  108.518798  \n",
      "119          2.724503         202080000000  2.430809  108.420071  \n",
      "\n",
      "[120 rows x 8 columns]\n"
     ]
    }
   ],
   "source": [
    "print(sales)\n",
    "print(indicators)"
   ]
  },
  {
   "cell_type": "code",
   "execution_count": 10,
   "metadata": {
    "scrolled": true
   },
   "outputs": [
    {
     "name": "stderr",
     "output_type": "stream",
     "text": [
      "10:43:21 - cmdstanpy - INFO - Chain [1] start processing\n",
      "10:43:21 - cmdstanpy - INFO - Chain [1] done processing\n",
      "10:43:24 - cmdstanpy - INFO - Chain [1] start processing\n"
     ]
    },
    {
     "name": "stdout",
     "output_type": "stream",
     "text": [
      "RSAFS 0 15.324039282504836\n"
     ]
    },
    {
     "name": "stderr",
     "output_type": "stream",
     "text": [
      "10:43:24 - cmdstanpy - INFO - Chain [1] done processing\n",
      "10:43:27 - cmdstanpy - INFO - Chain [1] start processing\n",
      "10:43:27 - cmdstanpy - INFO - Chain [1] done processing\n"
     ]
    },
    {
     "name": "stdout",
     "output_type": "stream",
     "text": [
      "RSAFS break_inflate10 0 48.79709787286957\n"
     ]
    },
    {
     "name": "stderr",
     "output_type": "stream",
     "text": [
      "10:43:29 - cmdstanpy - INFO - Chain [1] start processing\n",
      "10:43:29 - cmdstanpy - INFO - Chain [1] done processing\n"
     ]
    },
    {
     "name": "stdout",
     "output_type": "stream",
     "text": [
      "RSAFS employ_rate 0 17.580306778847593\n"
     ]
    },
    {
     "name": "stderr",
     "output_type": "stream",
     "text": [
      "10:43:32 - cmdstanpy - INFO - Chain [1] start processing\n",
      "10:43:32 - cmdstanpy - INFO - Chain [1] done processing\n"
     ]
    },
    {
     "name": "stdout",
     "output_type": "stream",
     "text": [
      "RSAFS indust_prod 0 40.397271311262955\n"
     ]
    },
    {
     "name": "stderr",
     "output_type": "stream",
     "text": [
      "10:43:34 - cmdstanpy - INFO - Chain [1] start processing\n",
      "10:43:35 - cmdstanpy - INFO - Chain [1] done processing\n"
     ]
    },
    {
     "name": "stdout",
     "output_type": "stream",
     "text": [
      "RSAFS mortgage_rate30 0 30.09247933334104\n"
     ]
    },
    {
     "name": "stderr",
     "output_type": "stream",
     "text": [
      "10:43:37 - cmdstanpy - INFO - Chain [1] start processing\n",
      "10:43:37 - cmdstanpy - INFO - Chain [1] done processing\n"
     ]
    },
    {
     "name": "stdout",
     "output_type": "stream",
     "text": [
      "RSAFS Sticky_Price_Cpi 0 8.796487664497905\n"
     ]
    },
    {
     "name": "stderr",
     "output_type": "stream",
     "text": [
      "10:43:40 - cmdstanpy - INFO - Chain [1] start processing\n"
     ]
    },
    {
     "name": "stdout",
     "output_type": "stream",
     "text": [
      "RSAFS International_Trade 0 22.208134838879527\n"
     ]
    },
    {
     "name": "stderr",
     "output_type": "stream",
     "text": [
      "10:43:40 - cmdstanpy - INFO - Chain [1] done processing\n",
      "10:43:42 - cmdstanpy - INFO - Chain [1] start processing\n",
      "10:43:42 - cmdstanpy - INFO - Chain [1] done processing\n"
     ]
    },
    {
     "name": "stdout",
     "output_type": "stream",
     "text": [
      "RSAFS Med_Cpi 0 12.55654250586534\n"
     ]
    },
    {
     "name": "stderr",
     "output_type": "stream",
     "text": [
      "10:43:44 - cmdstanpy - INFO - Chain [1] start processing\n",
      "10:43:44 - cmdstanpy - INFO - Chain [1] done processing\n"
     ]
    },
    {
     "name": "stdout",
     "output_type": "stream",
     "text": [
      "RSAFS CPI 0 39.414006179951436\n"
     ]
    },
    {
     "name": "stderr",
     "output_type": "stream",
     "text": [
      "10:43:47 - cmdstanpy - INFO - Chain [1] start processing\n",
      "10:43:47 - cmdstanpy - INFO - Chain [1] done processing\n",
      "10:43:49 - cmdstanpy - INFO - Chain [1] start processing\n",
      "10:43:49 - cmdstanpy - INFO - Chain [1] done processing\n"
     ]
    },
    {
     "name": "stdout",
     "output_type": "stream",
     "text": [
      "RSAFS 1 3.285462457799921\n"
     ]
    },
    {
     "name": "stderr",
     "output_type": "stream",
     "text": [
      "10:43:52 - cmdstanpy - INFO - Chain [1] start processing\n",
      "10:43:52 - cmdstanpy - INFO - Chain [1] done processing\n"
     ]
    },
    {
     "name": "stdout",
     "output_type": "stream",
     "text": [
      "RSAFS break_inflate10 1 48.0284379316779\n"
     ]
    },
    {
     "name": "stderr",
     "output_type": "stream",
     "text": [
      "10:43:54 - cmdstanpy - INFO - Chain [1] start processing\n",
      "10:43:54 - cmdstanpy - INFO - Chain [1] done processing\n",
      "10:43:57 - cmdstanpy - INFO - Chain [1] start processing\n",
      "10:43:57 - cmdstanpy - INFO - Chain [1] done processing\n",
      "10:44:00 - cmdstanpy - INFO - Chain [1] start processing\n"
     ]
    },
    {
     "name": "stdout",
     "output_type": "stream",
     "text": [
      "RSAFS employ_rate 1 6.376847267564993\n"
     ]
    },
    {
     "name": "stderr",
     "output_type": "stream",
     "text": [
      "10:44:00 - cmdstanpy - INFO - Chain [1] done processing\n",
      "10:44:03 - cmdstanpy - INFO - Chain [1] start processing\n",
      "10:44:03 - cmdstanpy - INFO - Chain [1] done processing\n",
      "10:44:05 - cmdstanpy - INFO - Chain [1] start processing\n",
      "10:44:05 - cmdstanpy - INFO - Chain [1] done processing\n"
     ]
    },
    {
     "name": "stdout",
     "output_type": "stream",
     "text": [
      "RSAFS indust_prod 1 29.193287956124653\n"
     ]
    },
    {
     "name": "stderr",
     "output_type": "stream",
     "text": [
      "10:44:08 - cmdstanpy - INFO - Chain [1] start processing\n",
      "10:44:08 - cmdstanpy - INFO - Chain [1] done processing\n",
      "10:44:10 - cmdstanpy - INFO - Chain [1] start processing\n",
      "10:44:10 - cmdstanpy - INFO - Chain [1] done processing\n"
     ]
    },
    {
     "name": "stdout",
     "output_type": "stream",
     "text": [
      "RSAFS mortgage_rate30 1 8.426087472248426\n"
     ]
    },
    {
     "name": "stderr",
     "output_type": "stream",
     "text": [
      "10:44:13 - cmdstanpy - INFO - Chain [1] start processing\n",
      "10:44:13 - cmdstanpy - INFO - Chain [1] done processing\n",
      "10:44:15 - cmdstanpy - INFO - Chain [1] start processing\n",
      "10:44:15 - cmdstanpy - INFO - Chain [1] done processing\n"
     ]
    },
    {
     "name": "stdout",
     "output_type": "stream",
     "text": [
      "RSAFS Sticky_Price_Cpi 1 -9.202840746607892\n"
     ]
    },
    {
     "name": "stderr",
     "output_type": "stream",
     "text": [
      "10:44:18 - cmdstanpy - INFO - Chain [1] start processing\n",
      "10:44:18 - cmdstanpy - INFO - Chain [1] done processing\n",
      "10:44:20 - cmdstanpy - INFO - Chain [1] start processing\n",
      "10:44:20 - cmdstanpy - INFO - Chain [1] done processing\n"
     ]
    },
    {
     "name": "stdout",
     "output_type": "stream",
     "text": [
      "RSAFS International_Trade 1 24.9342614866889\n"
     ]
    },
    {
     "name": "stderr",
     "output_type": "stream",
     "text": [
      "10:44:23 - cmdstanpy - INFO - Chain [1] start processing\n",
      "10:44:23 - cmdstanpy - INFO - Chain [1] done processing\n",
      "10:44:25 - cmdstanpy - INFO - Chain [1] start processing\n"
     ]
    },
    {
     "name": "stdout",
     "output_type": "stream",
     "text": [
      "RSAFS Med_Cpi 1 -3.1282212095777377\n"
     ]
    },
    {
     "name": "stderr",
     "output_type": "stream",
     "text": [
      "10:44:25 - cmdstanpy - INFO - Chain [1] done processing\n",
      "10:44:28 - cmdstanpy - INFO - Chain [1] start processing\n",
      "10:44:28 - cmdstanpy - INFO - Chain [1] done processing\n",
      "10:44:30 - cmdstanpy - INFO - Chain [1] start processing\n",
      "10:44:30 - cmdstanpy - INFO - Chain [1] done processing\n"
     ]
    },
    {
     "name": "stdout",
     "output_type": "stream",
     "text": [
      "RSAFS CPI 1 34.215260484161874\n"
     ]
    },
    {
     "name": "stderr",
     "output_type": "stream",
     "text": [
      "10:44:33 - cmdstanpy - INFO - Chain [1] start processing\n",
      "10:44:33 - cmdstanpy - INFO - Chain [1] done processing\n",
      "10:44:35 - cmdstanpy - INFO - Chain [1] start processing\n"
     ]
    },
    {
     "name": "stdout",
     "output_type": "stream",
     "text": [
      "RSAFS 2 -15.070082773067393\n"
     ]
    },
    {
     "name": "stderr",
     "output_type": "stream",
     "text": [
      "10:44:35 - cmdstanpy - INFO - Chain [1] done processing\n",
      "10:44:38 - cmdstanpy - INFO - Chain [1] start processing\n",
      "10:44:38 - cmdstanpy - INFO - Chain [1] done processing\n",
      "10:44:40 - cmdstanpy - INFO - Chain [1] start processing\n",
      "10:44:40 - cmdstanpy - INFO - Chain [1] done processing\n"
     ]
    },
    {
     "name": "stdout",
     "output_type": "stream",
     "text": [
      "RSAFS break_inflate10 2 12.712921203924635\n"
     ]
    },
    {
     "name": "stderr",
     "output_type": "stream",
     "text": [
      "10:44:43 - cmdstanpy - INFO - Chain [1] start processing\n",
      "10:44:43 - cmdstanpy - INFO - Chain [1] done processing\n",
      "10:44:45 - cmdstanpy - INFO - Chain [1] start processing\n",
      "10:44:45 - cmdstanpy - INFO - Chain [1] done processing\n"
     ]
    },
    {
     "name": "stdout",
     "output_type": "stream",
     "text": [
      "RSAFS employ_rate 2 -29.33104573004061\n"
     ]
    },
    {
     "name": "stderr",
     "output_type": "stream",
     "text": [
      "10:44:48 - cmdstanpy - INFO - Chain [1] start processing\n",
      "10:44:48 - cmdstanpy - INFO - Chain [1] done processing\n",
      "10:44:50 - cmdstanpy - INFO - Chain [1] start processing\n",
      "10:44:50 - cmdstanpy - INFO - Chain [1] done processing\n"
     ]
    },
    {
     "name": "stdout",
     "output_type": "stream",
     "text": [
      "RSAFS indust_prod 2 -27.63982133015661\n"
     ]
    },
    {
     "name": "stderr",
     "output_type": "stream",
     "text": [
      "10:44:53 - cmdstanpy - INFO - Chain [1] start processing\n",
      "10:44:53 - cmdstanpy - INFO - Chain [1] done processing\n",
      "10:44:55 - cmdstanpy - INFO - Chain [1] start processing\n",
      "10:44:55 - cmdstanpy - INFO - Chain [1] done processing\n"
     ]
    },
    {
     "name": "stdout",
     "output_type": "stream",
     "text": [
      "RSAFS mortgage_rate30 2 -15.328444337143814\n"
     ]
    },
    {
     "name": "stderr",
     "output_type": "stream",
     "text": [
      "10:44:57 - cmdstanpy - INFO - Chain [1] start processing\n",
      "10:44:57 - cmdstanpy - INFO - Chain [1] done processing\n",
      "10:45:00 - cmdstanpy - INFO - Chain [1] start processing\n",
      "10:45:00 - cmdstanpy - INFO - Chain [1] done processing\n"
     ]
    },
    {
     "name": "stdout",
     "output_type": "stream",
     "text": [
      "RSAFS Sticky_Price_Cpi 2 -26.588774154877896\n"
     ]
    },
    {
     "name": "stderr",
     "output_type": "stream",
     "text": [
      "10:45:02 - cmdstanpy - INFO - Chain [1] start processing\n",
      "10:45:02 - cmdstanpy - INFO - Chain [1] done processing\n",
      "10:45:05 - cmdstanpy - INFO - Chain [1] start processing\n",
      "10:45:05 - cmdstanpy - INFO - Chain [1] done processing\n"
     ]
    },
    {
     "name": "stdout",
     "output_type": "stream",
     "text": [
      "RSAFS International_Trade 2 18.589036429977384\n"
     ]
    },
    {
     "name": "stderr",
     "output_type": "stream",
     "text": [
      "10:45:07 - cmdstanpy - INFO - Chain [1] start processing\n",
      "10:45:07 - cmdstanpy - INFO - Chain [1] done processing\n",
      "10:45:09 - cmdstanpy - INFO - Chain [1] start processing\n",
      "10:45:09 - cmdstanpy - INFO - Chain [1] done processing\n"
     ]
    },
    {
     "name": "stdout",
     "output_type": "stream",
     "text": [
      "RSAFS Med_Cpi 2 -29.645749528053805\n"
     ]
    },
    {
     "name": "stderr",
     "output_type": "stream",
     "text": [
      "10:45:12 - cmdstanpy - INFO - Chain [1] start processing\n",
      "10:45:12 - cmdstanpy - INFO - Chain [1] done processing\n",
      "10:45:14 - cmdstanpy - INFO - Chain [1] start processing\n",
      "10:45:14 - cmdstanpy - INFO - Chain [1] done processing\n"
     ]
    },
    {
     "name": "stdout",
     "output_type": "stream",
     "text": [
      "RSAFS CPI 2 13.174529285989925\n"
     ]
    },
    {
     "name": "stderr",
     "output_type": "stream",
     "text": [
      "10:45:17 - cmdstanpy - INFO - Chain [1] start processing\n",
      "10:45:17 - cmdstanpy - INFO - Chain [1] done processing\n",
      "10:45:19 - cmdstanpy - INFO - Chain [1] start processing\n",
      "10:45:19 - cmdstanpy - INFO - Chain [1] done processing\n"
     ]
    },
    {
     "name": "stdout",
     "output_type": "stream",
     "text": [
      "RSAFS 3 -68.60296391872214\n"
     ]
    },
    {
     "name": "stderr",
     "output_type": "stream",
     "text": [
      "10:45:22 - cmdstanpy - INFO - Chain [1] start processing\n",
      "10:45:22 - cmdstanpy - INFO - Chain [1] done processing\n",
      "10:45:24 - cmdstanpy - INFO - Chain [1] start processing\n",
      "10:45:24 - cmdstanpy - INFO - Chain [1] done processing\n"
     ]
    },
    {
     "name": "stdout",
     "output_type": "stream",
     "text": [
      "RSAFS break_inflate10 3 -6.040890252743045\n"
     ]
    },
    {
     "name": "stderr",
     "output_type": "stream",
     "text": [
      "10:45:27 - cmdstanpy - INFO - Chain [1] start processing\n",
      "10:45:27 - cmdstanpy - INFO - Chain [1] done processing\n",
      "10:45:29 - cmdstanpy - INFO - Chain [1] start processing\n",
      "10:45:29 - cmdstanpy - INFO - Chain [1] done processing\n"
     ]
    },
    {
     "name": "stdout",
     "output_type": "stream",
     "text": [
      "RSAFS employ_rate 3 -40.20227676846038\n"
     ]
    },
    {
     "name": "stderr",
     "output_type": "stream",
     "text": [
      "10:45:32 - cmdstanpy - INFO - Chain [1] start processing\n",
      "10:45:32 - cmdstanpy - INFO - Chain [1] done processing\n",
      "10:45:34 - cmdstanpy - INFO - Chain [1] start processing\n",
      "10:45:34 - cmdstanpy - INFO - Chain [1] done processing\n"
     ]
    },
    {
     "name": "stdout",
     "output_type": "stream",
     "text": [
      "RSAFS indust_prod 3 -98.62425170828718\n"
     ]
    },
    {
     "name": "stderr",
     "output_type": "stream",
     "text": [
      "10:45:36 - cmdstanpy - INFO - Chain [1] start processing\n",
      "10:45:36 - cmdstanpy - INFO - Chain [1] done processing\n",
      "10:45:39 - cmdstanpy - INFO - Chain [1] start processing\n",
      "10:45:39 - cmdstanpy - INFO - Chain [1] done processing\n"
     ]
    },
    {
     "name": "stdout",
     "output_type": "stream",
     "text": [
      "RSAFS mortgage_rate30 3 -80.44329808072328\n"
     ]
    },
    {
     "name": "stderr",
     "output_type": "stream",
     "text": [
      "10:45:41 - cmdstanpy - INFO - Chain [1] start processing\n",
      "10:45:41 - cmdstanpy - INFO - Chain [1] done processing\n",
      "10:45:43 - cmdstanpy - INFO - Chain [1] start processing\n",
      "10:45:43 - cmdstanpy - INFO - Chain [1] done processing\n"
     ]
    },
    {
     "name": "stdout",
     "output_type": "stream",
     "text": [
      "RSAFS Sticky_Price_Cpi 3 -76.93496342804823\n"
     ]
    },
    {
     "name": "stderr",
     "output_type": "stream",
     "text": [
      "10:45:46 - cmdstanpy - INFO - Chain [1] start processing\n",
      "10:45:46 - cmdstanpy - INFO - Chain [1] done processing\n",
      "10:45:48 - cmdstanpy - INFO - Chain [1] start processing\n",
      "10:45:48 - cmdstanpy - INFO - Chain [1] done processing\n"
     ]
    },
    {
     "name": "stdout",
     "output_type": "stream",
     "text": [
      "RSAFS International_Trade 3 -30.37469820270497\n"
     ]
    },
    {
     "name": "stderr",
     "output_type": "stream",
     "text": [
      "10:45:51 - cmdstanpy - INFO - Chain [1] start processing\n",
      "10:45:51 - cmdstanpy - INFO - Chain [1] done processing\n",
      "10:45:53 - cmdstanpy - INFO - Chain [1] start processing\n",
      "10:45:53 - cmdstanpy - INFO - Chain [1] done processing\n"
     ]
    },
    {
     "name": "stdout",
     "output_type": "stream",
     "text": [
      "RSAFS Med_Cpi 3 -38.12315230949524\n"
     ]
    },
    {
     "name": "stderr",
     "output_type": "stream",
     "text": [
      "10:45:56 - cmdstanpy - INFO - Chain [1] start processing\n",
      "10:45:56 - cmdstanpy - INFO - Chain [1] done processing\n",
      "10:46:00 - cmdstanpy - INFO - Chain [1] start processing\n",
      "10:46:00 - cmdstanpy - INFO - Chain [1] done processing\n"
     ]
    },
    {
     "name": "stdout",
     "output_type": "stream",
     "text": [
      "RSAFS CPI 3 -47.13675922021665\n"
     ]
    },
    {
     "name": "stderr",
     "output_type": "stream",
     "text": [
      "10:46:02 - cmdstanpy - INFO - Chain [1] start processing\n",
      "10:46:02 - cmdstanpy - INFO - Chain [1] done processing\n",
      "10:46:05 - cmdstanpy - INFO - Chain [1] start processing\n",
      "10:46:05 - cmdstanpy - INFO - Chain [1] done processing\n"
     ]
    },
    {
     "name": "stdout",
     "output_type": "stream",
     "text": [
      "RSAFS 4 -247.80828983025626\n"
     ]
    },
    {
     "name": "stderr",
     "output_type": "stream",
     "text": [
      "10:46:08 - cmdstanpy - INFO - Chain [1] start processing\n",
      "10:46:08 - cmdstanpy - INFO - Chain [1] done processing\n",
      "10:46:12 - cmdstanpy - INFO - Chain [1] start processing\n",
      "10:46:12 - cmdstanpy - INFO - Chain [1] done processing\n"
     ]
    },
    {
     "name": "stdout",
     "output_type": "stream",
     "text": [
      "RSAFS break_inflate10 4 -164.5182854953899\n"
     ]
    },
    {
     "name": "stderr",
     "output_type": "stream",
     "text": [
      "10:46:15 - cmdstanpy - INFO - Chain [1] start processing\n",
      "10:46:15 - cmdstanpy - INFO - Chain [1] done processing\n"
     ]
    },
    {
     "name": "stdout",
     "output_type": "stream",
     "text": [
      "RSAFS employ_rate 4 -528.6958286470121\n"
     ]
    },
    {
     "name": "stderr",
     "output_type": "stream",
     "text": [
      "10:46:19 - cmdstanpy - INFO - Chain [1] start processing\n",
      "10:46:19 - cmdstanpy - INFO - Chain [1] done processing\n",
      "10:46:22 - cmdstanpy - INFO - Chain [1] start processing\n",
      "10:46:22 - cmdstanpy - INFO - Chain [1] done processing\n",
      "10:46:24 - cmdstanpy - INFO - Chain [1] start processing\n",
      "10:46:24 - cmdstanpy - INFO - Chain [1] done processing\n"
     ]
    },
    {
     "name": "stdout",
     "output_type": "stream",
     "text": [
      "RSAFS indust_prod 4 -473.72456809397335\n"
     ]
    },
    {
     "name": "stderr",
     "output_type": "stream",
     "text": [
      "10:46:26 - cmdstanpy - INFO - Chain [1] start processing\n",
      "10:46:26 - cmdstanpy - INFO - Chain [1] done processing\n",
      "10:46:29 - cmdstanpy - INFO - Chain [1] start processing\n",
      "10:46:29 - cmdstanpy - INFO - Chain [1] done processing\n"
     ]
    },
    {
     "name": "stdout",
     "output_type": "stream",
     "text": [
      "RSAFS mortgage_rate30 4 -389.6466287988913\n"
     ]
    },
    {
     "name": "stderr",
     "output_type": "stream",
     "text": [
      "10:46:31 - cmdstanpy - INFO - Chain [1] start processing\n",
      "10:46:32 - cmdstanpy - INFO - Chain [1] done processing\n",
      "10:46:34 - cmdstanpy - INFO - Chain [1] start processing\n",
      "10:46:34 - cmdstanpy - INFO - Chain [1] done processing\n"
     ]
    },
    {
     "name": "stdout",
     "output_type": "stream",
     "text": [
      "RSAFS Sticky_Price_Cpi 4 -405.3990150374348\n"
     ]
    },
    {
     "name": "stderr",
     "output_type": "stream",
     "text": [
      "10:46:36 - cmdstanpy - INFO - Chain [1] start processing\n",
      "10:46:36 - cmdstanpy - INFO - Chain [1] done processing\n",
      "10:46:38 - cmdstanpy - INFO - Chain [1] start processing\n",
      "10:46:39 - cmdstanpy - INFO - Chain [1] done processing\n"
     ]
    },
    {
     "name": "stdout",
     "output_type": "stream",
     "text": [
      "RSAFS International_Trade 4 -216.79947647786943\n"
     ]
    },
    {
     "name": "stderr",
     "output_type": "stream",
     "text": [
      "10:46:41 - cmdstanpy - INFO - Chain [1] start processing\n",
      "10:46:41 - cmdstanpy - INFO - Chain [1] done processing\n",
      "10:46:43 - cmdstanpy - INFO - Chain [1] start processing\n",
      "10:46:43 - cmdstanpy - INFO - Chain [1] done processing\n"
     ]
    },
    {
     "name": "stdout",
     "output_type": "stream",
     "text": [
      "RSAFS Med_Cpi 4 -173.532253670072\n"
     ]
    },
    {
     "name": "stderr",
     "output_type": "stream",
     "text": [
      "10:46:45 - cmdstanpy - INFO - Chain [1] start processing\n",
      "10:46:46 - cmdstanpy - INFO - Chain [1] done processing\n",
      "10:46:48 - cmdstanpy - INFO - Chain [1] start processing\n",
      "10:46:48 - cmdstanpy - INFO - Chain [1] done processing\n"
     ]
    },
    {
     "name": "stdout",
     "output_type": "stream",
     "text": [
      "RSAFS CPI 4 -108.01187157175758\n"
     ]
    },
    {
     "name": "stderr",
     "output_type": "stream",
     "text": [
      "10:46:50 - cmdstanpy - INFO - Chain [1] start processing\n",
      "10:46:50 - cmdstanpy - INFO - Chain [1] done processing\n"
     ]
    },
    {
     "name": "stdout",
     "output_type": "stream",
     "text": [
      "RSFSXMV 0 -7.847762127188558\n"
     ]
    },
    {
     "name": "stderr",
     "output_type": "stream",
     "text": [
      "10:46:52 - cmdstanpy - INFO - Chain [1] start processing\n",
      "10:46:52 - cmdstanpy - INFO - Chain [1] done processing\n"
     ]
    },
    {
     "name": "stdout",
     "output_type": "stream",
     "text": [
      "RSFSXMV break_inflate10 0 39.98704377614626\n"
     ]
    },
    {
     "name": "stderr",
     "output_type": "stream",
     "text": [
      "10:46:55 - cmdstanpy - INFO - Chain [1] start processing\n",
      "10:46:55 - cmdstanpy - INFO - Chain [1] done processing\n"
     ]
    },
    {
     "name": "stdout",
     "output_type": "stream",
     "text": [
      "RSFSXMV employ_rate 0 -5.93155599980137\n"
     ]
    },
    {
     "name": "stderr",
     "output_type": "stream",
     "text": [
      "10:46:57 - cmdstanpy - INFO - Chain [1] start processing\n",
      "10:46:57 - cmdstanpy - INFO - Chain [1] done processing\n"
     ]
    },
    {
     "name": "stdout",
     "output_type": "stream",
     "text": [
      "RSFSXMV indust_prod 0 37.52509187983609\n"
     ]
    },
    {
     "name": "stderr",
     "output_type": "stream",
     "text": [
      "10:46:59 - cmdstanpy - INFO - Chain [1] start processing\n",
      "10:46:59 - cmdstanpy - INFO - Chain [1] done processing\n"
     ]
    },
    {
     "name": "stdout",
     "output_type": "stream",
     "text": [
      "RSFSXMV mortgage_rate30 0 19.803129908073842\n"
     ]
    },
    {
     "name": "stderr",
     "output_type": "stream",
     "text": [
      "10:47:02 - cmdstanpy - INFO - Chain [1] start processing\n",
      "10:47:02 - cmdstanpy - INFO - Chain [1] done processing\n"
     ]
    },
    {
     "name": "stdout",
     "output_type": "stream",
     "text": [
      "RSFSXMV Sticky_Price_Cpi 0 -19.174074726344408\n"
     ]
    },
    {
     "name": "stderr",
     "output_type": "stream",
     "text": [
      "10:47:04 - cmdstanpy - INFO - Chain [1] start processing\n",
      "10:47:04 - cmdstanpy - INFO - Chain [1] done processing\n"
     ]
    },
    {
     "name": "stdout",
     "output_type": "stream",
     "text": [
      "RSFSXMV International_Trade 0 24.201525187939346\n"
     ]
    },
    {
     "name": "stderr",
     "output_type": "stream",
     "text": [
      "10:47:06 - cmdstanpy - INFO - Chain [1] start processing\n",
      "10:47:06 - cmdstanpy - INFO - Chain [1] done processing\n"
     ]
    },
    {
     "name": "stdout",
     "output_type": "stream",
     "text": [
      "RSFSXMV Med_Cpi 0 -5.804297308462242\n"
     ]
    },
    {
     "name": "stderr",
     "output_type": "stream",
     "text": [
      "10:47:08 - cmdstanpy - INFO - Chain [1] start processing\n",
      "10:47:08 - cmdstanpy - INFO - Chain [1] done processing\n"
     ]
    },
    {
     "name": "stdout",
     "output_type": "stream",
     "text": [
      "RSFSXMV CPI 0 19.21401619406685\n"
     ]
    },
    {
     "name": "stderr",
     "output_type": "stream",
     "text": [
      "10:47:11 - cmdstanpy - INFO - Chain [1] start processing\n",
      "10:47:11 - cmdstanpy - INFO - Chain [1] done processing\n",
      "10:47:13 - cmdstanpy - INFO - Chain [1] start processing\n",
      "10:47:13 - cmdstanpy - INFO - Chain [1] done processing\n"
     ]
    },
    {
     "name": "stdout",
     "output_type": "stream",
     "text": [
      "RSFSXMV 1 -16.01190098440583\n"
     ]
    },
    {
     "name": "stderr",
     "output_type": "stream",
     "text": [
      "10:47:15 - cmdstanpy - INFO - Chain [1] start processing\n",
      "10:47:15 - cmdstanpy - INFO - Chain [1] done processing\n",
      "10:47:17 - cmdstanpy - INFO - Chain [1] start processing\n",
      "10:47:17 - cmdstanpy - INFO - Chain [1] done processing\n"
     ]
    },
    {
     "name": "stdout",
     "output_type": "stream",
     "text": [
      "RSFSXMV break_inflate10 1 33.2449861445088\n"
     ]
    },
    {
     "name": "stderr",
     "output_type": "stream",
     "text": [
      "10:47:20 - cmdstanpy - INFO - Chain [1] start processing\n",
      "10:47:20 - cmdstanpy - INFO - Chain [1] done processing\n",
      "10:47:22 - cmdstanpy - INFO - Chain [1] start processing\n",
      "10:47:22 - cmdstanpy - INFO - Chain [1] done processing\n"
     ]
    },
    {
     "name": "stdout",
     "output_type": "stream",
     "text": [
      "RSFSXMV employ_rate 1 -11.045704413562605\n"
     ]
    },
    {
     "name": "stderr",
     "output_type": "stream",
     "text": [
      "10:47:24 - cmdstanpy - INFO - Chain [1] start processing\n",
      "10:47:24 - cmdstanpy - INFO - Chain [1] done processing\n",
      "10:47:26 - cmdstanpy - INFO - Chain [1] start processing\n",
      "10:47:26 - cmdstanpy - INFO - Chain [1] done processing\n"
     ]
    },
    {
     "name": "stdout",
     "output_type": "stream",
     "text": [
      "RSFSXMV indust_prod 1 20.878480184820532\n"
     ]
    },
    {
     "name": "stderr",
     "output_type": "stream",
     "text": [
      "10:47:29 - cmdstanpy - INFO - Chain [1] start processing\n",
      "10:47:29 - cmdstanpy - INFO - Chain [1] done processing\n",
      "10:47:31 - cmdstanpy - INFO - Chain [1] start processing\n",
      "10:47:31 - cmdstanpy - INFO - Chain [1] done processing\n"
     ]
    },
    {
     "name": "stdout",
     "output_type": "stream",
     "text": [
      "RSFSXMV mortgage_rate30 1 3.3818754502737356\n"
     ]
    },
    {
     "name": "stderr",
     "output_type": "stream",
     "text": [
      "10:47:33 - cmdstanpy - INFO - Chain [1] start processing\n",
      "10:47:33 - cmdstanpy - INFO - Chain [1] done processing\n",
      "10:47:36 - cmdstanpy - INFO - Chain [1] start processing\n",
      "10:47:36 - cmdstanpy - INFO - Chain [1] done processing\n"
     ]
    },
    {
     "name": "stdout",
     "output_type": "stream",
     "text": [
      "RSFSXMV Sticky_Price_Cpi 1 -27.64541904348665\n"
     ]
    },
    {
     "name": "stderr",
     "output_type": "stream",
     "text": [
      "10:47:38 - cmdstanpy - INFO - Chain [1] start processing\n",
      "10:47:38 - cmdstanpy - INFO - Chain [1] done processing\n",
      "10:47:40 - cmdstanpy - INFO - Chain [1] start processing\n",
      "10:47:40 - cmdstanpy - INFO - Chain [1] done processing\n"
     ]
    },
    {
     "name": "stdout",
     "output_type": "stream",
     "text": [
      "RSFSXMV International_Trade 1 25.848352806257267\n"
     ]
    },
    {
     "name": "stderr",
     "output_type": "stream",
     "text": [
      "10:47:42 - cmdstanpy - INFO - Chain [1] start processing\n",
      "10:47:42 - cmdstanpy - INFO - Chain [1] done processing\n",
      "10:47:45 - cmdstanpy - INFO - Chain [1] start processing\n",
      "10:47:45 - cmdstanpy - INFO - Chain [1] done processing\n"
     ]
    },
    {
     "name": "stdout",
     "output_type": "stream",
     "text": [
      "RSFSXMV Med_Cpi 1 -17.90828168265883\n"
     ]
    },
    {
     "name": "stderr",
     "output_type": "stream",
     "text": [
      "10:47:47 - cmdstanpy - INFO - Chain [1] start processing\n",
      "10:47:47 - cmdstanpy - INFO - Chain [1] done processing\n",
      "10:47:50 - cmdstanpy - INFO - Chain [1] start processing\n",
      "10:47:50 - cmdstanpy - INFO - Chain [1] done processing\n"
     ]
    },
    {
     "name": "stdout",
     "output_type": "stream",
     "text": [
      "RSFSXMV CPI 1 19.842909833652996\n"
     ]
    },
    {
     "name": "stderr",
     "output_type": "stream",
     "text": [
      "10:47:52 - cmdstanpy - INFO - Chain [1] start processing\n",
      "10:47:53 - cmdstanpy - INFO - Chain [1] done processing\n",
      "10:47:55 - cmdstanpy - INFO - Chain [1] start processing\n",
      "10:47:55 - cmdstanpy - INFO - Chain [1] done processing\n"
     ]
    },
    {
     "name": "stdout",
     "output_type": "stream",
     "text": [
      "RSFSXMV 2 -45.93480913043509\n"
     ]
    },
    {
     "name": "stderr",
     "output_type": "stream",
     "text": [
      "10:47:57 - cmdstanpy - INFO - Chain [1] start processing\n",
      "10:47:57 - cmdstanpy - INFO - Chain [1] done processing\n",
      "10:47:59 - cmdstanpy - INFO - Chain [1] start processing\n",
      "10:47:59 - cmdstanpy - INFO - Chain [1] done processing\n"
     ]
    },
    {
     "name": "stdout",
     "output_type": "stream",
     "text": [
      "RSFSXMV break_inflate10 2 37.392875737426614\n"
     ]
    },
    {
     "name": "stderr",
     "output_type": "stream",
     "text": [
      "10:48:01 - cmdstanpy - INFO - Chain [1] start processing\n",
      "10:48:01 - cmdstanpy - INFO - Chain [1] done processing\n",
      "10:48:03 - cmdstanpy - INFO - Chain [1] start processing\n",
      "10:48:03 - cmdstanpy - INFO - Chain [1] done processing\n"
     ]
    },
    {
     "name": "stdout",
     "output_type": "stream",
     "text": [
      "RSFSXMV employ_rate 2 -47.729280308427946\n"
     ]
    },
    {
     "name": "stderr",
     "output_type": "stream",
     "text": [
      "10:48:05 - cmdstanpy - INFO - Chain [1] start processing\n",
      "10:48:05 - cmdstanpy - INFO - Chain [1] done processing\n",
      "10:48:07 - cmdstanpy - INFO - Chain [1] start processing\n",
      "10:48:07 - cmdstanpy - INFO - Chain [1] done processing\n"
     ]
    },
    {
     "name": "stdout",
     "output_type": "stream",
     "text": [
      "RSFSXMV indust_prod 2 -48.15061694550374\n"
     ]
    },
    {
     "name": "stderr",
     "output_type": "stream",
     "text": [
      "10:48:09 - cmdstanpy - INFO - Chain [1] start processing\n",
      "10:48:09 - cmdstanpy - INFO - Chain [1] done processing\n",
      "10:48:11 - cmdstanpy - INFO - Chain [1] start processing\n",
      "10:48:11 - cmdstanpy - INFO - Chain [1] done processing\n"
     ]
    },
    {
     "name": "stdout",
     "output_type": "stream",
     "text": [
      "RSFSXMV mortgage_rate30 2 -38.32962322115112\n"
     ]
    },
    {
     "name": "stderr",
     "output_type": "stream",
     "text": [
      "10:48:13 - cmdstanpy - INFO - Chain [1] start processing\n",
      "10:48:13 - cmdstanpy - INFO - Chain [1] done processing\n",
      "10:48:15 - cmdstanpy - INFO - Chain [1] start processing\n",
      "10:48:15 - cmdstanpy - INFO - Chain [1] done processing\n"
     ]
    },
    {
     "name": "stdout",
     "output_type": "stream",
     "text": [
      "RSFSXMV Sticky_Price_Cpi 2 -83.12926177953281\n"
     ]
    },
    {
     "name": "stderr",
     "output_type": "stream",
     "text": [
      "10:48:17 - cmdstanpy - INFO - Chain [1] start processing\n",
      "10:48:17 - cmdstanpy - INFO - Chain [1] done processing\n",
      "10:48:19 - cmdstanpy - INFO - Chain [1] start processing\n",
      "10:48:19 - cmdstanpy - INFO - Chain [1] done processing\n"
     ]
    },
    {
     "name": "stdout",
     "output_type": "stream",
     "text": [
      "RSFSXMV International_Trade 2 2.2810560684553187\n"
     ]
    },
    {
     "name": "stderr",
     "output_type": "stream",
     "text": [
      "10:48:21 - cmdstanpy - INFO - Chain [1] start processing\n",
      "10:48:21 - cmdstanpy - INFO - Chain [1] done processing\n",
      "10:48:23 - cmdstanpy - INFO - Chain [1] start processing\n",
      "10:48:23 - cmdstanpy - INFO - Chain [1] done processing\n"
     ]
    },
    {
     "name": "stdout",
     "output_type": "stream",
     "text": [
      "RSFSXMV Med_Cpi 2 -36.74692371785533\n"
     ]
    },
    {
     "name": "stderr",
     "output_type": "stream",
     "text": [
      "10:48:25 - cmdstanpy - INFO - Chain [1] start processing\n",
      "10:48:25 - cmdstanpy - INFO - Chain [1] done processing\n",
      "10:48:27 - cmdstanpy - INFO - Chain [1] start processing\n",
      "10:48:27 - cmdstanpy - INFO - Chain [1] done processing\n"
     ]
    },
    {
     "name": "stdout",
     "output_type": "stream",
     "text": [
      "RSFSXMV CPI 2 -2.0738677735372497\n"
     ]
    },
    {
     "name": "stderr",
     "output_type": "stream",
     "text": [
      "10:48:29 - cmdstanpy - INFO - Chain [1] start processing\n",
      "10:48:29 - cmdstanpy - INFO - Chain [1] done processing\n",
      "10:48:31 - cmdstanpy - INFO - Chain [1] start processing\n",
      "10:48:31 - cmdstanpy - INFO - Chain [1] done processing\n"
     ]
    },
    {
     "name": "stdout",
     "output_type": "stream",
     "text": [
      "RSFSXMV 3 -164.60116072411844\n"
     ]
    },
    {
     "name": "stderr",
     "output_type": "stream",
     "text": [
      "10:48:33 - cmdstanpy - INFO - Chain [1] start processing\n",
      "10:48:33 - cmdstanpy - INFO - Chain [1] done processing\n",
      "10:48:35 - cmdstanpy - INFO - Chain [1] start processing\n",
      "10:48:35 - cmdstanpy - INFO - Chain [1] done processing\n"
     ]
    },
    {
     "name": "stdout",
     "output_type": "stream",
     "text": [
      "RSFSXMV break_inflate10 3 -38.88186426886409\n"
     ]
    },
    {
     "name": "stderr",
     "output_type": "stream",
     "text": [
      "10:48:37 - cmdstanpy - INFO - Chain [1] start processing\n",
      "10:48:37 - cmdstanpy - INFO - Chain [1] done processing\n",
      "10:48:39 - cmdstanpy - INFO - Chain [1] start processing\n",
      "10:48:39 - cmdstanpy - INFO - Chain [1] done processing\n"
     ]
    },
    {
     "name": "stdout",
     "output_type": "stream",
     "text": [
      "RSFSXMV employ_rate 3 -57.13195198001112\n"
     ]
    },
    {
     "name": "stderr",
     "output_type": "stream",
     "text": [
      "10:48:41 - cmdstanpy - INFO - Chain [1] start processing\n",
      "10:48:41 - cmdstanpy - INFO - Chain [1] done processing\n",
      "10:48:43 - cmdstanpy - INFO - Chain [1] start processing\n",
      "10:48:43 - cmdstanpy - INFO - Chain [1] done processing\n"
     ]
    },
    {
     "name": "stdout",
     "output_type": "stream",
     "text": [
      "RSFSXMV indust_prod 3 -306.94980304758326\n"
     ]
    },
    {
     "name": "stderr",
     "output_type": "stream",
     "text": [
      "10:48:45 - cmdstanpy - INFO - Chain [1] start processing\n",
      "10:48:45 - cmdstanpy - INFO - Chain [1] done processing\n",
      "10:48:47 - cmdstanpy - INFO - Chain [1] start processing\n",
      "10:48:47 - cmdstanpy - INFO - Chain [1] done processing\n"
     ]
    },
    {
     "name": "stdout",
     "output_type": "stream",
     "text": [
      "RSFSXMV mortgage_rate30 3 -168.97238143793066\n"
     ]
    },
    {
     "name": "stderr",
     "output_type": "stream",
     "text": [
      "10:48:49 - cmdstanpy - INFO - Chain [1] start processing\n",
      "10:48:49 - cmdstanpy - INFO - Chain [1] done processing\n",
      "10:48:51 - cmdstanpy - INFO - Chain [1] start processing\n",
      "10:48:51 - cmdstanpy - INFO - Chain [1] done processing\n"
     ]
    },
    {
     "name": "stdout",
     "output_type": "stream",
     "text": [
      "RSFSXMV Sticky_Price_Cpi 3 -77.31636921094749\n"
     ]
    },
    {
     "name": "stderr",
     "output_type": "stream",
     "text": [
      "10:48:53 - cmdstanpy - INFO - Chain [1] start processing\n",
      "10:48:53 - cmdstanpy - INFO - Chain [1] done processing\n",
      "10:48:55 - cmdstanpy - INFO - Chain [1] start processing\n",
      "10:48:55 - cmdstanpy - INFO - Chain [1] done processing\n"
     ]
    },
    {
     "name": "stdout",
     "output_type": "stream",
     "text": [
      "RSFSXMV International_Trade 3 -65.77989504289583\n"
     ]
    },
    {
     "name": "stderr",
     "output_type": "stream",
     "text": [
      "10:48:57 - cmdstanpy - INFO - Chain [1] start processing\n",
      "10:48:57 - cmdstanpy - INFO - Chain [1] done processing\n",
      "10:48:59 - cmdstanpy - INFO - Chain [1] start processing\n",
      "10:48:59 - cmdstanpy - INFO - Chain [1] done processing\n"
     ]
    },
    {
     "name": "stdout",
     "output_type": "stream",
     "text": [
      "RSFSXMV Med_Cpi 3 -190.03243017086996\n"
     ]
    },
    {
     "name": "stderr",
     "output_type": "stream",
     "text": [
      "10:49:01 - cmdstanpy - INFO - Chain [1] start processing\n",
      "10:49:01 - cmdstanpy - INFO - Chain [1] done processing\n",
      "10:49:03 - cmdstanpy - INFO - Chain [1] start processing\n",
      "10:49:03 - cmdstanpy - INFO - Chain [1] done processing\n"
     ]
    },
    {
     "name": "stdout",
     "output_type": "stream",
     "text": [
      "RSFSXMV CPI 3 -26.133720556377586\n"
     ]
    },
    {
     "name": "stderr",
     "output_type": "stream",
     "text": [
      "10:49:05 - cmdstanpy - INFO - Chain [1] start processing\n",
      "10:49:05 - cmdstanpy - INFO - Chain [1] done processing\n",
      "10:49:07 - cmdstanpy - INFO - Chain [1] start processing\n",
      "10:49:07 - cmdstanpy - INFO - Chain [1] done processing\n"
     ]
    },
    {
     "name": "stdout",
     "output_type": "stream",
     "text": [
      "RSFSXMV 4 -591.6900627076096\n"
     ]
    },
    {
     "name": "stderr",
     "output_type": "stream",
     "text": [
      "10:49:09 - cmdstanpy - INFO - Chain [1] start processing\n",
      "10:49:09 - cmdstanpy - INFO - Chain [1] done processing\n",
      "10:49:11 - cmdstanpy - INFO - Chain [1] start processing\n",
      "10:49:11 - cmdstanpy - INFO - Chain [1] done processing\n"
     ]
    },
    {
     "name": "stdout",
     "output_type": "stream",
     "text": [
      "RSFSXMV break_inflate10 4 -72.93004680738893\n"
     ]
    },
    {
     "name": "stderr",
     "output_type": "stream",
     "text": [
      "10:49:14 - cmdstanpy - INFO - Chain [1] start processing\n",
      "10:49:14 - cmdstanpy - INFO - Chain [1] done processing\n",
      "10:49:16 - cmdstanpy - INFO - Chain [1] start processing\n",
      "10:49:16 - cmdstanpy - INFO - Chain [1] done processing\n"
     ]
    },
    {
     "name": "stdout",
     "output_type": "stream",
     "text": [
      "RSFSXMV employ_rate 4 -166.79807448278376\n"
     ]
    },
    {
     "name": "stderr",
     "output_type": "stream",
     "text": [
      "10:49:18 - cmdstanpy - INFO - Chain [1] start processing\n",
      "10:49:18 - cmdstanpy - INFO - Chain [1] done processing\n",
      "10:49:20 - cmdstanpy - INFO - Chain [1] start processing\n",
      "10:49:20 - cmdstanpy - INFO - Chain [1] done processing\n"
     ]
    },
    {
     "name": "stdout",
     "output_type": "stream",
     "text": [
      "RSFSXMV indust_prod 4 -303.7117164397889\n"
     ]
    },
    {
     "name": "stderr",
     "output_type": "stream",
     "text": [
      "10:49:22 - cmdstanpy - INFO - Chain [1] start processing\n",
      "10:49:22 - cmdstanpy - INFO - Chain [1] done processing\n",
      "10:49:24 - cmdstanpy - INFO - Chain [1] start processing\n",
      "10:49:24 - cmdstanpy - INFO - Chain [1] done processing\n"
     ]
    },
    {
     "name": "stdout",
     "output_type": "stream",
     "text": [
      "RSFSXMV mortgage_rate30 4 -102.79320464322691\n"
     ]
    },
    {
     "name": "stderr",
     "output_type": "stream",
     "text": [
      "10:49:26 - cmdstanpy - INFO - Chain [1] start processing\n",
      "10:49:26 - cmdstanpy - INFO - Chain [1] done processing\n",
      "10:49:28 - cmdstanpy - INFO - Chain [1] start processing\n",
      "10:49:28 - cmdstanpy - INFO - Chain [1] done processing\n"
     ]
    },
    {
     "name": "stdout",
     "output_type": "stream",
     "text": [
      "RSFSXMV Sticky_Price_Cpi 4 -192.44592816218164\n"
     ]
    },
    {
     "name": "stderr",
     "output_type": "stream",
     "text": [
      "10:49:30 - cmdstanpy - INFO - Chain [1] start processing\n",
      "10:49:30 - cmdstanpy - INFO - Chain [1] done processing\n",
      "10:49:32 - cmdstanpy - INFO - Chain [1] start processing\n",
      "10:49:32 - cmdstanpy - INFO - Chain [1] done processing\n"
     ]
    },
    {
     "name": "stdout",
     "output_type": "stream",
     "text": [
      "RSFSXMV International_Trade 4 -234.73775170858332\n"
     ]
    },
    {
     "name": "stderr",
     "output_type": "stream",
     "text": [
      "10:49:34 - cmdstanpy - INFO - Chain [1] start processing\n",
      "10:49:34 - cmdstanpy - INFO - Chain [1] done processing\n",
      "10:49:36 - cmdstanpy - INFO - Chain [1] start processing\n",
      "10:49:36 - cmdstanpy - INFO - Chain [1] done processing\n"
     ]
    },
    {
     "name": "stdout",
     "output_type": "stream",
     "text": [
      "RSFSXMV Med_Cpi 4 -301.02866927756514\n"
     ]
    },
    {
     "name": "stderr",
     "output_type": "stream",
     "text": [
      "10:49:38 - cmdstanpy - INFO - Chain [1] start processing\n",
      "10:49:38 - cmdstanpy - INFO - Chain [1] done processing\n",
      "10:49:40 - cmdstanpy - INFO - Chain [1] start processing\n",
      "10:49:40 - cmdstanpy - INFO - Chain [1] done processing\n"
     ]
    },
    {
     "name": "stdout",
     "output_type": "stream",
     "text": [
      "RSFSXMV CPI 4 -54.73361678948141\n"
     ]
    },
    {
     "name": "stderr",
     "output_type": "stream",
     "text": [
      "10:49:42 - cmdstanpy - INFO - Chain [1] start processing\n",
      "10:49:42 - cmdstanpy - INFO - Chain [1] done processing\n"
     ]
    },
    {
     "name": "stdout",
     "output_type": "stream",
     "text": [
      "RSHPCS 0 -356.0426699461252\n"
     ]
    },
    {
     "name": "stderr",
     "output_type": "stream",
     "text": [
      "10:49:44 - cmdstanpy - INFO - Chain [1] start processing\n",
      "10:49:45 - cmdstanpy - INFO - Chain [1] done processing\n"
     ]
    },
    {
     "name": "stdout",
     "output_type": "stream",
     "text": [
      "RSHPCS break_inflate10 0 -422.27676338948686\n"
     ]
    },
    {
     "name": "stderr",
     "output_type": "stream",
     "text": [
      "10:49:47 - cmdstanpy - INFO - Chain [1] start processing\n",
      "10:49:47 - cmdstanpy - INFO - Chain [1] done processing\n"
     ]
    },
    {
     "name": "stdout",
     "output_type": "stream",
     "text": [
      "RSHPCS employ_rate 0 -359.5963622758549\n"
     ]
    },
    {
     "name": "stderr",
     "output_type": "stream",
     "text": [
      "10:49:49 - cmdstanpy - INFO - Chain [1] start processing\n",
      "10:49:49 - cmdstanpy - INFO - Chain [1] done processing\n"
     ]
    },
    {
     "name": "stdout",
     "output_type": "stream",
     "text": [
      "RSHPCS indust_prod 0 -400.6293701235866\n"
     ]
    },
    {
     "name": "stderr",
     "output_type": "stream",
     "text": [
      "10:49:51 - cmdstanpy - INFO - Chain [1] start processing\n",
      "10:49:51 - cmdstanpy - INFO - Chain [1] done processing\n"
     ]
    },
    {
     "name": "stdout",
     "output_type": "stream",
     "text": [
      "RSHPCS mortgage_rate30 0 -408.92402359894834\n"
     ]
    },
    {
     "name": "stderr",
     "output_type": "stream",
     "text": [
      "10:49:53 - cmdstanpy - INFO - Chain [1] start processing\n",
      "10:49:53 - cmdstanpy - INFO - Chain [1] done processing\n"
     ]
    },
    {
     "name": "stdout",
     "output_type": "stream",
     "text": [
      "RSHPCS Sticky_Price_Cpi 0 -367.2496140246702\n"
     ]
    },
    {
     "name": "stderr",
     "output_type": "stream",
     "text": [
      "10:49:55 - cmdstanpy - INFO - Chain [1] start processing\n",
      "10:49:55 - cmdstanpy - INFO - Chain [1] done processing\n"
     ]
    },
    {
     "name": "stdout",
     "output_type": "stream",
     "text": [
      "RSHPCS International_Trade 0 -381.6131561998884\n"
     ]
    },
    {
     "name": "stderr",
     "output_type": "stream",
     "text": [
      "10:49:57 - cmdstanpy - INFO - Chain [1] start processing\n",
      "10:49:57 - cmdstanpy - INFO - Chain [1] done processing\n"
     ]
    },
    {
     "name": "stdout",
     "output_type": "stream",
     "text": [
      "RSHPCS Med_Cpi 0 -352.70646901936715\n"
     ]
    },
    {
     "name": "stderr",
     "output_type": "stream",
     "text": [
      "10:49:59 - cmdstanpy - INFO - Chain [1] start processing\n",
      "10:49:59 - cmdstanpy - INFO - Chain [1] done processing\n"
     ]
    },
    {
     "name": "stdout",
     "output_type": "stream",
     "text": [
      "RSHPCS CPI 0 -360.9818834843601\n"
     ]
    },
    {
     "name": "stderr",
     "output_type": "stream",
     "text": [
      "10:50:01 - cmdstanpy - INFO - Chain [1] start processing\n",
      "10:50:01 - cmdstanpy - INFO - Chain [1] done processing\n",
      "10:50:03 - cmdstanpy - INFO - Chain [1] start processing\n",
      "10:50:03 - cmdstanpy - INFO - Chain [1] done processing\n"
     ]
    },
    {
     "name": "stdout",
     "output_type": "stream",
     "text": [
      "RSHPCS 1 -810.5032352472322\n"
     ]
    },
    {
     "name": "stderr",
     "output_type": "stream",
     "text": [
      "10:50:05 - cmdstanpy - INFO - Chain [1] start processing\n",
      "10:50:05 - cmdstanpy - INFO - Chain [1] done processing\n",
      "10:50:07 - cmdstanpy - INFO - Chain [1] start processing\n",
      "10:50:07 - cmdstanpy - INFO - Chain [1] done processing\n"
     ]
    },
    {
     "name": "stdout",
     "output_type": "stream",
     "text": [
      "RSHPCS break_inflate10 1 -681.3937026391989\n"
     ]
    },
    {
     "name": "stderr",
     "output_type": "stream",
     "text": [
      "10:50:09 - cmdstanpy - INFO - Chain [1] start processing\n",
      "10:50:09 - cmdstanpy - INFO - Chain [1] done processing\n",
      "10:50:11 - cmdstanpy - INFO - Chain [1] start processing\n",
      "10:50:11 - cmdstanpy - INFO - Chain [1] done processing\n"
     ]
    },
    {
     "name": "stdout",
     "output_type": "stream",
     "text": [
      "RSHPCS employ_rate 1 -399.95519843658786\n"
     ]
    },
    {
     "name": "stderr",
     "output_type": "stream",
     "text": [
      "10:50:12 - cmdstanpy - INFO - Chain [1] start processing\n",
      "10:50:13 - cmdstanpy - INFO - Chain [1] done processing\n",
      "10:50:14 - cmdstanpy - INFO - Chain [1] start processing\n",
      "10:50:14 - cmdstanpy - INFO - Chain [1] done processing\n"
     ]
    },
    {
     "name": "stdout",
     "output_type": "stream",
     "text": [
      "RSHPCS indust_prod 1 -563.8157891613911\n"
     ]
    },
    {
     "name": "stderr",
     "output_type": "stream",
     "text": [
      "10:50:16 - cmdstanpy - INFO - Chain [1] start processing\n",
      "10:50:16 - cmdstanpy - INFO - Chain [1] done processing\n",
      "10:50:18 - cmdstanpy - INFO - Chain [1] start processing\n",
      "10:50:18 - cmdstanpy - INFO - Chain [1] done processing\n"
     ]
    },
    {
     "name": "stdout",
     "output_type": "stream",
     "text": [
      "RSHPCS mortgage_rate30 1 -762.525085426134\n"
     ]
    },
    {
     "name": "stderr",
     "output_type": "stream",
     "text": [
      "10:50:20 - cmdstanpy - INFO - Chain [1] start processing\n",
      "10:50:20 - cmdstanpy - INFO - Chain [1] done processing\n",
      "10:50:22 - cmdstanpy - INFO - Chain [1] start processing\n",
      "10:50:23 - cmdstanpy - INFO - Chain [1] done processing\n"
     ]
    },
    {
     "name": "stdout",
     "output_type": "stream",
     "text": [
      "RSHPCS Sticky_Price_Cpi 1 -391.01076635469656\n"
     ]
    },
    {
     "name": "stderr",
     "output_type": "stream",
     "text": [
      "10:50:25 - cmdstanpy - INFO - Chain [1] start processing\n",
      "10:50:25 - cmdstanpy - INFO - Chain [1] done processing\n",
      "10:50:27 - cmdstanpy - INFO - Chain [1] start processing\n",
      "10:50:27 - cmdstanpy - INFO - Chain [1] done processing\n"
     ]
    },
    {
     "name": "stdout",
     "output_type": "stream",
     "text": [
      "RSHPCS International_Trade 1 -830.1690013970449\n"
     ]
    },
    {
     "name": "stderr",
     "output_type": "stream",
     "text": [
      "10:50:29 - cmdstanpy - INFO - Chain [1] start processing\n",
      "10:50:29 - cmdstanpy - INFO - Chain [1] done processing\n",
      "10:50:31 - cmdstanpy - INFO - Chain [1] start processing\n",
      "10:50:31 - cmdstanpy - INFO - Chain [1] done processing\n"
     ]
    },
    {
     "name": "stdout",
     "output_type": "stream",
     "text": [
      "RSHPCS Med_Cpi 1 -879.3637280432098\n"
     ]
    },
    {
     "name": "stderr",
     "output_type": "stream",
     "text": [
      "10:50:33 - cmdstanpy - INFO - Chain [1] start processing\n",
      "10:50:33 - cmdstanpy - INFO - Chain [1] done processing\n",
      "10:50:35 - cmdstanpy - INFO - Chain [1] start processing\n",
      "10:50:35 - cmdstanpy - INFO - Chain [1] done processing\n"
     ]
    },
    {
     "name": "stdout",
     "output_type": "stream",
     "text": [
      "RSHPCS CPI 1 -404.08324267441895\n"
     ]
    },
    {
     "name": "stderr",
     "output_type": "stream",
     "text": [
      "10:50:37 - cmdstanpy - INFO - Chain [1] start processing\n",
      "10:50:37 - cmdstanpy - INFO - Chain [1] done processing\n",
      "10:50:39 - cmdstanpy - INFO - Chain [1] start processing\n",
      "10:50:39 - cmdstanpy - INFO - Chain [1] done processing\n"
     ]
    },
    {
     "name": "stdout",
     "output_type": "stream",
     "text": [
      "RSHPCS 2 -850.978541444665\n"
     ]
    },
    {
     "name": "stderr",
     "output_type": "stream",
     "text": [
      "10:50:41 - cmdstanpy - INFO - Chain [1] start processing\n",
      "10:50:41 - cmdstanpy - INFO - Chain [1] done processing\n",
      "10:50:43 - cmdstanpy - INFO - Chain [1] start processing\n",
      "10:50:43 - cmdstanpy - INFO - Chain [1] done processing\n"
     ]
    },
    {
     "name": "stdout",
     "output_type": "stream",
     "text": [
      "RSHPCS break_inflate10 2 -893.1360318932674\n"
     ]
    },
    {
     "name": "stderr",
     "output_type": "stream",
     "text": [
      "10:50:45 - cmdstanpy - INFO - Chain [1] start processing\n",
      "10:50:45 - cmdstanpy - INFO - Chain [1] done processing\n",
      "10:50:47 - cmdstanpy - INFO - Chain [1] start processing\n",
      "10:50:47 - cmdstanpy - INFO - Chain [1] done processing\n"
     ]
    },
    {
     "name": "stdout",
     "output_type": "stream",
     "text": [
      "RSHPCS employ_rate 2 -895.2767754092664\n"
     ]
    },
    {
     "name": "stderr",
     "output_type": "stream",
     "text": [
      "10:50:49 - cmdstanpy - INFO - Chain [1] start processing\n",
      "10:50:49 - cmdstanpy - INFO - Chain [1] done processing\n",
      "10:50:51 - cmdstanpy - INFO - Chain [1] start processing\n",
      "10:50:51 - cmdstanpy - INFO - Chain [1] done processing\n"
     ]
    },
    {
     "name": "stdout",
     "output_type": "stream",
     "text": [
      "RSHPCS indust_prod 2 -627.2280704058546\n"
     ]
    },
    {
     "name": "stderr",
     "output_type": "stream",
     "text": [
      "10:50:53 - cmdstanpy - INFO - Chain [1] start processing\n",
      "10:50:53 - cmdstanpy - INFO - Chain [1] done processing\n",
      "10:50:55 - cmdstanpy - INFO - Chain [1] start processing\n",
      "10:50:55 - cmdstanpy - INFO - Chain [1] done processing\n"
     ]
    },
    {
     "name": "stdout",
     "output_type": "stream",
     "text": [
      "RSHPCS mortgage_rate30 2 -779.1524216778918\n"
     ]
    },
    {
     "name": "stderr",
     "output_type": "stream",
     "text": [
      "10:50:57 - cmdstanpy - INFO - Chain [1] start processing\n",
      "10:50:57 - cmdstanpy - INFO - Chain [1] done processing\n",
      "10:50:59 - cmdstanpy - INFO - Chain [1] start processing\n",
      "10:50:59 - cmdstanpy - INFO - Chain [1] done processing\n"
     ]
    },
    {
     "name": "stdout",
     "output_type": "stream",
     "text": [
      "RSHPCS Sticky_Price_Cpi 2 -849.6718442015401\n"
     ]
    },
    {
     "name": "stderr",
     "output_type": "stream",
     "text": [
      "10:51:01 - cmdstanpy - INFO - Chain [1] start processing\n",
      "10:51:01 - cmdstanpy - INFO - Chain [1] done processing\n",
      "10:51:03 - cmdstanpy - INFO - Chain [1] start processing\n",
      "10:51:03 - cmdstanpy - INFO - Chain [1] done processing\n"
     ]
    },
    {
     "name": "stdout",
     "output_type": "stream",
     "text": [
      "RSHPCS International_Trade 2 -893.827677787876\n"
     ]
    },
    {
     "name": "stderr",
     "output_type": "stream",
     "text": [
      "10:51:05 - cmdstanpy - INFO - Chain [1] start processing\n",
      "10:51:05 - cmdstanpy - INFO - Chain [1] done processing\n",
      "10:51:07 - cmdstanpy - INFO - Chain [1] start processing\n",
      "10:51:07 - cmdstanpy - INFO - Chain [1] done processing\n"
     ]
    },
    {
     "name": "stdout",
     "output_type": "stream",
     "text": [
      "RSHPCS Med_Cpi 2 -810.8588797604051\n"
     ]
    },
    {
     "name": "stderr",
     "output_type": "stream",
     "text": [
      "10:51:09 - cmdstanpy - INFO - Chain [1] start processing\n",
      "10:51:09 - cmdstanpy - INFO - Chain [1] done processing\n",
      "10:51:11 - cmdstanpy - INFO - Chain [1] start processing\n",
      "10:51:11 - cmdstanpy - INFO - Chain [1] done processing\n"
     ]
    },
    {
     "name": "stdout",
     "output_type": "stream",
     "text": [
      "RSHPCS CPI 2 -894.5691358373953\n"
     ]
    },
    {
     "name": "stderr",
     "output_type": "stream",
     "text": [
      "10:51:13 - cmdstanpy - INFO - Chain [1] start processing\n",
      "10:51:13 - cmdstanpy - INFO - Chain [1] done processing\n",
      "10:51:15 - cmdstanpy - INFO - Chain [1] start processing\n",
      "10:51:15 - cmdstanpy - INFO - Chain [1] done processing\n"
     ]
    },
    {
     "name": "stdout",
     "output_type": "stream",
     "text": [
      "RSHPCS 3 -802.8228239009663\n"
     ]
    },
    {
     "name": "stderr",
     "output_type": "stream",
     "text": [
      "10:51:17 - cmdstanpy - INFO - Chain [1] start processing\n",
      "10:51:17 - cmdstanpy - INFO - Chain [1] done processing\n",
      "10:51:18 - cmdstanpy - INFO - Chain [1] start processing\n",
      "10:51:19 - cmdstanpy - INFO - Chain [1] done processing\n"
     ]
    },
    {
     "name": "stdout",
     "output_type": "stream",
     "text": [
      "RSHPCS break_inflate10 3 -794.8853914871265\n"
     ]
    },
    {
     "name": "stderr",
     "output_type": "stream",
     "text": [
      "10:51:21 - cmdstanpy - INFO - Chain [1] start processing\n",
      "10:51:21 - cmdstanpy - INFO - Chain [1] done processing\n",
      "10:51:23 - cmdstanpy - INFO - Chain [1] start processing\n",
      "10:51:23 - cmdstanpy - INFO - Chain [1] done processing\n"
     ]
    },
    {
     "name": "stdout",
     "output_type": "stream",
     "text": [
      "RSHPCS employ_rate 3 -955.0519718869548\n"
     ]
    },
    {
     "name": "stderr",
     "output_type": "stream",
     "text": [
      "10:51:25 - cmdstanpy - INFO - Chain [1] start processing\n",
      "10:51:25 - cmdstanpy - INFO - Chain [1] done processing\n",
      "10:51:26 - cmdstanpy - INFO - Chain [1] start processing\n",
      "10:51:27 - cmdstanpy - INFO - Chain [1] done processing\n"
     ]
    },
    {
     "name": "stdout",
     "output_type": "stream",
     "text": [
      "RSHPCS indust_prod 3 -686.7656534716598\n"
     ]
    },
    {
     "name": "stderr",
     "output_type": "stream",
     "text": [
      "10:51:28 - cmdstanpy - INFO - Chain [1] start processing\n",
      "10:51:29 - cmdstanpy - INFO - Chain [1] done processing\n",
      "10:51:31 - cmdstanpy - INFO - Chain [1] start processing\n",
      "10:51:31 - cmdstanpy - INFO - Chain [1] done processing\n"
     ]
    },
    {
     "name": "stdout",
     "output_type": "stream",
     "text": [
      "RSHPCS mortgage_rate30 3 -828.4567957021217\n"
     ]
    },
    {
     "name": "stderr",
     "output_type": "stream",
     "text": [
      "10:51:33 - cmdstanpy - INFO - Chain [1] start processing\n",
      "10:51:33 - cmdstanpy - INFO - Chain [1] done processing\n",
      "10:51:35 - cmdstanpy - INFO - Chain [1] start processing\n",
      "10:51:35 - cmdstanpy - INFO - Chain [1] done processing\n"
     ]
    },
    {
     "name": "stdout",
     "output_type": "stream",
     "text": [
      "RSHPCS Sticky_Price_Cpi 3 -806.932071687547\n"
     ]
    },
    {
     "name": "stderr",
     "output_type": "stream",
     "text": [
      "10:51:37 - cmdstanpy - INFO - Chain [1] start processing\n",
      "10:51:37 - cmdstanpy - INFO - Chain [1] done processing\n",
      "10:51:40 - cmdstanpy - INFO - Chain [1] start processing\n",
      "10:51:40 - cmdstanpy - INFO - Chain [1] done processing\n"
     ]
    },
    {
     "name": "stdout",
     "output_type": "stream",
     "text": [
      "RSHPCS International_Trade 3 -796.5855015910117\n"
     ]
    },
    {
     "name": "stderr",
     "output_type": "stream",
     "text": [
      "10:51:42 - cmdstanpy - INFO - Chain [1] start processing\n",
      "10:51:42 - cmdstanpy - INFO - Chain [1] done processing\n",
      "10:51:44 - cmdstanpy - INFO - Chain [1] start processing\n",
      "10:51:44 - cmdstanpy - INFO - Chain [1] done processing\n"
     ]
    },
    {
     "name": "stdout",
     "output_type": "stream",
     "text": [
      "RSHPCS Med_Cpi 3 -790.9877181003707\n"
     ]
    },
    {
     "name": "stderr",
     "output_type": "stream",
     "text": [
      "10:51:46 - cmdstanpy - INFO - Chain [1] start processing\n",
      "10:51:46 - cmdstanpy - INFO - Chain [1] done processing\n",
      "10:51:48 - cmdstanpy - INFO - Chain [1] start processing\n",
      "10:51:48 - cmdstanpy - INFO - Chain [1] done processing\n"
     ]
    },
    {
     "name": "stdout",
     "output_type": "stream",
     "text": [
      "RSHPCS CPI 3 -758.4026110504782\n"
     ]
    },
    {
     "name": "stderr",
     "output_type": "stream",
     "text": [
      "10:51:50 - cmdstanpy - INFO - Chain [1] start processing\n",
      "10:51:50 - cmdstanpy - INFO - Chain [1] done processing\n",
      "10:51:52 - cmdstanpy - INFO - Chain [1] start processing\n",
      "10:51:52 - cmdstanpy - INFO - Chain [1] done processing\n"
     ]
    },
    {
     "name": "stdout",
     "output_type": "stream",
     "text": [
      "RSHPCS 4 -872.3217734700676\n"
     ]
    },
    {
     "name": "stderr",
     "output_type": "stream",
     "text": [
      "10:51:54 - cmdstanpy - INFO - Chain [1] start processing\n",
      "10:51:54 - cmdstanpy - INFO - Chain [1] done processing\n",
      "10:51:56 - cmdstanpy - INFO - Chain [1] start processing\n",
      "10:51:56 - cmdstanpy - INFO - Chain [1] done processing\n"
     ]
    },
    {
     "name": "stdout",
     "output_type": "stream",
     "text": [
      "RSHPCS break_inflate10 4 -672.8117168396774\n"
     ]
    },
    {
     "name": "stderr",
     "output_type": "stream",
     "text": [
      "10:51:58 - cmdstanpy - INFO - Chain [1] start processing\n",
      "10:51:58 - cmdstanpy - INFO - Chain [1] done processing\n",
      "10:52:00 - cmdstanpy - INFO - Chain [1] start processing\n",
      "10:52:00 - cmdstanpy - INFO - Chain [1] done processing\n"
     ]
    },
    {
     "name": "stdout",
     "output_type": "stream",
     "text": [
      "RSHPCS employ_rate 4 -1030.0229467807287\n"
     ]
    },
    {
     "name": "stderr",
     "output_type": "stream",
     "text": [
      "10:52:02 - cmdstanpy - INFO - Chain [1] start processing\n",
      "10:52:02 - cmdstanpy - INFO - Chain [1] done processing\n",
      "10:52:04 - cmdstanpy - INFO - Chain [1] start processing\n",
      "10:52:04 - cmdstanpy - INFO - Chain [1] done processing\n"
     ]
    },
    {
     "name": "stdout",
     "output_type": "stream",
     "text": [
      "RSHPCS indust_prod 4 -901.4968273391913\n"
     ]
    },
    {
     "name": "stderr",
     "output_type": "stream",
     "text": [
      "10:52:06 - cmdstanpy - INFO - Chain [1] start processing\n",
      "10:52:06 - cmdstanpy - INFO - Chain [1] done processing\n",
      "10:52:08 - cmdstanpy - INFO - Chain [1] start processing\n",
      "10:52:08 - cmdstanpy - INFO - Chain [1] done processing\n"
     ]
    },
    {
     "name": "stdout",
     "output_type": "stream",
     "text": [
      "RSHPCS mortgage_rate30 4 -736.0019928270563\n"
     ]
    },
    {
     "name": "stderr",
     "output_type": "stream",
     "text": [
      "10:52:10 - cmdstanpy - INFO - Chain [1] start processing\n",
      "10:52:10 - cmdstanpy - INFO - Chain [1] done processing\n",
      "10:52:12 - cmdstanpy - INFO - Chain [1] start processing\n",
      "10:52:12 - cmdstanpy - INFO - Chain [1] done processing\n"
     ]
    },
    {
     "name": "stdout",
     "output_type": "stream",
     "text": [
      "RSHPCS Sticky_Price_Cpi 4 -887.0824876810136\n"
     ]
    },
    {
     "name": "stderr",
     "output_type": "stream",
     "text": [
      "10:52:14 - cmdstanpy - INFO - Chain [1] start processing\n",
      "10:52:14 - cmdstanpy - INFO - Chain [1] done processing\n",
      "10:52:16 - cmdstanpy - INFO - Chain [1] start processing\n",
      "10:52:16 - cmdstanpy - INFO - Chain [1] done processing\n"
     ]
    },
    {
     "name": "stdout",
     "output_type": "stream",
     "text": [
      "RSHPCS International_Trade 4 -949.6774722795124\n"
     ]
    },
    {
     "name": "stderr",
     "output_type": "stream",
     "text": [
      "10:52:18 - cmdstanpy - INFO - Chain [1] start processing\n",
      "10:52:18 - cmdstanpy - INFO - Chain [1] done processing\n",
      "10:52:20 - cmdstanpy - INFO - Chain [1] start processing\n",
      "10:52:20 - cmdstanpy - INFO - Chain [1] done processing\n"
     ]
    },
    {
     "name": "stdout",
     "output_type": "stream",
     "text": [
      "RSHPCS Med_Cpi 4 -954.1291403617811\n"
     ]
    },
    {
     "name": "stderr",
     "output_type": "stream",
     "text": [
      "10:52:22 - cmdstanpy - INFO - Chain [1] start processing\n",
      "10:52:22 - cmdstanpy - INFO - Chain [1] done processing\n",
      "10:52:24 - cmdstanpy - INFO - Chain [1] start processing\n",
      "10:52:24 - cmdstanpy - INFO - Chain [1] done processing\n"
     ]
    },
    {
     "name": "stdout",
     "output_type": "stream",
     "text": [
      "RSHPCS CPI 4 -917.441745992109\n"
     ]
    },
    {
     "name": "stderr",
     "output_type": "stream",
     "text": [
      "10:52:26 - cmdstanpy - INFO - Chain [1] start processing\n",
      "10:52:26 - cmdstanpy - INFO - Chain [1] done processing\n"
     ]
    },
    {
     "name": "stdout",
     "output_type": "stream",
     "text": [
      "RSGASS 0 -301.1200619804295\n"
     ]
    },
    {
     "name": "stderr",
     "output_type": "stream",
     "text": [
      "10:52:28 - cmdstanpy - INFO - Chain [1] start processing\n",
      "10:52:28 - cmdstanpy - INFO - Chain [1] done processing\n"
     ]
    },
    {
     "name": "stdout",
     "output_type": "stream",
     "text": [
      "RSGASS break_inflate10 0 -39.32242071428572\n"
     ]
    },
    {
     "name": "stderr",
     "output_type": "stream",
     "text": [
      "10:52:30 - cmdstanpy - INFO - Chain [1] start processing\n",
      "10:52:30 - cmdstanpy - INFO - Chain [1] done processing\n"
     ]
    },
    {
     "name": "stdout",
     "output_type": "stream",
     "text": [
      "RSGASS employ_rate 0 -325.82991572534746\n"
     ]
    },
    {
     "name": "stderr",
     "output_type": "stream",
     "text": [
      "10:52:32 - cmdstanpy - INFO - Chain [1] start processing\n",
      "10:52:32 - cmdstanpy - INFO - Chain [1] done processing\n"
     ]
    },
    {
     "name": "stdout",
     "output_type": "stream",
     "text": [
      "RSGASS indust_prod 0 -58.21619532809545\n"
     ]
    },
    {
     "name": "stderr",
     "output_type": "stream",
     "text": [
      "10:52:34 - cmdstanpy - INFO - Chain [1] start processing\n",
      "10:52:34 - cmdstanpy - INFO - Chain [1] done processing\n"
     ]
    },
    {
     "name": "stdout",
     "output_type": "stream",
     "text": [
      "RSGASS mortgage_rate30 0 -79.6147695909238\n"
     ]
    },
    {
     "name": "stderr",
     "output_type": "stream",
     "text": [
      "10:52:36 - cmdstanpy - INFO - Chain [1] start processing\n",
      "10:52:36 - cmdstanpy - INFO - Chain [1] done processing\n"
     ]
    },
    {
     "name": "stdout",
     "output_type": "stream",
     "text": [
      "RSGASS Sticky_Price_Cpi 0 -316.35170773735217\n"
     ]
    },
    {
     "name": "stderr",
     "output_type": "stream",
     "text": [
      "10:52:38 - cmdstanpy - INFO - Chain [1] start processing\n",
      "10:52:38 - cmdstanpy - INFO - Chain [1] done processing\n"
     ]
    },
    {
     "name": "stdout",
     "output_type": "stream",
     "text": [
      "RSGASS International_Trade 0 -189.82928416260827\n"
     ]
    },
    {
     "name": "stderr",
     "output_type": "stream",
     "text": [
      "10:52:40 - cmdstanpy - INFO - Chain [1] start processing\n",
      "10:52:40 - cmdstanpy - INFO - Chain [1] done processing\n"
     ]
    },
    {
     "name": "stdout",
     "output_type": "stream",
     "text": [
      "RSGASS Med_Cpi 0 -279.5122342870686\n"
     ]
    },
    {
     "name": "stderr",
     "output_type": "stream",
     "text": [
      "10:52:42 - cmdstanpy - INFO - Chain [1] start processing\n",
      "10:52:42 - cmdstanpy - INFO - Chain [1] done processing\n"
     ]
    },
    {
     "name": "stdout",
     "output_type": "stream",
     "text": [
      "RSGASS CPI 0 -157.6573709527305\n"
     ]
    },
    {
     "name": "stderr",
     "output_type": "stream",
     "text": [
      "10:52:44 - cmdstanpy - INFO - Chain [1] start processing\n",
      "10:52:44 - cmdstanpy - INFO - Chain [1] done processing\n",
      "10:52:46 - cmdstanpy - INFO - Chain [1] start processing\n",
      "10:52:46 - cmdstanpy - INFO - Chain [1] done processing\n"
     ]
    },
    {
     "name": "stdout",
     "output_type": "stream",
     "text": [
      "RSGASS 1 -309.0382387900595\n"
     ]
    },
    {
     "name": "stderr",
     "output_type": "stream",
     "text": [
      "10:52:48 - cmdstanpy - INFO - Chain [1] start processing\n",
      "10:52:48 - cmdstanpy - INFO - Chain [1] done processing\n",
      "10:52:50 - cmdstanpy - INFO - Chain [1] start processing\n",
      "10:52:50 - cmdstanpy - INFO - Chain [1] done processing\n"
     ]
    },
    {
     "name": "stdout",
     "output_type": "stream",
     "text": [
      "RSGASS break_inflate10 1 -4.090043064768751\n"
     ]
    },
    {
     "name": "stderr",
     "output_type": "stream",
     "text": [
      "10:52:52 - cmdstanpy - INFO - Chain [1] start processing\n",
      "10:52:52 - cmdstanpy - INFO - Chain [1] done processing\n",
      "10:52:54 - cmdstanpy - INFO - Chain [1] start processing\n",
      "10:52:54 - cmdstanpy - INFO - Chain [1] done processing\n"
     ]
    },
    {
     "name": "stdout",
     "output_type": "stream",
     "text": [
      "RSGASS employ_rate 1 -365.721290177304\n"
     ]
    },
    {
     "name": "stderr",
     "output_type": "stream",
     "text": [
      "10:52:56 - cmdstanpy - INFO - Chain [1] start processing\n",
      "10:52:56 - cmdstanpy - INFO - Chain [1] done processing\n",
      "10:52:58 - cmdstanpy - INFO - Chain [1] start processing\n",
      "10:52:58 - cmdstanpy - INFO - Chain [1] done processing\n"
     ]
    },
    {
     "name": "stdout",
     "output_type": "stream",
     "text": [
      "RSGASS indust_prod 1 -115.62829391205372\n"
     ]
    },
    {
     "name": "stderr",
     "output_type": "stream",
     "text": [
      "10:53:00 - cmdstanpy - INFO - Chain [1] start processing\n",
      "10:53:00 - cmdstanpy - INFO - Chain [1] done processing\n",
      "10:53:02 - cmdstanpy - INFO - Chain [1] start processing\n",
      "10:53:02 - cmdstanpy - INFO - Chain [1] done processing\n"
     ]
    },
    {
     "name": "stdout",
     "output_type": "stream",
     "text": [
      "RSGASS mortgage_rate30 1 -115.78899441986673\n"
     ]
    },
    {
     "name": "stderr",
     "output_type": "stream",
     "text": [
      "10:53:04 - cmdstanpy - INFO - Chain [1] start processing\n",
      "10:53:04 - cmdstanpy - INFO - Chain [1] done processing\n",
      "10:53:06 - cmdstanpy - INFO - Chain [1] start processing\n",
      "10:53:06 - cmdstanpy - INFO - Chain [1] done processing\n"
     ]
    },
    {
     "name": "stdout",
     "output_type": "stream",
     "text": [
      "RSGASS Sticky_Price_Cpi 1 -357.27094063490506\n"
     ]
    },
    {
     "name": "stderr",
     "output_type": "stream",
     "text": [
      "10:53:08 - cmdstanpy - INFO - Chain [1] start processing\n",
      "10:53:08 - cmdstanpy - INFO - Chain [1] done processing\n",
      "10:53:09 - cmdstanpy - INFO - Chain [1] start processing\n",
      "10:53:10 - cmdstanpy - INFO - Chain [1] done processing\n"
     ]
    },
    {
     "name": "stdout",
     "output_type": "stream",
     "text": [
      "RSGASS International_Trade 1 -211.2904231154363\n"
     ]
    },
    {
     "name": "stderr",
     "output_type": "stream",
     "text": [
      "10:53:11 - cmdstanpy - INFO - Chain [1] start processing\n",
      "10:53:11 - cmdstanpy - INFO - Chain [1] done processing\n",
      "10:53:13 - cmdstanpy - INFO - Chain [1] start processing\n",
      "10:53:14 - cmdstanpy - INFO - Chain [1] done processing\n"
     ]
    },
    {
     "name": "stdout",
     "output_type": "stream",
     "text": [
      "RSGASS Med_Cpi 1 -348.85205542116324\n"
     ]
    },
    {
     "name": "stderr",
     "output_type": "stream",
     "text": [
      "10:53:15 - cmdstanpy - INFO - Chain [1] start processing\n",
      "10:53:15 - cmdstanpy - INFO - Chain [1] done processing\n",
      "10:53:17 - cmdstanpy - INFO - Chain [1] start processing\n",
      "10:53:17 - cmdstanpy - INFO - Chain [1] done processing\n"
     ]
    },
    {
     "name": "stdout",
     "output_type": "stream",
     "text": [
      "RSGASS CPI 1 -163.18450778242314\n"
     ]
    },
    {
     "name": "stderr",
     "output_type": "stream",
     "text": [
      "10:53:19 - cmdstanpy - INFO - Chain [1] start processing\n",
      "10:53:19 - cmdstanpy - INFO - Chain [1] done processing\n",
      "10:53:21 - cmdstanpy - INFO - Chain [1] start processing\n",
      "10:53:21 - cmdstanpy - INFO - Chain [1] done processing\n"
     ]
    },
    {
     "name": "stdout",
     "output_type": "stream",
     "text": [
      "RSGASS 2 -313.32144548140286\n"
     ]
    },
    {
     "name": "stderr",
     "output_type": "stream",
     "text": [
      "10:53:23 - cmdstanpy - INFO - Chain [1] start processing\n",
      "10:53:23 - cmdstanpy - INFO - Chain [1] done processing\n",
      "10:53:25 - cmdstanpy - INFO - Chain [1] start processing\n",
      "10:53:25 - cmdstanpy - INFO - Chain [1] done processing\n"
     ]
    },
    {
     "name": "stdout",
     "output_type": "stream",
     "text": [
      "RSGASS break_inflate10 2 13.695670087881437\n"
     ]
    },
    {
     "name": "stderr",
     "output_type": "stream",
     "text": [
      "10:53:27 - cmdstanpy - INFO - Chain [1] start processing\n",
      "10:53:27 - cmdstanpy - INFO - Chain [1] done processing\n",
      "10:53:29 - cmdstanpy - INFO - Chain [1] start processing\n",
      "10:53:29 - cmdstanpy - INFO - Chain [1] done processing\n"
     ]
    },
    {
     "name": "stdout",
     "output_type": "stream",
     "text": [
      "RSGASS employ_rate 2 -353.1412237992152\n"
     ]
    },
    {
     "name": "stderr",
     "output_type": "stream",
     "text": [
      "10:53:31 - cmdstanpy - INFO - Chain [1] start processing\n",
      "10:53:31 - cmdstanpy - INFO - Chain [1] done processing\n",
      "10:53:33 - cmdstanpy - INFO - Chain [1] start processing\n",
      "10:53:33 - cmdstanpy - INFO - Chain [1] done processing\n"
     ]
    },
    {
     "name": "stdout",
     "output_type": "stream",
     "text": [
      "RSGASS indust_prod 2 -130.3485592563225\n"
     ]
    },
    {
     "name": "stderr",
     "output_type": "stream",
     "text": [
      "10:53:35 - cmdstanpy - INFO - Chain [1] start processing\n",
      "10:53:35 - cmdstanpy - INFO - Chain [1] done processing\n",
      "10:53:37 - cmdstanpy - INFO - Chain [1] start processing\n",
      "10:53:37 - cmdstanpy - INFO - Chain [1] done processing\n"
     ]
    },
    {
     "name": "stdout",
     "output_type": "stream",
     "text": [
      "RSGASS mortgage_rate30 2 -109.39767970069907\n"
     ]
    },
    {
     "name": "stderr",
     "output_type": "stream",
     "text": [
      "10:53:39 - cmdstanpy - INFO - Chain [1] start processing\n",
      "10:53:39 - cmdstanpy - INFO - Chain [1] done processing\n",
      "10:53:41 - cmdstanpy - INFO - Chain [1] start processing\n",
      "10:53:41 - cmdstanpy - INFO - Chain [1] done processing\n"
     ]
    },
    {
     "name": "stdout",
     "output_type": "stream",
     "text": [
      "RSGASS Sticky_Price_Cpi 2 -339.5912278885995\n"
     ]
    },
    {
     "name": "stderr",
     "output_type": "stream",
     "text": [
      "10:53:43 - cmdstanpy - INFO - Chain [1] start processing\n",
      "10:53:43 - cmdstanpy - INFO - Chain [1] done processing\n",
      "10:53:45 - cmdstanpy - INFO - Chain [1] start processing\n",
      "10:53:45 - cmdstanpy - INFO - Chain [1] done processing\n"
     ]
    },
    {
     "name": "stdout",
     "output_type": "stream",
     "text": [
      "RSGASS International_Trade 2 -139.45521870566552\n"
     ]
    },
    {
     "name": "stderr",
     "output_type": "stream",
     "text": [
      "10:53:47 - cmdstanpy - INFO - Chain [1] start processing\n",
      "10:53:47 - cmdstanpy - INFO - Chain [1] done processing\n",
      "10:53:49 - cmdstanpy - INFO - Chain [1] start processing\n",
      "10:53:49 - cmdstanpy - INFO - Chain [1] done processing\n"
     ]
    },
    {
     "name": "stdout",
     "output_type": "stream",
     "text": [
      "RSGASS Med_Cpi 2 -326.93493258960393\n"
     ]
    },
    {
     "name": "stderr",
     "output_type": "stream",
     "text": [
      "10:53:51 - cmdstanpy - INFO - Chain [1] start processing\n",
      "10:53:51 - cmdstanpy - INFO - Chain [1] done processing\n",
      "10:53:53 - cmdstanpy - INFO - Chain [1] start processing\n",
      "10:53:53 - cmdstanpy - INFO - Chain [1] done processing\n"
     ]
    },
    {
     "name": "stdout",
     "output_type": "stream",
     "text": [
      "RSGASS CPI 2 -161.03374864405654\n"
     ]
    },
    {
     "name": "stderr",
     "output_type": "stream",
     "text": [
      "10:53:55 - cmdstanpy - INFO - Chain [1] start processing\n",
      "10:53:55 - cmdstanpy - INFO - Chain [1] done processing\n",
      "10:53:57 - cmdstanpy - INFO - Chain [1] start processing\n",
      "10:53:57 - cmdstanpy - INFO - Chain [1] done processing\n"
     ]
    },
    {
     "name": "stdout",
     "output_type": "stream",
     "text": [
      "RSGASS 3 -353.6045985205564\n"
     ]
    },
    {
     "name": "stderr",
     "output_type": "stream",
     "text": [
      "10:53:59 - cmdstanpy - INFO - Chain [1] start processing\n",
      "10:53:59 - cmdstanpy - INFO - Chain [1] done processing\n",
      "10:54:01 - cmdstanpy - INFO - Chain [1] start processing\n",
      "10:54:01 - cmdstanpy - INFO - Chain [1] done processing\n"
     ]
    },
    {
     "name": "stdout",
     "output_type": "stream",
     "text": [
      "RSGASS break_inflate10 3 -14.78429427030748\n"
     ]
    },
    {
     "name": "stderr",
     "output_type": "stream",
     "text": [
      "10:54:03 - cmdstanpy - INFO - Chain [1] start processing\n",
      "10:54:03 - cmdstanpy - INFO - Chain [1] done processing\n",
      "10:54:05 - cmdstanpy - INFO - Chain [1] start processing\n",
      "10:54:05 - cmdstanpy - INFO - Chain [1] done processing\n"
     ]
    },
    {
     "name": "stdout",
     "output_type": "stream",
     "text": [
      "RSGASS employ_rate 3 -391.34478581762926\n"
     ]
    },
    {
     "name": "stderr",
     "output_type": "stream",
     "text": [
      "10:54:07 - cmdstanpy - INFO - Chain [1] start processing\n",
      "10:54:07 - cmdstanpy - INFO - Chain [1] done processing\n",
      "10:54:09 - cmdstanpy - INFO - Chain [1] start processing\n",
      "10:54:09 - cmdstanpy - INFO - Chain [1] done processing\n"
     ]
    },
    {
     "name": "stdout",
     "output_type": "stream",
     "text": [
      "RSGASS indust_prod 3 -252.3201753723796\n"
     ]
    },
    {
     "name": "stderr",
     "output_type": "stream",
     "text": [
      "10:54:11 - cmdstanpy - INFO - Chain [1] start processing\n",
      "10:54:11 - cmdstanpy - INFO - Chain [1] done processing\n",
      "10:54:13 - cmdstanpy - INFO - Chain [1] start processing\n",
      "10:54:13 - cmdstanpy - INFO - Chain [1] done processing\n"
     ]
    },
    {
     "name": "stdout",
     "output_type": "stream",
     "text": [
      "RSGASS mortgage_rate30 3 -194.69092184118523\n"
     ]
    },
    {
     "name": "stderr",
     "output_type": "stream",
     "text": [
      "10:54:15 - cmdstanpy - INFO - Chain [1] start processing\n",
      "10:54:15 - cmdstanpy - INFO - Chain [1] done processing\n",
      "10:54:17 - cmdstanpy - INFO - Chain [1] start processing\n",
      "10:54:17 - cmdstanpy - INFO - Chain [1] done processing\n"
     ]
    },
    {
     "name": "stdout",
     "output_type": "stream",
     "text": [
      "RSGASS Sticky_Price_Cpi 3 -378.6835878804369\n"
     ]
    },
    {
     "name": "stderr",
     "output_type": "stream",
     "text": [
      "10:54:19 - cmdstanpy - INFO - Chain [1] start processing\n",
      "10:54:19 - cmdstanpy - INFO - Chain [1] done processing\n",
      "10:54:21 - cmdstanpy - INFO - Chain [1] start processing\n",
      "10:54:21 - cmdstanpy - INFO - Chain [1] done processing\n"
     ]
    },
    {
     "name": "stdout",
     "output_type": "stream",
     "text": [
      "RSGASS International_Trade 3 -152.0116883577649\n"
     ]
    },
    {
     "name": "stderr",
     "output_type": "stream",
     "text": [
      "10:54:23 - cmdstanpy - INFO - Chain [1] start processing\n",
      "10:54:23 - cmdstanpy - INFO - Chain [1] done processing\n",
      "10:54:25 - cmdstanpy - INFO - Chain [1] start processing\n",
      "10:54:25 - cmdstanpy - INFO - Chain [1] done processing\n"
     ]
    },
    {
     "name": "stdout",
     "output_type": "stream",
     "text": [
      "RSGASS Med_Cpi 3 -363.6104785375013\n"
     ]
    },
    {
     "name": "stderr",
     "output_type": "stream",
     "text": [
      "10:54:27 - cmdstanpy - INFO - Chain [1] start processing\n",
      "10:54:27 - cmdstanpy - INFO - Chain [1] done processing\n",
      "10:54:29 - cmdstanpy - INFO - Chain [1] start processing\n",
      "10:54:29 - cmdstanpy - INFO - Chain [1] done processing\n"
     ]
    },
    {
     "name": "stdout",
     "output_type": "stream",
     "text": [
      "RSGASS CPI 3 -176.20831269023904\n"
     ]
    },
    {
     "name": "stderr",
     "output_type": "stream",
     "text": [
      "10:54:31 - cmdstanpy - INFO - Chain [1] start processing\n",
      "10:54:31 - cmdstanpy - INFO - Chain [1] done processing\n",
      "10:54:33 - cmdstanpy - INFO - Chain [1] start processing\n",
      "10:54:33 - cmdstanpy - INFO - Chain [1] done processing\n"
     ]
    },
    {
     "name": "stdout",
     "output_type": "stream",
     "text": [
      "RSGASS 4 -417.74438319218524\n"
     ]
    },
    {
     "name": "stderr",
     "output_type": "stream",
     "text": [
      "10:54:35 - cmdstanpy - INFO - Chain [1] start processing\n",
      "10:54:35 - cmdstanpy - INFO - Chain [1] done processing\n",
      "10:54:37 - cmdstanpy - INFO - Chain [1] start processing\n",
      "10:54:37 - cmdstanpy - INFO - Chain [1] done processing\n"
     ]
    },
    {
     "name": "stdout",
     "output_type": "stream",
     "text": [
      "RSGASS break_inflate10 4 -74.62349614533223\n"
     ]
    },
    {
     "name": "stderr",
     "output_type": "stream",
     "text": [
      "10:54:39 - cmdstanpy - INFO - Chain [1] start processing\n",
      "10:54:39 - cmdstanpy - INFO - Chain [1] done processing\n",
      "10:54:40 - cmdstanpy - INFO - Chain [1] start processing\n",
      "10:54:41 - cmdstanpy - INFO - Chain [1] done processing\n"
     ]
    },
    {
     "name": "stdout",
     "output_type": "stream",
     "text": [
      "RSGASS employ_rate 4 -403.023100664564\n"
     ]
    },
    {
     "name": "stderr",
     "output_type": "stream",
     "text": [
      "10:54:42 - cmdstanpy - INFO - Chain [1] start processing\n",
      "10:54:43 - cmdstanpy - INFO - Chain [1] done processing\n",
      "10:54:45 - cmdstanpy - INFO - Chain [1] start processing\n",
      "10:54:45 - cmdstanpy - INFO - Chain [1] done processing\n"
     ]
    },
    {
     "name": "stdout",
     "output_type": "stream",
     "text": [
      "RSGASS indust_prod 4 -398.85860687459876\n"
     ]
    },
    {
     "name": "stderr",
     "output_type": "stream",
     "text": [
      "10:54:47 - cmdstanpy - INFO - Chain [1] start processing\n",
      "10:54:47 - cmdstanpy - INFO - Chain [1] done processing\n",
      "10:54:49 - cmdstanpy - INFO - Chain [1] start processing\n",
      "10:54:49 - cmdstanpy - INFO - Chain [1] done processing\n"
     ]
    },
    {
     "name": "stdout",
     "output_type": "stream",
     "text": [
      "RSGASS mortgage_rate30 4 -289.84576889313917\n"
     ]
    },
    {
     "name": "stderr",
     "output_type": "stream",
     "text": [
      "10:54:50 - cmdstanpy - INFO - Chain [1] start processing\n",
      "10:54:51 - cmdstanpy - INFO - Chain [1] done processing\n",
      "10:54:52 - cmdstanpy - INFO - Chain [1] start processing\n",
      "10:54:53 - cmdstanpy - INFO - Chain [1] done processing\n"
     ]
    },
    {
     "name": "stdout",
     "output_type": "stream",
     "text": [
      "RSGASS Sticky_Price_Cpi 4 -443.05309510262623\n"
     ]
    },
    {
     "name": "stderr",
     "output_type": "stream",
     "text": [
      "10:54:54 - cmdstanpy - INFO - Chain [1] start processing\n",
      "10:54:54 - cmdstanpy - INFO - Chain [1] done processing\n",
      "10:54:56 - cmdstanpy - INFO - Chain [1] start processing\n",
      "10:54:56 - cmdstanpy - INFO - Chain [1] done processing\n"
     ]
    },
    {
     "name": "stdout",
     "output_type": "stream",
     "text": [
      "RSGASS International_Trade 4 -168.52265182615577\n"
     ]
    },
    {
     "name": "stderr",
     "output_type": "stream",
     "text": [
      "10:54:58 - cmdstanpy - INFO - Chain [1] start processing\n",
      "10:54:58 - cmdstanpy - INFO - Chain [1] done processing\n",
      "10:55:00 - cmdstanpy - INFO - Chain [1] start processing\n",
      "10:55:00 - cmdstanpy - INFO - Chain [1] done processing\n"
     ]
    },
    {
     "name": "stdout",
     "output_type": "stream",
     "text": [
      "RSGASS Med_Cpi 4 -397.00571522044703\n"
     ]
    },
    {
     "name": "stderr",
     "output_type": "stream",
     "text": [
      "10:55:02 - cmdstanpy - INFO - Chain [1] start processing\n",
      "10:55:02 - cmdstanpy - INFO - Chain [1] done processing\n",
      "10:55:04 - cmdstanpy - INFO - Chain [1] start processing\n",
      "10:55:04 - cmdstanpy - INFO - Chain [1] done processing\n"
     ]
    },
    {
     "name": "stdout",
     "output_type": "stream",
     "text": [
      "RSGASS CPI 4 -195.91789551425242\n"
     ]
    },
    {
     "name": "stderr",
     "output_type": "stream",
     "text": [
      "10:55:06 - cmdstanpy - INFO - Chain [1] start processing\n",
      "10:55:06 - cmdstanpy - INFO - Chain [1] done processing\n"
     ]
    },
    {
     "name": "stdout",
     "output_type": "stream",
     "text": [
      "RSCCAS 0 -77.49786990564135\n"
     ]
    },
    {
     "name": "stderr",
     "output_type": "stream",
     "text": [
      "10:55:08 - cmdstanpy - INFO - Chain [1] start processing\n",
      "10:55:08 - cmdstanpy - INFO - Chain [1] done processing\n"
     ]
    },
    {
     "name": "stdout",
     "output_type": "stream",
     "text": [
      "RSCCAS break_inflate10 0 -71.72367003077562\n"
     ]
    },
    {
     "name": "stderr",
     "output_type": "stream",
     "text": [
      "10:55:10 - cmdstanpy - INFO - Chain [1] start processing\n",
      "10:55:10 - cmdstanpy - INFO - Chain [1] done processing\n"
     ]
    },
    {
     "name": "stdout",
     "output_type": "stream",
     "text": [
      "RSCCAS employ_rate 0 -76.75219754880696\n"
     ]
    },
    {
     "name": "stderr",
     "output_type": "stream",
     "text": [
      "10:55:12 - cmdstanpy - INFO - Chain [1] start processing\n",
      "10:55:12 - cmdstanpy - INFO - Chain [1] done processing\n"
     ]
    },
    {
     "name": "stdout",
     "output_type": "stream",
     "text": [
      "RSCCAS indust_prod 0 -69.39353081408566\n"
     ]
    },
    {
     "name": "stderr",
     "output_type": "stream",
     "text": [
      "10:55:14 - cmdstanpy - INFO - Chain [1] start processing\n",
      "10:55:14 - cmdstanpy - INFO - Chain [1] done processing\n"
     ]
    },
    {
     "name": "stdout",
     "output_type": "stream",
     "text": [
      "RSCCAS mortgage_rate30 0 -73.13252008388062\n"
     ]
    },
    {
     "name": "stderr",
     "output_type": "stream",
     "text": [
      "10:55:16 - cmdstanpy - INFO - Chain [1] start processing\n",
      "10:55:16 - cmdstanpy - INFO - Chain [1] done processing\n"
     ]
    },
    {
     "name": "stdout",
     "output_type": "stream",
     "text": [
      "RSCCAS Sticky_Price_Cpi 0 -83.73760508250461\n"
     ]
    },
    {
     "name": "stderr",
     "output_type": "stream",
     "text": [
      "10:55:18 - cmdstanpy - INFO - Chain [1] start processing\n",
      "10:55:18 - cmdstanpy - INFO - Chain [1] done processing\n"
     ]
    },
    {
     "name": "stdout",
     "output_type": "stream",
     "text": [
      "RSCCAS International_Trade 0 -93.9490228724465\n"
     ]
    },
    {
     "name": "stderr",
     "output_type": "stream",
     "text": [
      "10:55:19 - cmdstanpy - INFO - Chain [1] start processing\n",
      "10:55:20 - cmdstanpy - INFO - Chain [1] done processing\n"
     ]
    },
    {
     "name": "stdout",
     "output_type": "stream",
     "text": [
      "RSCCAS Med_Cpi 0 -73.55038894803586\n"
     ]
    },
    {
     "name": "stderr",
     "output_type": "stream",
     "text": [
      "10:55:21 - cmdstanpy - INFO - Chain [1] start processing\n",
      "10:55:21 - cmdstanpy - INFO - Chain [1] done processing\n"
     ]
    },
    {
     "name": "stdout",
     "output_type": "stream",
     "text": [
      "RSCCAS CPI 0 -77.43642767920355\n"
     ]
    },
    {
     "name": "stderr",
     "output_type": "stream",
     "text": [
      "10:55:23 - cmdstanpy - INFO - Chain [1] start processing\n",
      "10:55:23 - cmdstanpy - INFO - Chain [1] done processing\n",
      "10:55:25 - cmdstanpy - INFO - Chain [1] start processing\n",
      "10:55:25 - cmdstanpy - INFO - Chain [1] done processing\n"
     ]
    },
    {
     "name": "stdout",
     "output_type": "stream",
     "text": [
      "RSCCAS 1 -98.61875945653757\n"
     ]
    },
    {
     "name": "stderr",
     "output_type": "stream",
     "text": [
      "10:55:27 - cmdstanpy - INFO - Chain [1] start processing\n",
      "10:55:27 - cmdstanpy - INFO - Chain [1] done processing\n",
      "10:55:29 - cmdstanpy - INFO - Chain [1] start processing\n",
      "10:55:29 - cmdstanpy - INFO - Chain [1] done processing\n"
     ]
    },
    {
     "name": "stdout",
     "output_type": "stream",
     "text": [
      "RSCCAS break_inflate10 1 -101.80043006903348\n"
     ]
    },
    {
     "name": "stderr",
     "output_type": "stream",
     "text": [
      "10:55:31 - cmdstanpy - INFO - Chain [1] start processing\n",
      "10:55:31 - cmdstanpy - INFO - Chain [1] done processing\n",
      "10:55:33 - cmdstanpy - INFO - Chain [1] start processing\n",
      "10:55:33 - cmdstanpy - INFO - Chain [1] done processing\n"
     ]
    },
    {
     "name": "stdout",
     "output_type": "stream",
     "text": [
      "RSCCAS employ_rate 1 -96.95114548459917\n"
     ]
    },
    {
     "name": "stderr",
     "output_type": "stream",
     "text": [
      "10:55:35 - cmdstanpy - INFO - Chain [1] start processing\n",
      "10:55:35 - cmdstanpy - INFO - Chain [1] done processing\n",
      "10:55:37 - cmdstanpy - INFO - Chain [1] start processing\n",
      "10:55:37 - cmdstanpy - INFO - Chain [1] done processing\n"
     ]
    },
    {
     "name": "stdout",
     "output_type": "stream",
     "text": [
      "RSCCAS indust_prod 1 -96.37431478193722\n"
     ]
    },
    {
     "name": "stderr",
     "output_type": "stream",
     "text": [
      "10:55:39 - cmdstanpy - INFO - Chain [1] start processing\n",
      "10:55:39 - cmdstanpy - INFO - Chain [1] done processing\n",
      "10:55:41 - cmdstanpy - INFO - Chain [1] start processing\n",
      "10:55:41 - cmdstanpy - INFO - Chain [1] done processing\n"
     ]
    },
    {
     "name": "stdout",
     "output_type": "stream",
     "text": [
      "RSCCAS mortgage_rate30 1 -97.33884593899444\n"
     ]
    },
    {
     "name": "stderr",
     "output_type": "stream",
     "text": [
      "10:55:43 - cmdstanpy - INFO - Chain [1] start processing\n",
      "10:55:43 - cmdstanpy - INFO - Chain [1] done processing\n",
      "10:55:45 - cmdstanpy - INFO - Chain [1] start processing\n",
      "10:55:45 - cmdstanpy - INFO - Chain [1] done processing\n"
     ]
    },
    {
     "name": "stdout",
     "output_type": "stream",
     "text": [
      "RSCCAS Sticky_Price_Cpi 1 -105.66873817989352\n"
     ]
    },
    {
     "name": "stderr",
     "output_type": "stream",
     "text": [
      "10:55:47 - cmdstanpy - INFO - Chain [1] start processing\n",
      "10:55:47 - cmdstanpy - INFO - Chain [1] done processing\n",
      "10:55:49 - cmdstanpy - INFO - Chain [1] start processing\n",
      "10:55:49 - cmdstanpy - INFO - Chain [1] done processing\n"
     ]
    },
    {
     "name": "stdout",
     "output_type": "stream",
     "text": [
      "RSCCAS International_Trade 1 -124.51525851040859\n"
     ]
    },
    {
     "name": "stderr",
     "output_type": "stream",
     "text": [
      "10:55:51 - cmdstanpy - INFO - Chain [1] start processing\n",
      "10:55:51 - cmdstanpy - INFO - Chain [1] done processing\n",
      "10:55:53 - cmdstanpy - INFO - Chain [1] start processing\n",
      "10:55:53 - cmdstanpy - INFO - Chain [1] done processing\n"
     ]
    },
    {
     "name": "stdout",
     "output_type": "stream",
     "text": [
      "RSCCAS Med_Cpi 1 -110.66851215368159\n"
     ]
    },
    {
     "name": "stderr",
     "output_type": "stream",
     "text": [
      "10:55:55 - cmdstanpy - INFO - Chain [1] start processing\n",
      "10:55:55 - cmdstanpy - INFO - Chain [1] done processing\n",
      "10:55:57 - cmdstanpy - INFO - Chain [1] start processing\n",
      "10:55:57 - cmdstanpy - INFO - Chain [1] done processing\n"
     ]
    },
    {
     "name": "stdout",
     "output_type": "stream",
     "text": [
      "RSCCAS CPI 1 -95.56258959773952\n"
     ]
    },
    {
     "name": "stderr",
     "output_type": "stream",
     "text": [
      "10:55:58 - cmdstanpy - INFO - Chain [1] start processing\n",
      "10:55:59 - cmdstanpy - INFO - Chain [1] done processing\n",
      "10:56:00 - cmdstanpy - INFO - Chain [1] start processing\n",
      "10:56:00 - cmdstanpy - INFO - Chain [1] done processing\n"
     ]
    },
    {
     "name": "stdout",
     "output_type": "stream",
     "text": [
      "RSCCAS 2 -183.39601419789366\n"
     ]
    },
    {
     "name": "stderr",
     "output_type": "stream",
     "text": [
      "10:56:02 - cmdstanpy - INFO - Chain [1] start processing\n",
      "10:56:02 - cmdstanpy - INFO - Chain [1] done processing\n",
      "10:56:04 - cmdstanpy - INFO - Chain [1] start processing\n",
      "10:56:04 - cmdstanpy - INFO - Chain [1] done processing\n"
     ]
    },
    {
     "name": "stdout",
     "output_type": "stream",
     "text": [
      "RSCCAS break_inflate10 2 -172.60250588280556\n"
     ]
    },
    {
     "name": "stderr",
     "output_type": "stream",
     "text": [
      "10:56:06 - cmdstanpy - INFO - Chain [1] start processing\n",
      "10:56:06 - cmdstanpy - INFO - Chain [1] done processing\n",
      "10:56:08 - cmdstanpy - INFO - Chain [1] start processing\n",
      "10:56:08 - cmdstanpy - INFO - Chain [1] done processing\n"
     ]
    },
    {
     "name": "stdout",
     "output_type": "stream",
     "text": [
      "RSCCAS employ_rate 2 -128.76758669441722\n"
     ]
    },
    {
     "name": "stderr",
     "output_type": "stream",
     "text": [
      "10:56:10 - cmdstanpy - INFO - Chain [1] start processing\n",
      "10:56:10 - cmdstanpy - INFO - Chain [1] done processing\n",
      "10:56:12 - cmdstanpy - INFO - Chain [1] start processing\n",
      "10:56:12 - cmdstanpy - INFO - Chain [1] done processing\n"
     ]
    },
    {
     "name": "stdout",
     "output_type": "stream",
     "text": [
      "RSCCAS indust_prod 2 -133.08834452347577\n"
     ]
    },
    {
     "name": "stderr",
     "output_type": "stream",
     "text": [
      "10:56:14 - cmdstanpy - INFO - Chain [1] start processing\n",
      "10:56:14 - cmdstanpy - INFO - Chain [1] done processing\n",
      "10:56:16 - cmdstanpy - INFO - Chain [1] start processing\n",
      "10:56:16 - cmdstanpy - INFO - Chain [1] done processing\n"
     ]
    },
    {
     "name": "stdout",
     "output_type": "stream",
     "text": [
      "RSCCAS mortgage_rate30 2 -122.88070439187359\n"
     ]
    },
    {
     "name": "stderr",
     "output_type": "stream",
     "text": [
      "10:56:18 - cmdstanpy - INFO - Chain [1] start processing\n",
      "10:56:18 - cmdstanpy - INFO - Chain [1] done processing\n",
      "10:56:20 - cmdstanpy - INFO - Chain [1] start processing\n",
      "10:56:20 - cmdstanpy - INFO - Chain [1] done processing\n"
     ]
    },
    {
     "name": "stdout",
     "output_type": "stream",
     "text": [
      "RSCCAS Sticky_Price_Cpi 2 -129.3094669699014\n"
     ]
    },
    {
     "name": "stderr",
     "output_type": "stream",
     "text": [
      "10:56:22 - cmdstanpy - INFO - Chain [1] start processing\n",
      "10:56:22 - cmdstanpy - INFO - Chain [1] done processing\n",
      "10:56:24 - cmdstanpy - INFO - Chain [1] start processing\n",
      "10:56:24 - cmdstanpy - INFO - Chain [1] done processing\n"
     ]
    },
    {
     "name": "stdout",
     "output_type": "stream",
     "text": [
      "RSCCAS International_Trade 2 -122.97501769336688\n"
     ]
    },
    {
     "name": "stderr",
     "output_type": "stream",
     "text": [
      "10:56:26 - cmdstanpy - INFO - Chain [1] start processing\n",
      "10:56:26 - cmdstanpy - INFO - Chain [1] done processing\n",
      "10:56:28 - cmdstanpy - INFO - Chain [1] start processing\n",
      "10:56:28 - cmdstanpy - INFO - Chain [1] done processing\n"
     ]
    },
    {
     "name": "stdout",
     "output_type": "stream",
     "text": [
      "RSCCAS Med_Cpi 2 -111.12996398055945\n"
     ]
    },
    {
     "name": "stderr",
     "output_type": "stream",
     "text": [
      "10:56:30 - cmdstanpy - INFO - Chain [1] start processing\n",
      "10:56:30 - cmdstanpy - INFO - Chain [1] done processing\n",
      "10:56:32 - cmdstanpy - INFO - Chain [1] start processing\n",
      "10:56:32 - cmdstanpy - INFO - Chain [1] done processing\n"
     ]
    },
    {
     "name": "stdout",
     "output_type": "stream",
     "text": [
      "RSCCAS CPI 2 -103.9836690672311\n"
     ]
    },
    {
     "name": "stderr",
     "output_type": "stream",
     "text": [
      "10:56:34 - cmdstanpy - INFO - Chain [1] start processing\n",
      "10:56:34 - cmdstanpy - INFO - Chain [1] done processing\n",
      "10:56:36 - cmdstanpy - INFO - Chain [1] start processing\n",
      "10:56:36 - cmdstanpy - INFO - Chain [1] done processing\n"
     ]
    },
    {
     "name": "stdout",
     "output_type": "stream",
     "text": [
      "RSCCAS 3 -116.49359827743501\n"
     ]
    },
    {
     "name": "stderr",
     "output_type": "stream",
     "text": [
      "10:56:38 - cmdstanpy - INFO - Chain [1] start processing\n",
      "10:56:38 - cmdstanpy - INFO - Chain [1] done processing\n",
      "10:56:40 - cmdstanpy - INFO - Chain [1] start processing\n",
      "10:56:40 - cmdstanpy - INFO - Chain [1] done processing\n"
     ]
    },
    {
     "name": "stdout",
     "output_type": "stream",
     "text": [
      "RSCCAS break_inflate10 3 -172.48360063390655\n"
     ]
    },
    {
     "name": "stderr",
     "output_type": "stream",
     "text": [
      "10:56:42 - cmdstanpy - INFO - Chain [1] start processing\n",
      "10:56:42 - cmdstanpy - INFO - Chain [1] done processing\n",
      "10:56:44 - cmdstanpy - INFO - Chain [1] start processing\n",
      "10:56:44 - cmdstanpy - INFO - Chain [1] done processing\n"
     ]
    },
    {
     "name": "stdout",
     "output_type": "stream",
     "text": [
      "RSCCAS employ_rate 3 -215.86102304252455\n"
     ]
    },
    {
     "name": "stderr",
     "output_type": "stream",
     "text": [
      "10:56:46 - cmdstanpy - INFO - Chain [1] start processing\n",
      "10:56:47 - cmdstanpy - INFO - Chain [1] done processing\n",
      "10:56:49 - cmdstanpy - INFO - Chain [1] start processing\n",
      "10:56:49 - cmdstanpy - INFO - Chain [1] done processing\n"
     ]
    },
    {
     "name": "stdout",
     "output_type": "stream",
     "text": [
      "RSCCAS indust_prod 3 -157.40853594975007\n"
     ]
    },
    {
     "name": "stderr",
     "output_type": "stream",
     "text": [
      "10:56:51 - cmdstanpy - INFO - Chain [1] start processing\n",
      "10:56:51 - cmdstanpy - INFO - Chain [1] done processing\n",
      "10:56:53 - cmdstanpy - INFO - Chain [1] start processing\n",
      "10:56:53 - cmdstanpy - INFO - Chain [1] done processing\n"
     ]
    },
    {
     "name": "stdout",
     "output_type": "stream",
     "text": [
      "RSCCAS mortgage_rate30 3 -190.3758631787631\n"
     ]
    },
    {
     "name": "stderr",
     "output_type": "stream",
     "text": [
      "10:56:55 - cmdstanpy - INFO - Chain [1] start processing\n",
      "10:56:55 - cmdstanpy - INFO - Chain [1] done processing\n",
      "10:56:57 - cmdstanpy - INFO - Chain [1] start processing\n",
      "10:56:57 - cmdstanpy - INFO - Chain [1] done processing\n"
     ]
    },
    {
     "name": "stdout",
     "output_type": "stream",
     "text": [
      "RSCCAS Sticky_Price_Cpi 3 -239.2730355503693\n"
     ]
    },
    {
     "name": "stderr",
     "output_type": "stream",
     "text": [
      "10:56:59 - cmdstanpy - INFO - Chain [1] start processing\n",
      "10:56:59 - cmdstanpy - INFO - Chain [1] done processing\n",
      "10:57:01 - cmdstanpy - INFO - Chain [1] start processing\n",
      "10:57:01 - cmdstanpy - INFO - Chain [1] done processing\n"
     ]
    },
    {
     "name": "stdout",
     "output_type": "stream",
     "text": [
      "RSCCAS International_Trade 3 -303.78433476233783\n"
     ]
    },
    {
     "name": "stderr",
     "output_type": "stream",
     "text": [
      "10:57:03 - cmdstanpy - INFO - Chain [1] start processing\n",
      "10:57:03 - cmdstanpy - INFO - Chain [1] done processing\n",
      "10:57:06 - cmdstanpy - INFO - Chain [1] start processing\n",
      "10:57:06 - cmdstanpy - INFO - Chain [1] done processing\n"
     ]
    },
    {
     "name": "stdout",
     "output_type": "stream",
     "text": [
      "RSCCAS Med_Cpi 3 -243.04711483463018\n"
     ]
    },
    {
     "name": "stderr",
     "output_type": "stream",
     "text": [
      "10:57:08 - cmdstanpy - INFO - Chain [1] start processing\n",
      "10:57:08 - cmdstanpy - INFO - Chain [1] done processing\n",
      "10:57:10 - cmdstanpy - INFO - Chain [1] start processing\n",
      "10:57:10 - cmdstanpy - INFO - Chain [1] done processing\n"
     ]
    },
    {
     "name": "stdout",
     "output_type": "stream",
     "text": [
      "RSCCAS CPI 3 -297.6267890262664\n"
     ]
    },
    {
     "name": "stderr",
     "output_type": "stream",
     "text": [
      "10:57:12 - cmdstanpy - INFO - Chain [1] start processing\n",
      "10:57:12 - cmdstanpy - INFO - Chain [1] done processing\n",
      "10:57:14 - cmdstanpy - INFO - Chain [1] start processing\n",
      "10:57:14 - cmdstanpy - INFO - Chain [1] done processing\n"
     ]
    },
    {
     "name": "stdout",
     "output_type": "stream",
     "text": [
      "RSCCAS 4 -833.9825987536461\n"
     ]
    },
    {
     "name": "stderr",
     "output_type": "stream",
     "text": [
      "10:57:16 - cmdstanpy - INFO - Chain [1] start processing\n",
      "10:57:16 - cmdstanpy - INFO - Chain [1] done processing\n",
      "10:57:18 - cmdstanpy - INFO - Chain [1] start processing\n",
      "10:57:18 - cmdstanpy - INFO - Chain [1] done processing\n"
     ]
    },
    {
     "name": "stdout",
     "output_type": "stream",
     "text": [
      "RSCCAS break_inflate10 4 -338.44272372787077\n"
     ]
    },
    {
     "name": "stderr",
     "output_type": "stream",
     "text": [
      "10:57:20 - cmdstanpy - INFO - Chain [1] start processing\n",
      "10:57:20 - cmdstanpy - INFO - Chain [1] done processing\n"
     ]
    },
    {
     "name": "stdout",
     "output_type": "stream",
     "text": [
      "RSCCAS employ_rate 4 -914.5294231579085\n"
     ]
    },
    {
     "name": "stderr",
     "output_type": "stream",
     "text": [
      "10:57:23 - cmdstanpy - INFO - Chain [1] start processing\n",
      "10:57:23 - cmdstanpy - INFO - Chain [1] done processing\n",
      "10:57:25 - cmdstanpy - INFO - Chain [1] start processing\n",
      "10:57:25 - cmdstanpy - INFO - Chain [1] done processing\n",
      "10:57:27 - cmdstanpy - INFO - Chain [1] start processing\n",
      "10:57:27 - cmdstanpy - INFO - Chain [1] done processing\n"
     ]
    },
    {
     "name": "stdout",
     "output_type": "stream",
     "text": [
      "RSCCAS indust_prod 4 -803.5130431253341\n"
     ]
    },
    {
     "name": "stderr",
     "output_type": "stream",
     "text": [
      "10:57:29 - cmdstanpy - INFO - Chain [1] start processing\n",
      "10:57:29 - cmdstanpy - INFO - Chain [1] done processing\n",
      "10:57:31 - cmdstanpy - INFO - Chain [1] start processing\n",
      "10:57:31 - cmdstanpy - INFO - Chain [1] done processing\n"
     ]
    },
    {
     "name": "stdout",
     "output_type": "stream",
     "text": [
      "RSCCAS mortgage_rate30 4 -1337.874789445488\n"
     ]
    },
    {
     "name": "stderr",
     "output_type": "stream",
     "text": [
      "10:57:33 - cmdstanpy - INFO - Chain [1] start processing\n",
      "10:57:33 - cmdstanpy - INFO - Chain [1] done processing\n",
      "10:57:35 - cmdstanpy - INFO - Chain [1] start processing\n",
      "10:57:35 - cmdstanpy - INFO - Chain [1] done processing\n"
     ]
    },
    {
     "name": "stdout",
     "output_type": "stream",
     "text": [
      "RSCCAS Sticky_Price_Cpi 4 -346.822381501862\n"
     ]
    },
    {
     "name": "stderr",
     "output_type": "stream",
     "text": [
      "10:57:37 - cmdstanpy - INFO - Chain [1] start processing\n",
      "10:57:37 - cmdstanpy - INFO - Chain [1] done processing\n",
      "10:57:39 - cmdstanpy - INFO - Chain [1] start processing\n",
      "10:57:39 - cmdstanpy - INFO - Chain [1] done processing\n"
     ]
    },
    {
     "name": "stdout",
     "output_type": "stream",
     "text": [
      "RSCCAS International_Trade 4 -965.567881205993\n"
     ]
    },
    {
     "name": "stderr",
     "output_type": "stream",
     "text": [
      "10:57:41 - cmdstanpy - INFO - Chain [1] start processing\n",
      "10:57:41 - cmdstanpy - INFO - Chain [1] done processing\n",
      "10:57:44 - cmdstanpy - INFO - Chain [1] start processing\n",
      "10:57:44 - cmdstanpy - INFO - Chain [1] done processing\n"
     ]
    },
    {
     "name": "stdout",
     "output_type": "stream",
     "text": [
      "RSCCAS Med_Cpi 4 -849.1532920890753\n"
     ]
    },
    {
     "name": "stderr",
     "output_type": "stream",
     "text": [
      "10:57:46 - cmdstanpy - INFO - Chain [1] start processing\n",
      "10:57:46 - cmdstanpy - INFO - Chain [1] done processing\n",
      "10:57:48 - cmdstanpy - INFO - Chain [1] start processing\n",
      "10:57:48 - cmdstanpy - INFO - Chain [1] done processing\n"
     ]
    },
    {
     "name": "stdout",
     "output_type": "stream",
     "text": [
      "RSCCAS CPI 4 -133.30119960685442\n"
     ]
    },
    {
     "name": "stderr",
     "output_type": "stream",
     "text": [
      "10:57:50 - cmdstanpy - INFO - Chain [1] start processing\n",
      "10:57:50 - cmdstanpy - INFO - Chain [1] done processing\n"
     ]
    },
    {
     "name": "stdout",
     "output_type": "stream",
     "text": [
      "RSSGHBMS 0 -196.77899352672932\n"
     ]
    },
    {
     "name": "stderr",
     "output_type": "stream",
     "text": [
      "10:57:52 - cmdstanpy - INFO - Chain [1] start processing\n",
      "10:57:52 - cmdstanpy - INFO - Chain [1] done processing\n"
     ]
    },
    {
     "name": "stdout",
     "output_type": "stream",
     "text": [
      "RSSGHBMS break_inflate10 0 -181.18357289341466\n"
     ]
    },
    {
     "name": "stderr",
     "output_type": "stream",
     "text": [
      "10:57:54 - cmdstanpy - INFO - Chain [1] start processing\n",
      "10:57:54 - cmdstanpy - INFO - Chain [1] done processing\n"
     ]
    },
    {
     "name": "stdout",
     "output_type": "stream",
     "text": [
      "RSSGHBMS employ_rate 0 -207.70452385198755\n"
     ]
    },
    {
     "name": "stderr",
     "output_type": "stream",
     "text": [
      "10:57:56 - cmdstanpy - INFO - Chain [1] start processing\n",
      "10:57:56 - cmdstanpy - INFO - Chain [1] done processing\n"
     ]
    },
    {
     "name": "stdout",
     "output_type": "stream",
     "text": [
      "RSSGHBMS indust_prod 0 -173.24488499541332\n"
     ]
    },
    {
     "name": "stderr",
     "output_type": "stream",
     "text": [
      "10:57:58 - cmdstanpy - INFO - Chain [1] start processing\n",
      "10:57:58 - cmdstanpy - INFO - Chain [1] done processing\n"
     ]
    },
    {
     "name": "stdout",
     "output_type": "stream",
     "text": [
      "RSSGHBMS mortgage_rate30 0 -121.4052115353911\n"
     ]
    },
    {
     "name": "stderr",
     "output_type": "stream",
     "text": [
      "10:57:59 - cmdstanpy - INFO - Chain [1] start processing\n",
      "10:58:00 - cmdstanpy - INFO - Chain [1] done processing\n"
     ]
    },
    {
     "name": "stdout",
     "output_type": "stream",
     "text": [
      "RSSGHBMS Sticky_Price_Cpi 0 -201.3622886347634\n"
     ]
    },
    {
     "name": "stderr",
     "output_type": "stream",
     "text": [
      "10:58:01 - cmdstanpy - INFO - Chain [1] start processing\n",
      "10:58:01 - cmdstanpy - INFO - Chain [1] done processing\n"
     ]
    },
    {
     "name": "stdout",
     "output_type": "stream",
     "text": [
      "RSSGHBMS International_Trade 0 -171.56330407291625\n"
     ]
    },
    {
     "name": "stderr",
     "output_type": "stream",
     "text": [
      "10:58:03 - cmdstanpy - INFO - Chain [1] start processing\n",
      "10:58:04 - cmdstanpy - INFO - Chain [1] done processing\n"
     ]
    },
    {
     "name": "stdout",
     "output_type": "stream",
     "text": [
      "RSSGHBMS Med_Cpi 0 -199.73670867091244\n"
     ]
    },
    {
     "name": "stderr",
     "output_type": "stream",
     "text": [
      "10:58:05 - cmdstanpy - INFO - Chain [1] start processing\n",
      "10:58:06 - cmdstanpy - INFO - Chain [1] done processing\n"
     ]
    },
    {
     "name": "stdout",
     "output_type": "stream",
     "text": [
      "RSSGHBMS CPI 0 -207.71175305856343\n"
     ]
    },
    {
     "name": "stderr",
     "output_type": "stream",
     "text": [
      "10:58:07 - cmdstanpy - INFO - Chain [1] start processing\n",
      "10:58:07 - cmdstanpy - INFO - Chain [1] done processing\n",
      "10:58:09 - cmdstanpy - INFO - Chain [1] start processing\n",
      "10:58:09 - cmdstanpy - INFO - Chain [1] done processing\n"
     ]
    },
    {
     "name": "stdout",
     "output_type": "stream",
     "text": [
      "RSSGHBMS 1 -213.97609883643892\n"
     ]
    },
    {
     "name": "stderr",
     "output_type": "stream",
     "text": [
      "10:58:11 - cmdstanpy - INFO - Chain [1] start processing\n",
      "10:58:11 - cmdstanpy - INFO - Chain [1] done processing\n",
      "10:58:14 - cmdstanpy - INFO - Chain [1] start processing\n",
      "10:58:14 - cmdstanpy - INFO - Chain [1] done processing\n"
     ]
    },
    {
     "name": "stdout",
     "output_type": "stream",
     "text": [
      "RSSGHBMS break_inflate10 1 -220.63715781375458\n"
     ]
    },
    {
     "name": "stderr",
     "output_type": "stream",
     "text": [
      "10:58:16 - cmdstanpy - INFO - Chain [1] start processing\n",
      "10:58:16 - cmdstanpy - INFO - Chain [1] done processing\n",
      "10:58:18 - cmdstanpy - INFO - Chain [1] start processing\n",
      "10:58:18 - cmdstanpy - INFO - Chain [1] done processing\n"
     ]
    },
    {
     "name": "stdout",
     "output_type": "stream",
     "text": [
      "RSSGHBMS employ_rate 1 -218.74646413645405\n"
     ]
    },
    {
     "name": "stderr",
     "output_type": "stream",
     "text": [
      "10:58:20 - cmdstanpy - INFO - Chain [1] start processing\n",
      "10:58:20 - cmdstanpy - INFO - Chain [1] done processing\n",
      "10:58:22 - cmdstanpy - INFO - Chain [1] start processing\n",
      "10:58:22 - cmdstanpy - INFO - Chain [1] done processing\n"
     ]
    },
    {
     "name": "stdout",
     "output_type": "stream",
     "text": [
      "RSSGHBMS indust_prod 1 -165.44385070811623\n"
     ]
    },
    {
     "name": "stderr",
     "output_type": "stream",
     "text": [
      "10:58:24 - cmdstanpy - INFO - Chain [1] start processing\n",
      "10:58:24 - cmdstanpy - INFO - Chain [1] done processing\n",
      "10:58:26 - cmdstanpy - INFO - Chain [1] start processing\n",
      "10:58:26 - cmdstanpy - INFO - Chain [1] done processing\n"
     ]
    },
    {
     "name": "stdout",
     "output_type": "stream",
     "text": [
      "RSSGHBMS mortgage_rate30 1 -131.17174954350543\n"
     ]
    },
    {
     "name": "stderr",
     "output_type": "stream",
     "text": [
      "10:58:28 - cmdstanpy - INFO - Chain [1] start processing\n",
      "10:58:28 - cmdstanpy - INFO - Chain [1] done processing\n",
      "10:58:30 - cmdstanpy - INFO - Chain [1] start processing\n",
      "10:58:30 - cmdstanpy - INFO - Chain [1] done processing\n"
     ]
    },
    {
     "name": "stdout",
     "output_type": "stream",
     "text": [
      "RSSGHBMS Sticky_Price_Cpi 1 -215.8483517254896\n"
     ]
    },
    {
     "name": "stderr",
     "output_type": "stream",
     "text": [
      "10:58:32 - cmdstanpy - INFO - Chain [1] start processing\n",
      "10:58:32 - cmdstanpy - INFO - Chain [1] done processing\n",
      "10:58:34 - cmdstanpy - INFO - Chain [1] start processing\n",
      "10:58:34 - cmdstanpy - INFO - Chain [1] done processing\n"
     ]
    },
    {
     "name": "stdout",
     "output_type": "stream",
     "text": [
      "RSSGHBMS International_Trade 1 -188.75408531284663\n"
     ]
    },
    {
     "name": "stderr",
     "output_type": "stream",
     "text": [
      "10:58:36 - cmdstanpy - INFO - Chain [1] start processing\n",
      "10:58:36 - cmdstanpy - INFO - Chain [1] done processing\n",
      "10:58:38 - cmdstanpy - INFO - Chain [1] start processing\n",
      "10:58:38 - cmdstanpy - INFO - Chain [1] done processing\n"
     ]
    },
    {
     "name": "stdout",
     "output_type": "stream",
     "text": [
      "RSSGHBMS Med_Cpi 1 -219.97170983150923\n"
     ]
    },
    {
     "name": "stderr",
     "output_type": "stream",
     "text": [
      "10:58:40 - cmdstanpy - INFO - Chain [1] start processing\n",
      "10:58:40 - cmdstanpy - INFO - Chain [1] done processing\n",
      "10:58:41 - cmdstanpy - INFO - Chain [1] start processing\n",
      "10:58:41 - cmdstanpy - INFO - Chain [1] done processing\n"
     ]
    },
    {
     "name": "stdout",
     "output_type": "stream",
     "text": [
      "RSSGHBMS CPI 1 -211.5442864045363\n"
     ]
    },
    {
     "name": "stderr",
     "output_type": "stream",
     "text": [
      "10:58:43 - cmdstanpy - INFO - Chain [1] start processing\n",
      "10:58:44 - cmdstanpy - INFO - Chain [1] done processing\n",
      "10:58:46 - cmdstanpy - INFO - Chain [1] start processing\n",
      "10:58:46 - cmdstanpy - INFO - Chain [1] done processing\n"
     ]
    },
    {
     "name": "stdout",
     "output_type": "stream",
     "text": [
      "RSSGHBMS 2 -215.53632926098052\n"
     ]
    },
    {
     "name": "stderr",
     "output_type": "stream",
     "text": [
      "10:58:48 - cmdstanpy - INFO - Chain [1] start processing\n",
      "10:58:48 - cmdstanpy - INFO - Chain [1] done processing\n",
      "10:58:50 - cmdstanpy - INFO - Chain [1] start processing\n",
      "10:58:50 - cmdstanpy - INFO - Chain [1] done processing\n"
     ]
    },
    {
     "name": "stdout",
     "output_type": "stream",
     "text": [
      "RSSGHBMS break_inflate10 2 -213.8974409166512\n"
     ]
    },
    {
     "name": "stderr",
     "output_type": "stream",
     "text": [
      "10:58:52 - cmdstanpy - INFO - Chain [1] start processing\n",
      "10:58:52 - cmdstanpy - INFO - Chain [1] done processing\n",
      "10:58:54 - cmdstanpy - INFO - Chain [1] start processing\n",
      "10:58:54 - cmdstanpy - INFO - Chain [1] done processing\n"
     ]
    },
    {
     "name": "stdout",
     "output_type": "stream",
     "text": [
      "RSSGHBMS employ_rate 2 -229.90240679021224\n"
     ]
    },
    {
     "name": "stderr",
     "output_type": "stream",
     "text": [
      "10:58:56 - cmdstanpy - INFO - Chain [1] start processing\n",
      "10:58:56 - cmdstanpy - INFO - Chain [1] done processing\n",
      "10:58:58 - cmdstanpy - INFO - Chain [1] start processing\n",
      "10:58:58 - cmdstanpy - INFO - Chain [1] done processing\n"
     ]
    },
    {
     "name": "stdout",
     "output_type": "stream",
     "text": [
      "RSSGHBMS indust_prod 2 -160.33108505442866\n"
     ]
    },
    {
     "name": "stderr",
     "output_type": "stream",
     "text": [
      "10:59:00 - cmdstanpy - INFO - Chain [1] start processing\n",
      "10:59:00 - cmdstanpy - INFO - Chain [1] done processing\n",
      "10:59:02 - cmdstanpy - INFO - Chain [1] start processing\n",
      "10:59:02 - cmdstanpy - INFO - Chain [1] done processing\n"
     ]
    },
    {
     "name": "stdout",
     "output_type": "stream",
     "text": [
      "RSSGHBMS mortgage_rate30 2 -122.3758257436725\n"
     ]
    },
    {
     "name": "stderr",
     "output_type": "stream",
     "text": [
      "10:59:03 - cmdstanpy - INFO - Chain [1] start processing\n",
      "10:59:04 - cmdstanpy - INFO - Chain [1] done processing\n",
      "10:59:05 - cmdstanpy - INFO - Chain [1] start processing\n",
      "10:59:05 - cmdstanpy - INFO - Chain [1] done processing\n"
     ]
    },
    {
     "name": "stdout",
     "output_type": "stream",
     "text": [
      "RSSGHBMS Sticky_Price_Cpi 2 -217.83623137593523\n"
     ]
    },
    {
     "name": "stderr",
     "output_type": "stream",
     "text": [
      "10:59:07 - cmdstanpy - INFO - Chain [1] start processing\n",
      "10:59:07 - cmdstanpy - INFO - Chain [1] done processing\n",
      "10:59:09 - cmdstanpy - INFO - Chain [1] start processing\n",
      "10:59:09 - cmdstanpy - INFO - Chain [1] done processing\n"
     ]
    },
    {
     "name": "stdout",
     "output_type": "stream",
     "text": [
      "RSSGHBMS International_Trade 2 -193.80206039180175\n"
     ]
    },
    {
     "name": "stderr",
     "output_type": "stream",
     "text": [
      "10:59:11 - cmdstanpy - INFO - Chain [1] start processing\n",
      "10:59:11 - cmdstanpy - INFO - Chain [1] done processing\n",
      "10:59:13 - cmdstanpy - INFO - Chain [1] start processing\n",
      "10:59:13 - cmdstanpy - INFO - Chain [1] done processing\n"
     ]
    },
    {
     "name": "stdout",
     "output_type": "stream",
     "text": [
      "RSSGHBMS Med_Cpi 2 -221.84662687651803\n"
     ]
    },
    {
     "name": "stderr",
     "output_type": "stream",
     "text": [
      "10:59:15 - cmdstanpy - INFO - Chain [1] start processing\n",
      "10:59:15 - cmdstanpy - INFO - Chain [1] done processing\n",
      "10:59:17 - cmdstanpy - INFO - Chain [1] start processing\n",
      "10:59:17 - cmdstanpy - INFO - Chain [1] done processing\n"
     ]
    },
    {
     "name": "stdout",
     "output_type": "stream",
     "text": [
      "RSSGHBMS CPI 2 -215.54632087026775\n"
     ]
    },
    {
     "name": "stderr",
     "output_type": "stream",
     "text": [
      "10:59:19 - cmdstanpy - INFO - Chain [1] start processing\n",
      "10:59:19 - cmdstanpy - INFO - Chain [1] done processing\n",
      "10:59:21 - cmdstanpy - INFO - Chain [1] start processing\n",
      "10:59:21 - cmdstanpy - INFO - Chain [1] done processing\n"
     ]
    },
    {
     "name": "stdout",
     "output_type": "stream",
     "text": [
      "RSSGHBMS 3 -210.09013991559166\n"
     ]
    },
    {
     "name": "stderr",
     "output_type": "stream",
     "text": [
      "10:59:23 - cmdstanpy - INFO - Chain [1] start processing\n",
      "10:59:23 - cmdstanpy - INFO - Chain [1] done processing\n",
      "10:59:25 - cmdstanpy - INFO - Chain [1] start processing\n",
      "10:59:25 - cmdstanpy - INFO - Chain [1] done processing\n"
     ]
    },
    {
     "name": "stdout",
     "output_type": "stream",
     "text": [
      "RSSGHBMS break_inflate10 3 -195.3950463751817\n"
     ]
    },
    {
     "name": "stderr",
     "output_type": "stream",
     "text": [
      "10:59:27 - cmdstanpy - INFO - Chain [1] start processing\n",
      "10:59:27 - cmdstanpy - INFO - Chain [1] done processing\n",
      "10:59:28 - cmdstanpy - INFO - Chain [1] start processing\n",
      "10:59:28 - cmdstanpy - INFO - Chain [1] done processing\n"
     ]
    },
    {
     "name": "stdout",
     "output_type": "stream",
     "text": [
      "RSSGHBMS employ_rate 3 -209.3032698465597\n"
     ]
    },
    {
     "name": "stderr",
     "output_type": "stream",
     "text": [
      "10:59:30 - cmdstanpy - INFO - Chain [1] start processing\n",
      "10:59:31 - cmdstanpy - INFO - Chain [1] done processing\n",
      "10:59:33 - cmdstanpy - INFO - Chain [1] start processing\n",
      "10:59:33 - cmdstanpy - INFO - Chain [1] done processing\n"
     ]
    },
    {
     "name": "stdout",
     "output_type": "stream",
     "text": [
      "RSSGHBMS indust_prod 3 -153.25611515675894\n"
     ]
    },
    {
     "name": "stderr",
     "output_type": "stream",
     "text": [
      "10:59:35 - cmdstanpy - INFO - Chain [1] start processing\n",
      "10:59:35 - cmdstanpy - INFO - Chain [1] done processing\n",
      "10:59:37 - cmdstanpy - INFO - Chain [1] start processing\n",
      "10:59:38 - cmdstanpy - INFO - Chain [1] done processing\n"
     ]
    },
    {
     "name": "stdout",
     "output_type": "stream",
     "text": [
      "RSSGHBMS mortgage_rate30 3 -96.01921379894473\n"
     ]
    },
    {
     "name": "stderr",
     "output_type": "stream",
     "text": [
      "10:59:40 - cmdstanpy - INFO - Chain [1] start processing\n",
      "10:59:40 - cmdstanpy - INFO - Chain [1] done processing\n",
      "10:59:42 - cmdstanpy - INFO - Chain [1] start processing\n",
      "10:59:42 - cmdstanpy - INFO - Chain [1] done processing\n"
     ]
    },
    {
     "name": "stdout",
     "output_type": "stream",
     "text": [
      "RSSGHBMS Sticky_Price_Cpi 3 -213.83926352379314\n"
     ]
    },
    {
     "name": "stderr",
     "output_type": "stream",
     "text": [
      "10:59:44 - cmdstanpy - INFO - Chain [1] start processing\n",
      "10:59:44 - cmdstanpy - INFO - Chain [1] done processing\n",
      "10:59:46 - cmdstanpy - INFO - Chain [1] start processing\n",
      "10:59:46 - cmdstanpy - INFO - Chain [1] done processing\n"
     ]
    },
    {
     "name": "stdout",
     "output_type": "stream",
     "text": [
      "RSSGHBMS International_Trade 3 -178.22073911936553\n"
     ]
    },
    {
     "name": "stderr",
     "output_type": "stream",
     "text": [
      "10:59:49 - cmdstanpy - INFO - Chain [1] start processing\n",
      "10:59:49 - cmdstanpy - INFO - Chain [1] done processing\n",
      "10:59:51 - cmdstanpy - INFO - Chain [1] start processing\n",
      "10:59:51 - cmdstanpy - INFO - Chain [1] done processing\n"
     ]
    },
    {
     "name": "stdout",
     "output_type": "stream",
     "text": [
      "RSSGHBMS Med_Cpi 3 -208.49465328159792\n"
     ]
    },
    {
     "name": "stderr",
     "output_type": "stream",
     "text": [
      "10:59:53 - cmdstanpy - INFO - Chain [1] start processing\n",
      "10:59:53 - cmdstanpy - INFO - Chain [1] done processing\n",
      "10:59:55 - cmdstanpy - INFO - Chain [1] start processing\n",
      "10:59:55 - cmdstanpy - INFO - Chain [1] done processing\n"
     ]
    },
    {
     "name": "stdout",
     "output_type": "stream",
     "text": [
      "RSSGHBMS CPI 3 -201.15515978431935\n"
     ]
    },
    {
     "name": "stderr",
     "output_type": "stream",
     "text": [
      "10:59:58 - cmdstanpy - INFO - Chain [1] start processing\n",
      "10:59:58 - cmdstanpy - INFO - Chain [1] done processing\n",
      "11:00:00 - cmdstanpy - INFO - Chain [1] start processing\n",
      "11:00:00 - cmdstanpy - INFO - Chain [1] done processing\n"
     ]
    },
    {
     "name": "stdout",
     "output_type": "stream",
     "text": [
      "RSSGHBMS 4 -218.86104210418242\n"
     ]
    },
    {
     "name": "stderr",
     "output_type": "stream",
     "text": [
      "11:00:02 - cmdstanpy - INFO - Chain [1] start processing\n",
      "11:00:02 - cmdstanpy - INFO - Chain [1] done processing\n",
      "11:00:04 - cmdstanpy - INFO - Chain [1] start processing\n",
      "11:00:04 - cmdstanpy - INFO - Chain [1] done processing\n"
     ]
    },
    {
     "name": "stdout",
     "output_type": "stream",
     "text": [
      "RSSGHBMS break_inflate10 4 -194.43999709317512\n"
     ]
    },
    {
     "name": "stderr",
     "output_type": "stream",
     "text": [
      "11:00:07 - cmdstanpy - INFO - Chain [1] start processing\n",
      "11:00:07 - cmdstanpy - INFO - Chain [1] done processing\n",
      "11:00:09 - cmdstanpy - INFO - Chain [1] start processing\n",
      "11:00:09 - cmdstanpy - INFO - Chain [1] done processing\n"
     ]
    },
    {
     "name": "stdout",
     "output_type": "stream",
     "text": [
      "RSSGHBMS employ_rate 4 -222.744520836104\n"
     ]
    },
    {
     "name": "stderr",
     "output_type": "stream",
     "text": [
      "11:00:11 - cmdstanpy - INFO - Chain [1] start processing\n",
      "11:00:11 - cmdstanpy - INFO - Chain [1] done processing\n",
      "11:00:13 - cmdstanpy - INFO - Chain [1] start processing\n",
      "11:00:13 - cmdstanpy - INFO - Chain [1] done processing\n"
     ]
    },
    {
     "name": "stdout",
     "output_type": "stream",
     "text": [
      "RSSGHBMS indust_prod 4 -177.69574551816956\n"
     ]
    },
    {
     "name": "stderr",
     "output_type": "stream",
     "text": [
      "11:00:15 - cmdstanpy - INFO - Chain [1] start processing\n",
      "11:00:15 - cmdstanpy - INFO - Chain [1] done processing\n",
      "11:00:18 - cmdstanpy - INFO - Chain [1] start processing\n",
      "11:00:18 - cmdstanpy - INFO - Chain [1] done processing\n"
     ]
    },
    {
     "name": "stdout",
     "output_type": "stream",
     "text": [
      "RSSGHBMS mortgage_rate30 4 -115.62063410014034\n"
     ]
    },
    {
     "name": "stderr",
     "output_type": "stream",
     "text": [
      "11:00:20 - cmdstanpy - INFO - Chain [1] start processing\n",
      "11:00:20 - cmdstanpy - INFO - Chain [1] done processing\n",
      "11:00:22 - cmdstanpy - INFO - Chain [1] start processing\n",
      "11:00:22 - cmdstanpy - INFO - Chain [1] done processing\n"
     ]
    },
    {
     "name": "stdout",
     "output_type": "stream",
     "text": [
      "RSSGHBMS Sticky_Price_Cpi 4 -230.09330273540849\n"
     ]
    },
    {
     "name": "stderr",
     "output_type": "stream",
     "text": [
      "11:00:24 - cmdstanpy - INFO - Chain [1] start processing\n",
      "11:00:24 - cmdstanpy - INFO - Chain [1] done processing\n",
      "11:00:26 - cmdstanpy - INFO - Chain [1] start processing\n",
      "11:00:26 - cmdstanpy - INFO - Chain [1] done processing\n"
     ]
    },
    {
     "name": "stdout",
     "output_type": "stream",
     "text": [
      "RSSGHBMS International_Trade 4 -204.27087077011797\n"
     ]
    },
    {
     "name": "stderr",
     "output_type": "stream",
     "text": [
      "11:00:28 - cmdstanpy - INFO - Chain [1] start processing\n",
      "11:00:28 - cmdstanpy - INFO - Chain [1] done processing\n",
      "11:00:30 - cmdstanpy - INFO - Chain [1] start processing\n",
      "11:00:30 - cmdstanpy - INFO - Chain [1] done processing\n"
     ]
    },
    {
     "name": "stdout",
     "output_type": "stream",
     "text": [
      "RSSGHBMS Med_Cpi 4 -217.2779607158188\n"
     ]
    },
    {
     "name": "stderr",
     "output_type": "stream",
     "text": [
      "11:00:33 - cmdstanpy - INFO - Chain [1] start processing\n",
      "11:00:33 - cmdstanpy - INFO - Chain [1] done processing\n",
      "11:00:35 - cmdstanpy - INFO - Chain [1] start processing\n",
      "11:00:35 - cmdstanpy - INFO - Chain [1] done processing\n"
     ]
    },
    {
     "name": "stdout",
     "output_type": "stream",
     "text": [
      "RSSGHBMS CPI 4 -213.8262609035454\n"
     ]
    },
    {
     "name": "stderr",
     "output_type": "stream",
     "text": [
      "11:00:37 - cmdstanpy - INFO - Chain [1] start processing\n",
      "11:00:38 - cmdstanpy - INFO - Chain [1] done processing\n"
     ]
    },
    {
     "name": "stdout",
     "output_type": "stream",
     "text": [
      "RSGMS 0 -120.45853365128328\n"
     ]
    },
    {
     "name": "stderr",
     "output_type": "stream",
     "text": [
      "11:00:40 - cmdstanpy - INFO - Chain [1] start processing\n",
      "11:00:40 - cmdstanpy - INFO - Chain [1] done processing\n"
     ]
    },
    {
     "name": "stdout",
     "output_type": "stream",
     "text": [
      "RSGMS break_inflate10 0 -120.13335332467605\n"
     ]
    },
    {
     "name": "stderr",
     "output_type": "stream",
     "text": [
      "11:00:44 - cmdstanpy - INFO - Chain [1] start processing\n"
     ]
    },
    {
     "name": "stdout",
     "output_type": "stream",
     "text": [
      "RSGMS employ_rate 0 -121.05517845280428\n"
     ]
    },
    {
     "name": "stderr",
     "output_type": "stream",
     "text": [
      "11:00:44 - cmdstanpy - INFO - Chain [1] done processing\n",
      "11:00:47 - cmdstanpy - INFO - Chain [1] start processing\n"
     ]
    },
    {
     "name": "stdout",
     "output_type": "stream",
     "text": [
      "RSGMS indust_prod 0 -97.16325090053017\n"
     ]
    },
    {
     "name": "stderr",
     "output_type": "stream",
     "text": [
      "11:00:47 - cmdstanpy - INFO - Chain [1] done processing\n",
      "11:00:49 - cmdstanpy - INFO - Chain [1] start processing\n",
      "11:00:49 - cmdstanpy - INFO - Chain [1] done processing\n"
     ]
    },
    {
     "name": "stdout",
     "output_type": "stream",
     "text": [
      "RSGMS mortgage_rate30 0 -96.23457744007699\n"
     ]
    },
    {
     "name": "stderr",
     "output_type": "stream",
     "text": [
      "11:00:51 - cmdstanpy - INFO - Chain [1] start processing\n",
      "11:00:51 - cmdstanpy - INFO - Chain [1] done processing\n"
     ]
    },
    {
     "name": "stdout",
     "output_type": "stream",
     "text": [
      "RSGMS Sticky_Price_Cpi 0 -138.6672095193418\n"
     ]
    },
    {
     "name": "stderr",
     "output_type": "stream",
     "text": [
      "11:00:53 - cmdstanpy - INFO - Chain [1] start processing\n",
      "11:00:53 - cmdstanpy - INFO - Chain [1] done processing\n"
     ]
    },
    {
     "name": "stdout",
     "output_type": "stream",
     "text": [
      "RSGMS International_Trade 0 -144.13738064790672\n"
     ]
    },
    {
     "name": "stderr",
     "output_type": "stream",
     "text": [
      "11:00:56 - cmdstanpy - INFO - Chain [1] start processing\n",
      "11:00:56 - cmdstanpy - INFO - Chain [1] done processing\n"
     ]
    },
    {
     "name": "stdout",
     "output_type": "stream",
     "text": [
      "RSGMS Med_Cpi 0 -123.41272032675053\n"
     ]
    },
    {
     "name": "stderr",
     "output_type": "stream",
     "text": [
      "11:00:58 - cmdstanpy - INFO - Chain [1] start processing\n",
      "11:00:58 - cmdstanpy - INFO - Chain [1] done processing\n"
     ]
    },
    {
     "name": "stdout",
     "output_type": "stream",
     "text": [
      "RSGMS CPI 0 -118.51430816376445\n"
     ]
    },
    {
     "name": "stderr",
     "output_type": "stream",
     "text": [
      "11:01:00 - cmdstanpy - INFO - Chain [1] start processing\n",
      "11:01:00 - cmdstanpy - INFO - Chain [1] done processing\n",
      "11:01:02 - cmdstanpy - INFO - Chain [1] start processing\n",
      "11:01:02 - cmdstanpy - INFO - Chain [1] done processing\n"
     ]
    },
    {
     "name": "stdout",
     "output_type": "stream",
     "text": [
      "RSGMS 1 -173.80601852777363\n"
     ]
    },
    {
     "name": "stderr",
     "output_type": "stream",
     "text": [
      "11:01:04 - cmdstanpy - INFO - Chain [1] start processing\n",
      "11:01:04 - cmdstanpy - INFO - Chain [1] done processing\n",
      "11:01:06 - cmdstanpy - INFO - Chain [1] start processing\n",
      "11:01:06 - cmdstanpy - INFO - Chain [1] done processing\n"
     ]
    },
    {
     "name": "stdout",
     "output_type": "stream",
     "text": [
      "RSGMS break_inflate10 1 -186.24454646541795\n"
     ]
    },
    {
     "name": "stderr",
     "output_type": "stream",
     "text": [
      "11:01:08 - cmdstanpy - INFO - Chain [1] start processing\n",
      "11:01:08 - cmdstanpy - INFO - Chain [1] done processing\n",
      "11:01:10 - cmdstanpy - INFO - Chain [1] start processing\n",
      "11:01:10 - cmdstanpy - INFO - Chain [1] done processing\n"
     ]
    },
    {
     "name": "stdout",
     "output_type": "stream",
     "text": [
      "RSGMS employ_rate 1 -168.26891312630417\n"
     ]
    },
    {
     "name": "stderr",
     "output_type": "stream",
     "text": [
      "11:01:12 - cmdstanpy - INFO - Chain [1] start processing\n",
      "11:01:12 - cmdstanpy - INFO - Chain [1] done processing\n",
      "11:01:14 - cmdstanpy - INFO - Chain [1] start processing\n",
      "11:01:14 - cmdstanpy - INFO - Chain [1] done processing\n"
     ]
    },
    {
     "name": "stdout",
     "output_type": "stream",
     "text": [
      "RSGMS indust_prod 1 -161.22599463040257\n"
     ]
    },
    {
     "name": "stderr",
     "output_type": "stream",
     "text": [
      "11:01:16 - cmdstanpy - INFO - Chain [1] start processing\n",
      "11:01:16 - cmdstanpy - INFO - Chain [1] done processing\n",
      "11:01:18 - cmdstanpy - INFO - Chain [1] start processing\n"
     ]
    },
    {
     "name": "stdout",
     "output_type": "stream",
     "text": [
      "RSGMS mortgage_rate30 1 -158.52032666873257\n"
     ]
    },
    {
     "name": "stderr",
     "output_type": "stream",
     "text": [
      "11:01:18 - cmdstanpy - INFO - Chain [1] done processing\n",
      "11:01:20 - cmdstanpy - INFO - Chain [1] start processing\n",
      "11:01:20 - cmdstanpy - INFO - Chain [1] done processing\n",
      "11:01:22 - cmdstanpy - INFO - Chain [1] start processing\n",
      "11:01:22 - cmdstanpy - INFO - Chain [1] done processing\n"
     ]
    },
    {
     "name": "stdout",
     "output_type": "stream",
     "text": [
      "RSGMS Sticky_Price_Cpi 1 -150.49235930444556\n"
     ]
    },
    {
     "name": "stderr",
     "output_type": "stream",
     "text": [
      "11:01:24 - cmdstanpy - INFO - Chain [1] start processing\n",
      "11:01:25 - cmdstanpy - INFO - Chain [1] done processing\n",
      "11:01:27 - cmdstanpy - INFO - Chain [1] start processing\n",
      "11:01:27 - cmdstanpy - INFO - Chain [1] done processing\n"
     ]
    },
    {
     "name": "stdout",
     "output_type": "stream",
     "text": [
      "RSGMS International_Trade 1 -156.37730351278014\n"
     ]
    },
    {
     "name": "stderr",
     "output_type": "stream",
     "text": [
      "11:01:29 - cmdstanpy - INFO - Chain [1] start processing\n",
      "11:01:29 - cmdstanpy - INFO - Chain [1] done processing\n",
      "11:01:31 - cmdstanpy - INFO - Chain [1] start processing\n",
      "11:01:31 - cmdstanpy - INFO - Chain [1] done processing\n"
     ]
    },
    {
     "name": "stdout",
     "output_type": "stream",
     "text": [
      "RSGMS Med_Cpi 1 -167.0320030058789\n"
     ]
    },
    {
     "name": "stderr",
     "output_type": "stream",
     "text": [
      "11:01:33 - cmdstanpy - INFO - Chain [1] start processing\n",
      "11:01:33 - cmdstanpy - INFO - Chain [1] done processing\n",
      "11:01:35 - cmdstanpy - INFO - Chain [1] start processing\n",
      "11:01:35 - cmdstanpy - INFO - Chain [1] done processing\n"
     ]
    },
    {
     "name": "stdout",
     "output_type": "stream",
     "text": [
      "RSGMS CPI 1 -180.06202735452757\n"
     ]
    },
    {
     "name": "stderr",
     "output_type": "stream",
     "text": [
      "11:01:37 - cmdstanpy - INFO - Chain [1] start processing\n",
      "11:01:37 - cmdstanpy - INFO - Chain [1] done processing\n",
      "11:01:39 - cmdstanpy - INFO - Chain [1] start processing\n",
      "11:01:39 - cmdstanpy - INFO - Chain [1] done processing\n"
     ]
    },
    {
     "name": "stdout",
     "output_type": "stream",
     "text": [
      "RSGMS 2 -142.6787814325175\n"
     ]
    },
    {
     "name": "stderr",
     "output_type": "stream",
     "text": [
      "11:01:41 - cmdstanpy - INFO - Chain [1] start processing\n",
      "11:01:41 - cmdstanpy - INFO - Chain [1] done processing\n",
      "11:01:43 - cmdstanpy - INFO - Chain [1] start processing\n",
      "11:01:43 - cmdstanpy - INFO - Chain [1] done processing\n"
     ]
    },
    {
     "name": "stdout",
     "output_type": "stream",
     "text": [
      "RSGMS break_inflate10 2 -198.87041581259857\n"
     ]
    },
    {
     "name": "stderr",
     "output_type": "stream",
     "text": [
      "11:01:45 - cmdstanpy - INFO - Chain [1] start processing\n",
      "11:01:45 - cmdstanpy - INFO - Chain [1] done processing\n",
      "11:01:47 - cmdstanpy - INFO - Chain [1] start processing\n",
      "11:01:47 - cmdstanpy - INFO - Chain [1] done processing\n"
     ]
    },
    {
     "name": "stdout",
     "output_type": "stream",
     "text": [
      "RSGMS employ_rate 2 -144.86310047556674\n"
     ]
    },
    {
     "name": "stderr",
     "output_type": "stream",
     "text": [
      "11:01:49 - cmdstanpy - INFO - Chain [1] start processing\n",
      "11:01:49 - cmdstanpy - INFO - Chain [1] done processing\n",
      "11:01:51 - cmdstanpy - INFO - Chain [1] start processing\n",
      "11:01:51 - cmdstanpy - INFO - Chain [1] done processing\n"
     ]
    },
    {
     "name": "stdout",
     "output_type": "stream",
     "text": [
      "RSGMS indust_prod 2 -156.8459337040101\n"
     ]
    },
    {
     "name": "stderr",
     "output_type": "stream",
     "text": [
      "11:01:53 - cmdstanpy - INFO - Chain [1] start processing\n",
      "11:01:53 - cmdstanpy - INFO - Chain [1] done processing\n",
      "11:01:55 - cmdstanpy - INFO - Chain [1] start processing\n",
      "11:01:55 - cmdstanpy - INFO - Chain [1] done processing\n"
     ]
    },
    {
     "name": "stdout",
     "output_type": "stream",
     "text": [
      "RSGMS mortgage_rate30 2 -125.76673906451367\n"
     ]
    },
    {
     "name": "stderr",
     "output_type": "stream",
     "text": [
      "11:01:57 - cmdstanpy - INFO - Chain [1] start processing\n",
      "11:01:57 - cmdstanpy - INFO - Chain [1] done processing\n",
      "11:01:59 - cmdstanpy - INFO - Chain [1] start processing\n",
      "11:01:59 - cmdstanpy - INFO - Chain [1] done processing\n"
     ]
    },
    {
     "name": "stdout",
     "output_type": "stream",
     "text": [
      "RSGMS Sticky_Price_Cpi 2 -136.14360548802247\n"
     ]
    },
    {
     "name": "stderr",
     "output_type": "stream",
     "text": [
      "11:02:01 - cmdstanpy - INFO - Chain [1] start processing\n",
      "11:02:01 - cmdstanpy - INFO - Chain [1] done processing\n",
      "11:02:03 - cmdstanpy - INFO - Chain [1] start processing\n",
      "11:02:03 - cmdstanpy - INFO - Chain [1] done processing\n"
     ]
    },
    {
     "name": "stdout",
     "output_type": "stream",
     "text": [
      "RSGMS International_Trade 2 -179.48084262863077\n"
     ]
    },
    {
     "name": "stderr",
     "output_type": "stream",
     "text": [
      "11:02:05 - cmdstanpy - INFO - Chain [1] start processing\n",
      "11:02:05 - cmdstanpy - INFO - Chain [1] done processing\n",
      "11:02:07 - cmdstanpy - INFO - Chain [1] start processing\n",
      "11:02:07 - cmdstanpy - INFO - Chain [1] done processing\n"
     ]
    },
    {
     "name": "stdout",
     "output_type": "stream",
     "text": [
      "RSGMS Med_Cpi 2 -144.62885814780756\n"
     ]
    },
    {
     "name": "stderr",
     "output_type": "stream",
     "text": [
      "11:02:09 - cmdstanpy - INFO - Chain [1] start processing\n",
      "11:02:09 - cmdstanpy - INFO - Chain [1] done processing\n",
      "11:02:11 - cmdstanpy - INFO - Chain [1] start processing\n",
      "11:02:11 - cmdstanpy - INFO - Chain [1] done processing\n"
     ]
    },
    {
     "name": "stdout",
     "output_type": "stream",
     "text": [
      "RSGMS CPI 2 -161.98387345199106\n"
     ]
    },
    {
     "name": "stderr",
     "output_type": "stream",
     "text": [
      "11:02:13 - cmdstanpy - INFO - Chain [1] start processing\n",
      "11:02:14 - cmdstanpy - INFO - Chain [1] done processing\n",
      "11:02:15 - cmdstanpy - INFO - Chain [1] start processing\n",
      "11:02:16 - cmdstanpy - INFO - Chain [1] done processing\n"
     ]
    },
    {
     "name": "stdout",
     "output_type": "stream",
     "text": [
      "RSGMS 3 -129.1403202490488\n"
     ]
    },
    {
     "name": "stderr",
     "output_type": "stream",
     "text": [
      "11:02:17 - cmdstanpy - INFO - Chain [1] start processing\n",
      "11:02:18 - cmdstanpy - INFO - Chain [1] done processing\n",
      "11:02:19 - cmdstanpy - INFO - Chain [1] start processing\n",
      "11:02:19 - cmdstanpy - INFO - Chain [1] done processing\n"
     ]
    },
    {
     "name": "stdout",
     "output_type": "stream",
     "text": [
      "RSGMS break_inflate10 3 -203.59309820128044\n"
     ]
    },
    {
     "name": "stderr",
     "output_type": "stream",
     "text": [
      "11:02:21 - cmdstanpy - INFO - Chain [1] start processing\n",
      "11:02:22 - cmdstanpy - INFO - Chain [1] done processing\n",
      "11:02:23 - cmdstanpy - INFO - Chain [1] start processing\n",
      "11:02:23 - cmdstanpy - INFO - Chain [1] done processing\n"
     ]
    },
    {
     "name": "stdout",
     "output_type": "stream",
     "text": [
      "RSGMS employ_rate 3 -131.88262139858298\n"
     ]
    },
    {
     "name": "stderr",
     "output_type": "stream",
     "text": [
      "11:02:25 - cmdstanpy - INFO - Chain [1] start processing\n",
      "11:02:26 - cmdstanpy - INFO - Chain [1] done processing\n",
      "11:02:28 - cmdstanpy - INFO - Chain [1] start processing\n",
      "11:02:28 - cmdstanpy - INFO - Chain [1] done processing\n"
     ]
    },
    {
     "name": "stdout",
     "output_type": "stream",
     "text": [
      "RSGMS indust_prod 3 -133.38224077824515\n"
     ]
    },
    {
     "name": "stderr",
     "output_type": "stream",
     "text": [
      "11:02:30 - cmdstanpy - INFO - Chain [1] start processing\n",
      "11:02:30 - cmdstanpy - INFO - Chain [1] done processing\n",
      "11:02:32 - cmdstanpy - INFO - Chain [1] start processing\n",
      "11:02:32 - cmdstanpy - INFO - Chain [1] done processing\n"
     ]
    },
    {
     "name": "stdout",
     "output_type": "stream",
     "text": [
      "RSGMS mortgage_rate30 3 -108.34511940813188\n"
     ]
    },
    {
     "name": "stderr",
     "output_type": "stream",
     "text": [
      "11:02:34 - cmdstanpy - INFO - Chain [1] start processing\n",
      "11:02:34 - cmdstanpy - INFO - Chain [1] done processing\n",
      "11:02:36 - cmdstanpy - INFO - Chain [1] start processing\n",
      "11:02:36 - cmdstanpy - INFO - Chain [1] done processing\n"
     ]
    },
    {
     "name": "stdout",
     "output_type": "stream",
     "text": [
      "RSGMS Sticky_Price_Cpi 3 -119.18806394713972\n"
     ]
    },
    {
     "name": "stderr",
     "output_type": "stream",
     "text": [
      "11:02:38 - cmdstanpy - INFO - Chain [1] start processing\n",
      "11:02:38 - cmdstanpy - INFO - Chain [1] done processing\n",
      "11:02:40 - cmdstanpy - INFO - Chain [1] start processing\n",
      "11:02:40 - cmdstanpy - INFO - Chain [1] done processing\n"
     ]
    },
    {
     "name": "stdout",
     "output_type": "stream",
     "text": [
      "RSGMS International_Trade 3 -144.02313156089318\n"
     ]
    },
    {
     "name": "stderr",
     "output_type": "stream",
     "text": [
      "11:02:42 - cmdstanpy - INFO - Chain [1] start processing\n",
      "11:02:42 - cmdstanpy - INFO - Chain [1] done processing\n",
      "11:02:44 - cmdstanpy - INFO - Chain [1] start processing\n",
      "11:02:44 - cmdstanpy - INFO - Chain [1] done processing\n"
     ]
    },
    {
     "name": "stdout",
     "output_type": "stream",
     "text": [
      "RSGMS Med_Cpi 3 -119.209131926303\n"
     ]
    },
    {
     "name": "stderr",
     "output_type": "stream",
     "text": [
      "11:02:46 - cmdstanpy - INFO - Chain [1] start processing\n",
      "11:02:46 - cmdstanpy - INFO - Chain [1] done processing\n",
      "11:02:48 - cmdstanpy - INFO - Chain [1] start processing\n",
      "11:02:48 - cmdstanpy - INFO - Chain [1] done processing\n"
     ]
    },
    {
     "name": "stdout",
     "output_type": "stream",
     "text": [
      "RSGMS CPI 3 -130.01725331654217\n"
     ]
    },
    {
     "name": "stderr",
     "output_type": "stream",
     "text": [
      "11:02:50 - cmdstanpy - INFO - Chain [1] start processing\n",
      "11:02:51 - cmdstanpy - INFO - Chain [1] done processing\n",
      "11:02:53 - cmdstanpy - INFO - Chain [1] start processing\n",
      "11:02:53 - cmdstanpy - INFO - Chain [1] done processing\n"
     ]
    },
    {
     "name": "stdout",
     "output_type": "stream",
     "text": [
      "RSGMS 4 -301.20291134206417\n"
     ]
    },
    {
     "name": "stderr",
     "output_type": "stream",
     "text": [
      "11:02:55 - cmdstanpy - INFO - Chain [1] start processing\n",
      "11:02:55 - cmdstanpy - INFO - Chain [1] done processing\n",
      "11:02:57 - cmdstanpy - INFO - Chain [1] start processing\n",
      "11:02:57 - cmdstanpy - INFO - Chain [1] done processing\n"
     ]
    },
    {
     "name": "stdout",
     "output_type": "stream",
     "text": [
      "RSGMS break_inflate10 4 -164.52009844146124\n"
     ]
    },
    {
     "name": "stderr",
     "output_type": "stream",
     "text": [
      "11:02:59 - cmdstanpy - INFO - Chain [1] start processing\n",
      "11:02:59 - cmdstanpy - INFO - Chain [1] done processing\n",
      "11:03:01 - cmdstanpy - INFO - Chain [1] start processing\n"
     ]
    },
    {
     "name": "stdout",
     "output_type": "stream",
     "text": [
      "RSGMS employ_rate 4 -145.74545755833157\n"
     ]
    },
    {
     "name": "stderr",
     "output_type": "stream",
     "text": [
      "11:03:01 - cmdstanpy - INFO - Chain [1] done processing\n",
      "11:03:03 - cmdstanpy - INFO - Chain [1] start processing\n",
      "11:03:04 - cmdstanpy - INFO - Chain [1] done processing\n",
      "11:03:06 - cmdstanpy - INFO - Chain [1] start processing\n",
      "11:03:06 - cmdstanpy - INFO - Chain [1] done processing\n"
     ]
    },
    {
     "name": "stdout",
     "output_type": "stream",
     "text": [
      "RSGMS indust_prod 4 -170.26918671695324\n"
     ]
    },
    {
     "name": "stderr",
     "output_type": "stream",
     "text": [
      "11:03:08 - cmdstanpy - INFO - Chain [1] start processing\n",
      "11:03:08 - cmdstanpy - INFO - Chain [1] done processing\n",
      "11:03:10 - cmdstanpy - INFO - Chain [1] start processing\n",
      "11:03:10 - cmdstanpy - INFO - Chain [1] done processing\n"
     ]
    },
    {
     "name": "stdout",
     "output_type": "stream",
     "text": [
      "RSGMS mortgage_rate30 4 -347.2845596418879\n"
     ]
    },
    {
     "name": "stderr",
     "output_type": "stream",
     "text": [
      "11:03:12 - cmdstanpy - INFO - Chain [1] start processing\n",
      "11:03:13 - cmdstanpy - INFO - Chain [1] done processing\n",
      "11:03:15 - cmdstanpy - INFO - Chain [1] start processing\n",
      "11:03:15 - cmdstanpy - INFO - Chain [1] done processing\n"
     ]
    },
    {
     "name": "stdout",
     "output_type": "stream",
     "text": [
      "RSGMS Sticky_Price_Cpi 4 -256.77631954643203\n"
     ]
    },
    {
     "name": "stderr",
     "output_type": "stream",
     "text": [
      "11:03:17 - cmdstanpy - INFO - Chain [1] start processing\n",
      "11:03:17 - cmdstanpy - INFO - Chain [1] done processing\n",
      "11:03:19 - cmdstanpy - INFO - Chain [1] start processing\n",
      "11:03:19 - cmdstanpy - INFO - Chain [1] done processing\n"
     ]
    },
    {
     "name": "stdout",
     "output_type": "stream",
     "text": [
      "RSGMS International_Trade 4 -191.64281009150304\n"
     ]
    },
    {
     "name": "stderr",
     "output_type": "stream",
     "text": [
      "11:03:21 - cmdstanpy - INFO - Chain [1] start processing\n",
      "11:03:21 - cmdstanpy - INFO - Chain [1] done processing\n",
      "11:03:23 - cmdstanpy - INFO - Chain [1] start processing\n",
      "11:03:23 - cmdstanpy - INFO - Chain [1] done processing\n"
     ]
    },
    {
     "name": "stdout",
     "output_type": "stream",
     "text": [
      "RSGMS Med_Cpi 4 -255.10502148351443\n"
     ]
    },
    {
     "name": "stderr",
     "output_type": "stream",
     "text": [
      "11:03:25 - cmdstanpy - INFO - Chain [1] start processing\n",
      "11:03:25 - cmdstanpy - INFO - Chain [1] done processing\n",
      "11:03:27 - cmdstanpy - INFO - Chain [1] start processing\n",
      "11:03:27 - cmdstanpy - INFO - Chain [1] done processing\n"
     ]
    },
    {
     "name": "stdout",
     "output_type": "stream",
     "text": [
      "RSGMS CPI 4 -258.7170396865188\n"
     ]
    },
    {
     "name": "stderr",
     "output_type": "stream",
     "text": [
      "11:03:29 - cmdstanpy - INFO - Chain [1] start processing\n",
      "11:03:29 - cmdstanpy - INFO - Chain [1] done processing\n"
     ]
    },
    {
     "name": "stdout",
     "output_type": "stream",
     "text": [
      "RSDSELD 0 -94.13121498999443\n"
     ]
    },
    {
     "name": "stderr",
     "output_type": "stream",
     "text": [
      "11:03:31 - cmdstanpy - INFO - Chain [1] start processing\n",
      "11:03:31 - cmdstanpy - INFO - Chain [1] done processing\n"
     ]
    },
    {
     "name": "stdout",
     "output_type": "stream",
     "text": [
      "RSDSELD break_inflate10 0 -82.19517975035565\n"
     ]
    },
    {
     "name": "stderr",
     "output_type": "stream",
     "text": [
      "11:03:33 - cmdstanpy - INFO - Chain [1] start processing\n",
      "11:03:33 - cmdstanpy - INFO - Chain [1] done processing\n"
     ]
    },
    {
     "name": "stdout",
     "output_type": "stream",
     "text": [
      "RSDSELD employ_rate 0 -95.45302650510236\n"
     ]
    },
    {
     "name": "stderr",
     "output_type": "stream",
     "text": [
      "11:03:35 - cmdstanpy - INFO - Chain [1] start processing\n",
      "11:03:35 - cmdstanpy - INFO - Chain [1] done processing\n"
     ]
    },
    {
     "name": "stdout",
     "output_type": "stream",
     "text": [
      "RSDSELD indust_prod 0 -80.11257505868453\n"
     ]
    },
    {
     "name": "stderr",
     "output_type": "stream",
     "text": [
      "11:03:37 - cmdstanpy - INFO - Chain [1] start processing\n",
      "11:03:37 - cmdstanpy - INFO - Chain [1] done processing\n"
     ]
    },
    {
     "name": "stdout",
     "output_type": "stream",
     "text": [
      "RSDSELD mortgage_rate30 0 -75.28237364234843\n"
     ]
    },
    {
     "name": "stderr",
     "output_type": "stream",
     "text": [
      "11:03:39 - cmdstanpy - INFO - Chain [1] start processing\n",
      "11:03:39 - cmdstanpy - INFO - Chain [1] done processing\n"
     ]
    },
    {
     "name": "stdout",
     "output_type": "stream",
     "text": [
      "RSDSELD Sticky_Price_Cpi 0 -98.38672731255184\n"
     ]
    },
    {
     "name": "stderr",
     "output_type": "stream",
     "text": [
      "11:03:41 - cmdstanpy - INFO - Chain [1] start processing\n",
      "11:03:41 - cmdstanpy - INFO - Chain [1] done processing\n"
     ]
    },
    {
     "name": "stdout",
     "output_type": "stream",
     "text": [
      "RSDSELD International_Trade 0 -79.14946307146822\n"
     ]
    },
    {
     "name": "stderr",
     "output_type": "stream",
     "text": [
      "11:03:42 - cmdstanpy - INFO - Chain [1] start processing\n",
      "11:03:43 - cmdstanpy - INFO - Chain [1] done processing\n"
     ]
    },
    {
     "name": "stdout",
     "output_type": "stream",
     "text": [
      "RSDSELD Med_Cpi 0 -92.88296796862572\n"
     ]
    },
    {
     "name": "stderr",
     "output_type": "stream",
     "text": [
      "11:03:44 - cmdstanpy - INFO - Chain [1] start processing\n",
      "11:03:44 - cmdstanpy - INFO - Chain [1] done processing\n"
     ]
    },
    {
     "name": "stdout",
     "output_type": "stream",
     "text": [
      "RSDSELD CPI 0 -88.75190350869111\n"
     ]
    },
    {
     "name": "stderr",
     "output_type": "stream",
     "text": [
      "11:03:46 - cmdstanpy - INFO - Chain [1] start processing\n",
      "11:03:46 - cmdstanpy - INFO - Chain [1] done processing\n",
      "11:03:48 - cmdstanpy - INFO - Chain [1] start processing\n",
      "11:03:48 - cmdstanpy - INFO - Chain [1] done processing\n"
     ]
    },
    {
     "name": "stdout",
     "output_type": "stream",
     "text": [
      "RSDSELD 1 -89.05196006277728\n"
     ]
    },
    {
     "name": "stderr",
     "output_type": "stream",
     "text": [
      "11:03:50 - cmdstanpy - INFO - Chain [1] start processing\n",
      "11:03:50 - cmdstanpy - INFO - Chain [1] done processing\n",
      "11:03:52 - cmdstanpy - INFO - Chain [1] start processing\n",
      "11:03:52 - cmdstanpy - INFO - Chain [1] done processing\n"
     ]
    },
    {
     "name": "stdout",
     "output_type": "stream",
     "text": [
      "RSDSELD break_inflate10 1 -71.98624261660062\n"
     ]
    },
    {
     "name": "stderr",
     "output_type": "stream",
     "text": [
      "11:03:54 - cmdstanpy - INFO - Chain [1] start processing\n",
      "11:03:54 - cmdstanpy - INFO - Chain [1] done processing\n",
      "11:03:56 - cmdstanpy - INFO - Chain [1] start processing\n",
      "11:03:56 - cmdstanpy - INFO - Chain [1] done processing\n"
     ]
    },
    {
     "name": "stdout",
     "output_type": "stream",
     "text": [
      "RSDSELD employ_rate 1 -89.16743127966848\n"
     ]
    },
    {
     "name": "stderr",
     "output_type": "stream",
     "text": [
      "11:03:58 - cmdstanpy - INFO - Chain [1] start processing\n",
      "11:03:58 - cmdstanpy - INFO - Chain [1] done processing\n",
      "11:04:00 - cmdstanpy - INFO - Chain [1] start processing\n",
      "11:04:00 - cmdstanpy - INFO - Chain [1] done processing\n"
     ]
    },
    {
     "name": "stdout",
     "output_type": "stream",
     "text": [
      "RSDSELD indust_prod 1 -64.1288954513712\n"
     ]
    },
    {
     "name": "stderr",
     "output_type": "stream",
     "text": [
      "11:04:02 - cmdstanpy - INFO - Chain [1] start processing\n",
      "11:04:02 - cmdstanpy - INFO - Chain [1] done processing\n",
      "11:04:04 - cmdstanpy - INFO - Chain [1] start processing\n",
      "11:04:04 - cmdstanpy - INFO - Chain [1] done processing\n"
     ]
    },
    {
     "name": "stdout",
     "output_type": "stream",
     "text": [
      "RSDSELD mortgage_rate30 1 -72.53427299443189\n"
     ]
    },
    {
     "name": "stderr",
     "output_type": "stream",
     "text": [
      "11:04:05 - cmdstanpy - INFO - Chain [1] start processing\n",
      "11:04:06 - cmdstanpy - INFO - Chain [1] done processing\n",
      "11:04:07 - cmdstanpy - INFO - Chain [1] start processing\n",
      "11:04:07 - cmdstanpy - INFO - Chain [1] done processing\n"
     ]
    },
    {
     "name": "stdout",
     "output_type": "stream",
     "text": [
      "RSDSELD Sticky_Price_Cpi 1 -89.32662093006581\n"
     ]
    },
    {
     "name": "stderr",
     "output_type": "stream",
     "text": [
      "11:04:09 - cmdstanpy - INFO - Chain [1] start processing\n",
      "11:04:09 - cmdstanpy - INFO - Chain [1] done processing\n",
      "11:04:11 - cmdstanpy - INFO - Chain [1] start processing\n",
      "11:04:11 - cmdstanpy - INFO - Chain [1] done processing\n"
     ]
    },
    {
     "name": "stdout",
     "output_type": "stream",
     "text": [
      "RSDSELD International_Trade 1 -67.27297935139664\n"
     ]
    },
    {
     "name": "stderr",
     "output_type": "stream",
     "text": [
      "11:04:13 - cmdstanpy - INFO - Chain [1] start processing\n",
      "11:04:13 - cmdstanpy - INFO - Chain [1] done processing\n",
      "11:04:15 - cmdstanpy - INFO - Chain [1] start processing\n",
      "11:04:15 - cmdstanpy - INFO - Chain [1] done processing\n"
     ]
    },
    {
     "name": "stdout",
     "output_type": "stream",
     "text": [
      "RSDSELD Med_Cpi 1 -87.14532463214513\n"
     ]
    },
    {
     "name": "stderr",
     "output_type": "stream",
     "text": [
      "11:04:17 - cmdstanpy - INFO - Chain [1] start processing\n",
      "11:04:17 - cmdstanpy - INFO - Chain [1] done processing\n",
      "11:04:19 - cmdstanpy - INFO - Chain [1] start processing\n",
      "11:04:19 - cmdstanpy - INFO - Chain [1] done processing\n"
     ]
    },
    {
     "name": "stdout",
     "output_type": "stream",
     "text": [
      "RSDSELD CPI 1 -78.95418463994751\n"
     ]
    },
    {
     "name": "stderr",
     "output_type": "stream",
     "text": [
      "11:04:21 - cmdstanpy - INFO - Chain [1] start processing\n",
      "11:04:21 - cmdstanpy - INFO - Chain [1] done processing\n",
      "11:04:23 - cmdstanpy - INFO - Chain [1] start processing\n",
      "11:04:23 - cmdstanpy - INFO - Chain [1] done processing\n"
     ]
    },
    {
     "name": "stdout",
     "output_type": "stream",
     "text": [
      "RSDSELD 2 -86.41296112447651\n"
     ]
    },
    {
     "name": "stderr",
     "output_type": "stream",
     "text": [
      "11:04:25 - cmdstanpy - INFO - Chain [1] start processing\n",
      "11:04:25 - cmdstanpy - INFO - Chain [1] done processing\n",
      "11:04:27 - cmdstanpy - INFO - Chain [1] start processing\n",
      "11:04:27 - cmdstanpy - INFO - Chain [1] done processing\n"
     ]
    },
    {
     "name": "stdout",
     "output_type": "stream",
     "text": [
      "RSDSELD break_inflate10 2 -66.2152942588399\n"
     ]
    },
    {
     "name": "stderr",
     "output_type": "stream",
     "text": [
      "11:04:29 - cmdstanpy - INFO - Chain [1] start processing\n",
      "11:04:29 - cmdstanpy - INFO - Chain [1] done processing\n",
      "11:04:31 - cmdstanpy - INFO - Chain [1] start processing\n",
      "11:04:31 - cmdstanpy - INFO - Chain [1] done processing\n"
     ]
    },
    {
     "name": "stdout",
     "output_type": "stream",
     "text": [
      "RSDSELD employ_rate 2 -94.36853142007976\n"
     ]
    },
    {
     "name": "stderr",
     "output_type": "stream",
     "text": [
      "11:04:33 - cmdstanpy - INFO - Chain [1] start processing\n",
      "11:04:33 - cmdstanpy - INFO - Chain [1] done processing\n",
      "11:04:34 - cmdstanpy - INFO - Chain [1] start processing\n",
      "11:04:34 - cmdstanpy - INFO - Chain [1] done processing\n"
     ]
    },
    {
     "name": "stdout",
     "output_type": "stream",
     "text": [
      "RSDSELD indust_prod 2 -71.09424388142236\n"
     ]
    },
    {
     "name": "stderr",
     "output_type": "stream",
     "text": [
      "11:04:36 - cmdstanpy - INFO - Chain [1] start processing\n",
      "11:04:36 - cmdstanpy - INFO - Chain [1] done processing\n",
      "11:04:38 - cmdstanpy - INFO - Chain [1] start processing\n",
      "11:04:38 - cmdstanpy - INFO - Chain [1] done processing\n"
     ]
    },
    {
     "name": "stdout",
     "output_type": "stream",
     "text": [
      "RSDSELD mortgage_rate30 2 -70.12297069465497\n"
     ]
    },
    {
     "name": "stderr",
     "output_type": "stream",
     "text": [
      "11:04:40 - cmdstanpy - INFO - Chain [1] start processing\n",
      "11:04:40 - cmdstanpy - INFO - Chain [1] done processing\n",
      "11:04:42 - cmdstanpy - INFO - Chain [1] start processing\n",
      "11:04:42 - cmdstanpy - INFO - Chain [1] done processing\n"
     ]
    },
    {
     "name": "stdout",
     "output_type": "stream",
     "text": [
      "RSDSELD Sticky_Price_Cpi 2 -88.9572208018664\n"
     ]
    },
    {
     "name": "stderr",
     "output_type": "stream",
     "text": [
      "11:04:44 - cmdstanpy - INFO - Chain [1] start processing\n",
      "11:04:44 - cmdstanpy - INFO - Chain [1] done processing\n",
      "11:04:46 - cmdstanpy - INFO - Chain [1] start processing\n",
      "11:04:46 - cmdstanpy - INFO - Chain [1] done processing\n"
     ]
    },
    {
     "name": "stdout",
     "output_type": "stream",
     "text": [
      "RSDSELD International_Trade 2 -67.84431289414132\n"
     ]
    },
    {
     "name": "stderr",
     "output_type": "stream",
     "text": [
      "11:04:48 - cmdstanpy - INFO - Chain [1] start processing\n",
      "11:04:48 - cmdstanpy - INFO - Chain [1] done processing\n",
      "11:04:50 - cmdstanpy - INFO - Chain [1] start processing\n",
      "11:04:50 - cmdstanpy - INFO - Chain [1] done processing\n"
     ]
    },
    {
     "name": "stdout",
     "output_type": "stream",
     "text": [
      "RSDSELD Med_Cpi 2 -90.12076001175284\n"
     ]
    },
    {
     "name": "stderr",
     "output_type": "stream",
     "text": [
      "11:04:52 - cmdstanpy - INFO - Chain [1] start processing\n",
      "11:04:52 - cmdstanpy - INFO - Chain [1] done processing\n",
      "11:04:54 - cmdstanpy - INFO - Chain [1] start processing\n",
      "11:04:54 - cmdstanpy - INFO - Chain [1] done processing\n"
     ]
    },
    {
     "name": "stdout",
     "output_type": "stream",
     "text": [
      "RSDSELD CPI 2 -74.0199192986389\n"
     ]
    },
    {
     "name": "stderr",
     "output_type": "stream",
     "text": [
      "11:04:56 - cmdstanpy - INFO - Chain [1] start processing\n",
      "11:04:56 - cmdstanpy - INFO - Chain [1] done processing\n",
      "11:04:58 - cmdstanpy - INFO - Chain [1] start processing\n",
      "11:04:58 - cmdstanpy - INFO - Chain [1] done processing\n"
     ]
    },
    {
     "name": "stdout",
     "output_type": "stream",
     "text": [
      "RSDSELD 3 -92.9895300212861\n"
     ]
    },
    {
     "name": "stderr",
     "output_type": "stream",
     "text": [
      "11:05:00 - cmdstanpy - INFO - Chain [1] start processing\n",
      "11:05:00 - cmdstanpy - INFO - Chain [1] done processing\n",
      "11:05:02 - cmdstanpy - INFO - Chain [1] start processing\n",
      "11:05:02 - cmdstanpy - INFO - Chain [1] done processing\n"
     ]
    },
    {
     "name": "stdout",
     "output_type": "stream",
     "text": [
      "RSDSELD break_inflate10 3 -93.46310375828237\n"
     ]
    },
    {
     "name": "stderr",
     "output_type": "stream",
     "text": [
      "11:05:03 - cmdstanpy - INFO - Chain [1] start processing\n",
      "11:05:04 - cmdstanpy - INFO - Chain [1] done processing\n",
      "11:05:05 - cmdstanpy - INFO - Chain [1] start processing\n",
      "11:05:05 - cmdstanpy - INFO - Chain [1] done processing\n"
     ]
    },
    {
     "name": "stdout",
     "output_type": "stream",
     "text": [
      "RSDSELD employ_rate 3 -93.33820736353178\n"
     ]
    },
    {
     "name": "stderr",
     "output_type": "stream",
     "text": [
      "11:05:07 - cmdstanpy - INFO - Chain [1] start processing\n",
      "11:05:07 - cmdstanpy - INFO - Chain [1] done processing\n",
      "11:05:09 - cmdstanpy - INFO - Chain [1] start processing\n",
      "11:05:09 - cmdstanpy - INFO - Chain [1] done processing\n"
     ]
    },
    {
     "name": "stdout",
     "output_type": "stream",
     "text": [
      "RSDSELD indust_prod 3 -73.71359580836054\n"
     ]
    },
    {
     "name": "stderr",
     "output_type": "stream",
     "text": [
      "11:05:11 - cmdstanpy - INFO - Chain [1] start processing\n",
      "11:05:11 - cmdstanpy - INFO - Chain [1] done processing\n",
      "11:05:13 - cmdstanpy - INFO - Chain [1] start processing\n",
      "11:05:13 - cmdstanpy - INFO - Chain [1] done processing\n"
     ]
    },
    {
     "name": "stdout",
     "output_type": "stream",
     "text": [
      "RSDSELD mortgage_rate30 3 -78.91405268561871\n"
     ]
    },
    {
     "name": "stderr",
     "output_type": "stream",
     "text": [
      "11:05:15 - cmdstanpy - INFO - Chain [1] start processing\n",
      "11:05:15 - cmdstanpy - INFO - Chain [1] done processing\n",
      "11:05:17 - cmdstanpy - INFO - Chain [1] start processing\n",
      "11:05:17 - cmdstanpy - INFO - Chain [1] done processing\n"
     ]
    },
    {
     "name": "stdout",
     "output_type": "stream",
     "text": [
      "RSDSELD Sticky_Price_Cpi 3 -92.6626223069264\n"
     ]
    },
    {
     "name": "stderr",
     "output_type": "stream",
     "text": [
      "11:05:19 - cmdstanpy - INFO - Chain [1] start processing\n",
      "11:05:19 - cmdstanpy - INFO - Chain [1] done processing\n",
      "11:05:21 - cmdstanpy - INFO - Chain [1] start processing\n",
      "11:05:21 - cmdstanpy - INFO - Chain [1] done processing\n"
     ]
    },
    {
     "name": "stdout",
     "output_type": "stream",
     "text": [
      "RSDSELD International_Trade 3 -85.32062499141534\n"
     ]
    },
    {
     "name": "stderr",
     "output_type": "stream",
     "text": [
      "11:05:23 - cmdstanpy - INFO - Chain [1] start processing\n",
      "11:05:23 - cmdstanpy - INFO - Chain [1] done processing\n",
      "11:05:25 - cmdstanpy - INFO - Chain [1] start processing\n",
      "11:05:25 - cmdstanpy - INFO - Chain [1] done processing\n"
     ]
    },
    {
     "name": "stdout",
     "output_type": "stream",
     "text": [
      "RSDSELD Med_Cpi 3 -96.72671450707455\n"
     ]
    },
    {
     "name": "stderr",
     "output_type": "stream",
     "text": [
      "11:05:27 - cmdstanpy - INFO - Chain [1] start processing\n",
      "11:05:27 - cmdstanpy - INFO - Chain [1] done processing\n",
      "11:05:29 - cmdstanpy - INFO - Chain [1] start processing\n",
      "11:05:29 - cmdstanpy - INFO - Chain [1] done processing\n"
     ]
    },
    {
     "name": "stdout",
     "output_type": "stream",
     "text": [
      "RSDSELD CPI 3 -91.21203089561149\n"
     ]
    },
    {
     "name": "stderr",
     "output_type": "stream",
     "text": [
      "11:05:31 - cmdstanpy - INFO - Chain [1] start processing\n",
      "11:05:31 - cmdstanpy - INFO - Chain [1] done processing\n",
      "11:05:32 - cmdstanpy - INFO - Chain [1] start processing\n",
      "11:05:33 - cmdstanpy - INFO - Chain [1] done processing\n"
     ]
    },
    {
     "name": "stdout",
     "output_type": "stream",
     "text": [
      "RSDSELD 4 -97.83438374392044\n"
     ]
    },
    {
     "name": "stderr",
     "output_type": "stream",
     "text": [
      "11:05:34 - cmdstanpy - INFO - Chain [1] start processing\n",
      "11:05:35 - cmdstanpy - INFO - Chain [1] done processing\n",
      "11:05:36 - cmdstanpy - INFO - Chain [1] start processing\n",
      "11:05:36 - cmdstanpy - INFO - Chain [1] done processing\n"
     ]
    },
    {
     "name": "stdout",
     "output_type": "stream",
     "text": [
      "RSDSELD break_inflate10 4 -95.88449822351915\n"
     ]
    },
    {
     "name": "stderr",
     "output_type": "stream",
     "text": [
      "11:05:38 - cmdstanpy - INFO - Chain [1] start processing\n",
      "11:05:38 - cmdstanpy - INFO - Chain [1] done processing\n",
      "11:05:40 - cmdstanpy - INFO - Chain [1] start processing\n",
      "11:05:40 - cmdstanpy - INFO - Chain [1] done processing\n"
     ]
    },
    {
     "name": "stdout",
     "output_type": "stream",
     "text": [
      "RSDSELD employ_rate 4 -96.96439434030113\n"
     ]
    },
    {
     "name": "stderr",
     "output_type": "stream",
     "text": [
      "11:05:42 - cmdstanpy - INFO - Chain [1] start processing\n",
      "11:05:42 - cmdstanpy - INFO - Chain [1] done processing\n",
      "11:05:44 - cmdstanpy - INFO - Chain [1] start processing\n",
      "11:05:44 - cmdstanpy - INFO - Chain [1] done processing\n"
     ]
    },
    {
     "name": "stdout",
     "output_type": "stream",
     "text": [
      "RSDSELD indust_prod 4 -86.09673526427437\n"
     ]
    },
    {
     "name": "stderr",
     "output_type": "stream",
     "text": [
      "11:05:46 - cmdstanpy - INFO - Chain [1] start processing\n",
      "11:05:46 - cmdstanpy - INFO - Chain [1] done processing\n",
      "11:05:48 - cmdstanpy - INFO - Chain [1] start processing\n",
      "11:05:48 - cmdstanpy - INFO - Chain [1] done processing\n"
     ]
    },
    {
     "name": "stdout",
     "output_type": "stream",
     "text": [
      "RSDSELD mortgage_rate30 4 -88.6495827714296\n"
     ]
    },
    {
     "name": "stderr",
     "output_type": "stream",
     "text": [
      "11:05:50 - cmdstanpy - INFO - Chain [1] start processing\n",
      "11:05:50 - cmdstanpy - INFO - Chain [1] done processing\n",
      "11:05:52 - cmdstanpy - INFO - Chain [1] start processing\n",
      "11:05:52 - cmdstanpy - INFO - Chain [1] done processing\n"
     ]
    },
    {
     "name": "stdout",
     "output_type": "stream",
     "text": [
      "RSDSELD Sticky_Price_Cpi 4 -98.60916818600313\n"
     ]
    },
    {
     "name": "stderr",
     "output_type": "stream",
     "text": [
      "11:05:54 - cmdstanpy - INFO - Chain [1] start processing\n",
      "11:05:54 - cmdstanpy - INFO - Chain [1] done processing\n",
      "11:05:56 - cmdstanpy - INFO - Chain [1] start processing\n",
      "11:05:56 - cmdstanpy - INFO - Chain [1] done processing\n"
     ]
    },
    {
     "name": "stdout",
     "output_type": "stream",
     "text": [
      "RSDSELD International_Trade 4 -91.50884144445152\n"
     ]
    },
    {
     "name": "stderr",
     "output_type": "stream",
     "text": [
      "11:05:58 - cmdstanpy - INFO - Chain [1] start processing\n",
      "11:05:58 - cmdstanpy - INFO - Chain [1] done processing\n",
      "11:06:00 - cmdstanpy - INFO - Chain [1] start processing\n",
      "11:06:00 - cmdstanpy - INFO - Chain [1] done processing\n"
     ]
    },
    {
     "name": "stdout",
     "output_type": "stream",
     "text": [
      "RSDSELD Med_Cpi 4 -98.85235349994059\n"
     ]
    },
    {
     "name": "stderr",
     "output_type": "stream",
     "text": [
      "11:06:02 - cmdstanpy - INFO - Chain [1] start processing\n",
      "11:06:02 - cmdstanpy - INFO - Chain [1] done processing\n",
      "11:06:04 - cmdstanpy - INFO - Chain [1] start processing\n",
      "11:06:04 - cmdstanpy - INFO - Chain [1] done processing\n"
     ]
    },
    {
     "name": "stdout",
     "output_type": "stream",
     "text": [
      "RSDSELD CPI 4 -97.01984285975114\n"
     ]
    },
    {
     "name": "stderr",
     "output_type": "stream",
     "text": [
      "11:06:06 - cmdstanpy - INFO - Chain [1] start processing\n",
      "11:06:06 - cmdstanpy - INFO - Chain [1] done processing\n"
     ]
    },
    {
     "name": "stdout",
     "output_type": "stream",
     "text": [
      "RSMSR 0 -23.910841315922905\n"
     ]
    },
    {
     "name": "stderr",
     "output_type": "stream",
     "text": [
      "11:06:08 - cmdstanpy - INFO - Chain [1] start processing\n",
      "11:06:08 - cmdstanpy - INFO - Chain [1] done processing\n"
     ]
    },
    {
     "name": "stdout",
     "output_type": "stream",
     "text": [
      "RSMSR break_inflate10 0 -22.477083533784615\n"
     ]
    },
    {
     "name": "stderr",
     "output_type": "stream",
     "text": [
      "11:06:10 - cmdstanpy - INFO - Chain [1] start processing\n",
      "11:06:10 - cmdstanpy - INFO - Chain [1] done processing\n"
     ]
    },
    {
     "name": "stdout",
     "output_type": "stream",
     "text": [
      "RSMSR employ_rate 0 -36.220502544615776\n"
     ]
    },
    {
     "name": "stderr",
     "output_type": "stream",
     "text": [
      "11:06:11 - cmdstanpy - INFO - Chain [1] start processing\n",
      "11:06:11 - cmdstanpy - INFO - Chain [1] done processing\n"
     ]
    },
    {
     "name": "stdout",
     "output_type": "stream",
     "text": [
      "RSMSR indust_prod 0 -23.490587258153084\n"
     ]
    },
    {
     "name": "stderr",
     "output_type": "stream",
     "text": [
      "11:06:13 - cmdstanpy - INFO - Chain [1] start processing\n",
      "11:06:13 - cmdstanpy - INFO - Chain [1] done processing\n"
     ]
    },
    {
     "name": "stdout",
     "output_type": "stream",
     "text": [
      "RSMSR mortgage_rate30 0 -22.391020607410113\n"
     ]
    },
    {
     "name": "stderr",
     "output_type": "stream",
     "text": [
      "11:06:15 - cmdstanpy - INFO - Chain [1] start processing\n",
      "11:06:15 - cmdstanpy - INFO - Chain [1] done processing\n"
     ]
    },
    {
     "name": "stdout",
     "output_type": "stream",
     "text": [
      "RSMSR Sticky_Price_Cpi 0 -27.6886002089795\n"
     ]
    },
    {
     "name": "stderr",
     "output_type": "stream",
     "text": [
      "11:06:17 - cmdstanpy - INFO - Chain [1] start processing\n",
      "11:06:17 - cmdstanpy - INFO - Chain [1] done processing\n"
     ]
    },
    {
     "name": "stdout",
     "output_type": "stream",
     "text": [
      "RSMSR International_Trade 0 -29.932112608517723\n"
     ]
    },
    {
     "name": "stderr",
     "output_type": "stream",
     "text": [
      "11:06:19 - cmdstanpy - INFO - Chain [1] start processing\n",
      "11:06:19 - cmdstanpy - INFO - Chain [1] done processing\n"
     ]
    },
    {
     "name": "stdout",
     "output_type": "stream",
     "text": [
      "RSMSR Med_Cpi 0 -35.13202975784725\n"
     ]
    },
    {
     "name": "stderr",
     "output_type": "stream",
     "text": [
      "11:06:21 - cmdstanpy - INFO - Chain [1] start processing\n",
      "11:06:21 - cmdstanpy - INFO - Chain [1] done processing\n"
     ]
    },
    {
     "name": "stdout",
     "output_type": "stream",
     "text": [
      "RSMSR CPI 0 -18.121982839483145\n"
     ]
    },
    {
     "name": "stderr",
     "output_type": "stream",
     "text": [
      "11:06:23 - cmdstanpy - INFO - Chain [1] start processing\n",
      "11:06:23 - cmdstanpy - INFO - Chain [1] done processing\n",
      "11:06:25 - cmdstanpy - INFO - Chain [1] start processing\n",
      "11:06:25 - cmdstanpy - INFO - Chain [1] done processing\n"
     ]
    },
    {
     "name": "stdout",
     "output_type": "stream",
     "text": [
      "RSMSR 1 -35.673489424433\n"
     ]
    },
    {
     "name": "stderr",
     "output_type": "stream",
     "text": [
      "11:06:27 - cmdstanpy - INFO - Chain [1] start processing\n",
      "11:06:27 - cmdstanpy - INFO - Chain [1] done processing\n",
      "11:06:29 - cmdstanpy - INFO - Chain [1] start processing\n",
      "11:06:29 - cmdstanpy - INFO - Chain [1] done processing\n"
     ]
    },
    {
     "name": "stdout",
     "output_type": "stream",
     "text": [
      "RSMSR break_inflate10 1 -28.720497243247483\n"
     ]
    },
    {
     "name": "stderr",
     "output_type": "stream",
     "text": [
      "11:06:30 - cmdstanpy - INFO - Chain [1] start processing\n",
      "11:06:31 - cmdstanpy - INFO - Chain [1] done processing\n",
      "11:06:32 - cmdstanpy - INFO - Chain [1] start processing\n",
      "11:06:32 - cmdstanpy - INFO - Chain [1] done processing\n"
     ]
    },
    {
     "name": "stdout",
     "output_type": "stream",
     "text": [
      "RSMSR employ_rate 1 -43.19354551859042\n"
     ]
    },
    {
     "name": "stderr",
     "output_type": "stream",
     "text": [
      "11:06:34 - cmdstanpy - INFO - Chain [1] start processing\n",
      "11:06:34 - cmdstanpy - INFO - Chain [1] done processing\n",
      "11:06:36 - cmdstanpy - INFO - Chain [1] start processing\n",
      "11:06:36 - cmdstanpy - INFO - Chain [1] done processing\n"
     ]
    },
    {
     "name": "stdout",
     "output_type": "stream",
     "text": [
      "RSMSR indust_prod 1 -34.018558318099885\n"
     ]
    },
    {
     "name": "stderr",
     "output_type": "stream",
     "text": [
      "11:06:38 - cmdstanpy - INFO - Chain [1] start processing\n",
      "11:06:38 - cmdstanpy - INFO - Chain [1] done processing\n",
      "11:06:40 - cmdstanpy - INFO - Chain [1] start processing\n",
      "11:06:40 - cmdstanpy - INFO - Chain [1] done processing\n"
     ]
    },
    {
     "name": "stdout",
     "output_type": "stream",
     "text": [
      "RSMSR mortgage_rate30 1 -37.52105981449352\n"
     ]
    },
    {
     "name": "stderr",
     "output_type": "stream",
     "text": [
      "11:06:42 - cmdstanpy - INFO - Chain [1] start processing\n",
      "11:06:42 - cmdstanpy - INFO - Chain [1] done processing\n",
      "11:06:44 - cmdstanpy - INFO - Chain [1] start processing\n",
      "11:06:44 - cmdstanpy - INFO - Chain [1] done processing\n"
     ]
    },
    {
     "name": "stdout",
     "output_type": "stream",
     "text": [
      "RSMSR Sticky_Price_Cpi 1 -38.85097018585734\n"
     ]
    },
    {
     "name": "stderr",
     "output_type": "stream",
     "text": [
      "11:06:46 - cmdstanpy - INFO - Chain [1] start processing\n",
      "11:06:46 - cmdstanpy - INFO - Chain [1] done processing\n",
      "11:06:47 - cmdstanpy - INFO - Chain [1] start processing\n",
      "11:06:47 - cmdstanpy - INFO - Chain [1] done processing\n"
     ]
    },
    {
     "name": "stdout",
     "output_type": "stream",
     "text": [
      "RSMSR International_Trade 1 -43.31439026023176\n"
     ]
    },
    {
     "name": "stderr",
     "output_type": "stream",
     "text": [
      "11:06:49 - cmdstanpy - INFO - Chain [1] start processing\n",
      "11:06:49 - cmdstanpy - INFO - Chain [1] done processing\n",
      "11:06:51 - cmdstanpy - INFO - Chain [1] start processing\n",
      "11:06:51 - cmdstanpy - INFO - Chain [1] done processing\n"
     ]
    },
    {
     "name": "stdout",
     "output_type": "stream",
     "text": [
      "RSMSR Med_Cpi 1 -46.45929189444482\n"
     ]
    },
    {
     "name": "stderr",
     "output_type": "stream",
     "text": [
      "11:06:53 - cmdstanpy - INFO - Chain [1] start processing\n",
      "11:06:53 - cmdstanpy - INFO - Chain [1] done processing\n",
      "11:06:55 - cmdstanpy - INFO - Chain [1] start processing\n",
      "11:06:55 - cmdstanpy - INFO - Chain [1] done processing\n"
     ]
    },
    {
     "name": "stdout",
     "output_type": "stream",
     "text": [
      "RSMSR CPI 1 -26.29931875132394\n"
     ]
    },
    {
     "name": "stderr",
     "output_type": "stream",
     "text": [
      "11:06:57 - cmdstanpy - INFO - Chain [1] start processing\n",
      "11:06:57 - cmdstanpy - INFO - Chain [1] done processing\n",
      "11:06:59 - cmdstanpy - INFO - Chain [1] start processing\n",
      "11:06:59 - cmdstanpy - INFO - Chain [1] done processing\n"
     ]
    },
    {
     "name": "stdout",
     "output_type": "stream",
     "text": [
      "RSMSR 2 -52.28636887154495\n"
     ]
    },
    {
     "name": "stderr",
     "output_type": "stream",
     "text": [
      "11:07:01 - cmdstanpy - INFO - Chain [1] start processing\n",
      "11:07:01 - cmdstanpy - INFO - Chain [1] done processing\n",
      "11:07:03 - cmdstanpy - INFO - Chain [1] start processing\n",
      "11:07:03 - cmdstanpy - INFO - Chain [1] done processing\n"
     ]
    },
    {
     "name": "stdout",
     "output_type": "stream",
     "text": [
      "RSMSR break_inflate10 2 -43.418899880000836\n"
     ]
    },
    {
     "name": "stderr",
     "output_type": "stream",
     "text": [
      "11:07:05 - cmdstanpy - INFO - Chain [1] start processing\n",
      "11:07:05 - cmdstanpy - INFO - Chain [1] done processing\n",
      "11:07:07 - cmdstanpy - INFO - Chain [1] start processing\n",
      "11:07:07 - cmdstanpy - INFO - Chain [1] done processing\n"
     ]
    },
    {
     "name": "stdout",
     "output_type": "stream",
     "text": [
      "RSMSR employ_rate 2 -59.73066056093263\n"
     ]
    },
    {
     "name": "stderr",
     "output_type": "stream",
     "text": [
      "11:07:09 - cmdstanpy - INFO - Chain [1] start processing\n",
      "11:07:09 - cmdstanpy - INFO - Chain [1] done processing\n",
      "11:07:11 - cmdstanpy - INFO - Chain [1] start processing\n",
      "11:07:11 - cmdstanpy - INFO - Chain [1] done processing\n"
     ]
    },
    {
     "name": "stdout",
     "output_type": "stream",
     "text": [
      "RSMSR indust_prod 2 -47.8875359378318\n"
     ]
    },
    {
     "name": "stderr",
     "output_type": "stream",
     "text": [
      "11:07:12 - cmdstanpy - INFO - Chain [1] start processing\n",
      "11:07:12 - cmdstanpy - INFO - Chain [1] done processing\n",
      "11:07:14 - cmdstanpy - INFO - Chain [1] start processing\n",
      "11:07:14 - cmdstanpy - INFO - Chain [1] done processing\n"
     ]
    },
    {
     "name": "stdout",
     "output_type": "stream",
     "text": [
      "RSMSR mortgage_rate30 2 -62.9817580779331\n"
     ]
    },
    {
     "name": "stderr",
     "output_type": "stream",
     "text": [
      "11:07:16 - cmdstanpy - INFO - Chain [1] start processing\n",
      "11:07:16 - cmdstanpy - INFO - Chain [1] done processing\n",
      "11:07:18 - cmdstanpy - INFO - Chain [1] start processing\n",
      "11:07:18 - cmdstanpy - INFO - Chain [1] done processing\n"
     ]
    },
    {
     "name": "stdout",
     "output_type": "stream",
     "text": [
      "RSMSR Sticky_Price_Cpi 2 -50.93629047764831\n"
     ]
    },
    {
     "name": "stderr",
     "output_type": "stream",
     "text": [
      "11:07:20 - cmdstanpy - INFO - Chain [1] start processing\n",
      "11:07:20 - cmdstanpy - INFO - Chain [1] done processing\n",
      "11:07:22 - cmdstanpy - INFO - Chain [1] start processing\n",
      "11:07:22 - cmdstanpy - INFO - Chain [1] done processing\n"
     ]
    },
    {
     "name": "stdout",
     "output_type": "stream",
     "text": [
      "RSMSR International_Trade 2 -56.25405479819494\n"
     ]
    },
    {
     "name": "stderr",
     "output_type": "stream",
     "text": [
      "11:07:24 - cmdstanpy - INFO - Chain [1] start processing\n",
      "11:07:24 - cmdstanpy - INFO - Chain [1] done processing\n",
      "11:07:26 - cmdstanpy - INFO - Chain [1] start processing\n",
      "11:07:26 - cmdstanpy - INFO - Chain [1] done processing\n"
     ]
    },
    {
     "name": "stdout",
     "output_type": "stream",
     "text": [
      "RSMSR Med_Cpi 2 -61.43518954307863\n"
     ]
    },
    {
     "name": "stderr",
     "output_type": "stream",
     "text": [
      "11:07:28 - cmdstanpy - INFO - Chain [1] start processing\n",
      "11:07:28 - cmdstanpy - INFO - Chain [1] done processing\n",
      "11:07:29 - cmdstanpy - INFO - Chain [1] start processing\n",
      "11:07:30 - cmdstanpy - INFO - Chain [1] done processing\n"
     ]
    },
    {
     "name": "stdout",
     "output_type": "stream",
     "text": [
      "RSMSR CPI 2 -62.015584787759025\n"
     ]
    },
    {
     "name": "stderr",
     "output_type": "stream",
     "text": [
      "11:07:31 - cmdstanpy - INFO - Chain [1] start processing\n",
      "11:07:31 - cmdstanpy - INFO - Chain [1] done processing\n"
     ]
    },
    {
     "name": "stdout",
     "output_type": "stream",
     "text": [
      "RSMSR 3 -54.80355209520078\n"
     ]
    },
    {
     "name": "stderr",
     "output_type": "stream",
     "text": [
      "11:07:33 - cmdstanpy - INFO - Chain [1] start processing\n",
      "11:07:33 - cmdstanpy - INFO - Chain [1] done processing\n",
      "11:07:35 - cmdstanpy - INFO - Chain [1] start processing\n",
      "11:07:35 - cmdstanpy - INFO - Chain [1] done processing\n",
      "11:07:37 - cmdstanpy - INFO - Chain [1] start processing\n",
      "11:07:37 - cmdstanpy - INFO - Chain [1] done processing\n"
     ]
    },
    {
     "name": "stdout",
     "output_type": "stream",
     "text": [
      "RSMSR break_inflate10 3 -51.63865200181088\n"
     ]
    },
    {
     "name": "stderr",
     "output_type": "stream",
     "text": [
      "11:07:39 - cmdstanpy - INFO - Chain [1] start processing\n",
      "11:07:39 - cmdstanpy - INFO - Chain [1] done processing\n",
      "11:07:41 - cmdstanpy - INFO - Chain [1] start processing\n",
      "11:07:41 - cmdstanpy - INFO - Chain [1] done processing\n"
     ]
    },
    {
     "name": "stdout",
     "output_type": "stream",
     "text": [
      "RSMSR employ_rate 3 -59.5585889927578\n"
     ]
    },
    {
     "name": "stderr",
     "output_type": "stream",
     "text": [
      "11:07:43 - cmdstanpy - INFO - Chain [1] start processing\n",
      "11:07:43 - cmdstanpy - INFO - Chain [1] done processing\n",
      "11:07:45 - cmdstanpy - INFO - Chain [1] start processing\n",
      "11:07:45 - cmdstanpy - INFO - Chain [1] done processing\n"
     ]
    },
    {
     "name": "stdout",
     "output_type": "stream",
     "text": [
      "RSMSR indust_prod 3 -43.737920421731296\n"
     ]
    },
    {
     "name": "stderr",
     "output_type": "stream",
     "text": [
      "11:07:47 - cmdstanpy - INFO - Chain [1] start processing\n",
      "11:07:47 - cmdstanpy - INFO - Chain [1] done processing\n",
      "11:07:49 - cmdstanpy - INFO - Chain [1] start processing\n",
      "11:07:49 - cmdstanpy - INFO - Chain [1] done processing\n"
     ]
    },
    {
     "name": "stdout",
     "output_type": "stream",
     "text": [
      "RSMSR mortgage_rate30 3 -76.66557067880134\n"
     ]
    },
    {
     "name": "stderr",
     "output_type": "stream",
     "text": [
      "11:07:51 - cmdstanpy - INFO - Chain [1] start processing\n",
      "11:07:51 - cmdstanpy - INFO - Chain [1] done processing\n",
      "11:07:53 - cmdstanpy - INFO - Chain [1] start processing\n",
      "11:07:53 - cmdstanpy - INFO - Chain [1] done processing\n"
     ]
    },
    {
     "name": "stdout",
     "output_type": "stream",
     "text": [
      "RSMSR Sticky_Price_Cpi 3 -57.909199356085615\n"
     ]
    },
    {
     "name": "stderr",
     "output_type": "stream",
     "text": [
      "11:07:55 - cmdstanpy - INFO - Chain [1] start processing\n",
      "11:07:55 - cmdstanpy - INFO - Chain [1] done processing\n",
      "11:07:57 - cmdstanpy - INFO - Chain [1] start processing\n",
      "11:07:57 - cmdstanpy - INFO - Chain [1] done processing\n"
     ]
    },
    {
     "name": "stdout",
     "output_type": "stream",
     "text": [
      "RSMSR International_Trade 3 -51.60519709784405\n"
     ]
    },
    {
     "name": "stderr",
     "output_type": "stream",
     "text": [
      "11:07:58 - cmdstanpy - INFO - Chain [1] start processing\n",
      "11:07:59 - cmdstanpy - INFO - Chain [1] done processing\n",
      "11:08:00 - cmdstanpy - INFO - Chain [1] start processing\n",
      "11:08:00 - cmdstanpy - INFO - Chain [1] done processing\n"
     ]
    },
    {
     "name": "stdout",
     "output_type": "stream",
     "text": [
      "RSMSR Med_Cpi 3 -77.931197111145\n"
     ]
    },
    {
     "name": "stderr",
     "output_type": "stream",
     "text": [
      "11:08:02 - cmdstanpy - INFO - Chain [1] start processing\n",
      "11:08:02 - cmdstanpy - INFO - Chain [1] done processing\n",
      "11:08:04 - cmdstanpy - INFO - Chain [1] start processing\n",
      "11:08:04 - cmdstanpy - INFO - Chain [1] done processing\n"
     ]
    },
    {
     "name": "stdout",
     "output_type": "stream",
     "text": [
      "RSMSR CPI 3 -66.65698516268948\n"
     ]
    },
    {
     "name": "stderr",
     "output_type": "stream",
     "text": [
      "11:08:06 - cmdstanpy - INFO - Chain [1] start processing\n",
      "11:08:06 - cmdstanpy - INFO - Chain [1] done processing\n",
      "11:08:08 - cmdstanpy - INFO - Chain [1] start processing\n",
      "11:08:08 - cmdstanpy - INFO - Chain [1] done processing\n"
     ]
    },
    {
     "name": "stdout",
     "output_type": "stream",
     "text": [
      "RSMSR 4 -63.298373033304365\n"
     ]
    },
    {
     "name": "stderr",
     "output_type": "stream",
     "text": [
      "11:08:10 - cmdstanpy - INFO - Chain [1] start processing\n",
      "11:08:10 - cmdstanpy - INFO - Chain [1] done processing\n",
      "11:08:12 - cmdstanpy - INFO - Chain [1] start processing\n",
      "11:08:12 - cmdstanpy - INFO - Chain [1] done processing\n"
     ]
    },
    {
     "name": "stdout",
     "output_type": "stream",
     "text": [
      "RSMSR break_inflate10 4 -58.06832431300564\n"
     ]
    },
    {
     "name": "stderr",
     "output_type": "stream",
     "text": [
      "11:08:14 - cmdstanpy - INFO - Chain [1] start processing\n",
      "11:08:14 - cmdstanpy - INFO - Chain [1] done processing\n",
      "11:08:16 - cmdstanpy - INFO - Chain [1] start processing\n",
      "11:08:16 - cmdstanpy - INFO - Chain [1] done processing\n"
     ]
    },
    {
     "name": "stdout",
     "output_type": "stream",
     "text": [
      "RSMSR employ_rate 4 -63.47584844818398\n"
     ]
    },
    {
     "name": "stderr",
     "output_type": "stream",
     "text": [
      "11:08:18 - cmdstanpy - INFO - Chain [1] start processing\n",
      "11:08:18 - cmdstanpy - INFO - Chain [1] done processing\n",
      "11:08:20 - cmdstanpy - INFO - Chain [1] start processing\n",
      "11:08:20 - cmdstanpy - INFO - Chain [1] done processing\n"
     ]
    },
    {
     "name": "stdout",
     "output_type": "stream",
     "text": [
      "RSMSR indust_prod 4 -34.97327372335676\n"
     ]
    },
    {
     "name": "stderr",
     "output_type": "stream",
     "text": [
      "11:08:21 - cmdstanpy - INFO - Chain [1] start processing\n",
      "11:08:22 - cmdstanpy - INFO - Chain [1] done processing\n",
      "11:08:23 - cmdstanpy - INFO - Chain [1] start processing\n",
      "11:08:23 - cmdstanpy - INFO - Chain [1] done processing\n"
     ]
    },
    {
     "name": "stdout",
     "output_type": "stream",
     "text": [
      "RSMSR mortgage_rate30 4 -123.71479295726007\n"
     ]
    },
    {
     "name": "stderr",
     "output_type": "stream",
     "text": [
      "11:08:25 - cmdstanpy - INFO - Chain [1] start processing\n",
      "11:08:25 - cmdstanpy - INFO - Chain [1] done processing\n",
      "11:08:27 - cmdstanpy - INFO - Chain [1] start processing\n",
      "11:08:27 - cmdstanpy - INFO - Chain [1] done processing\n"
     ]
    },
    {
     "name": "stdout",
     "output_type": "stream",
     "text": [
      "RSMSR Sticky_Price_Cpi 4 -44.8997306985143\n"
     ]
    },
    {
     "name": "stderr",
     "output_type": "stream",
     "text": [
      "11:08:29 - cmdstanpy - INFO - Chain [1] start processing\n",
      "11:08:29 - cmdstanpy - INFO - Chain [1] done processing\n",
      "11:08:31 - cmdstanpy - INFO - Chain [1] start processing\n",
      "11:08:31 - cmdstanpy - INFO - Chain [1] done processing\n"
     ]
    },
    {
     "name": "stdout",
     "output_type": "stream",
     "text": [
      "RSMSR International_Trade 4 -49.89040854815743\n"
     ]
    },
    {
     "name": "stderr",
     "output_type": "stream",
     "text": [
      "11:08:33 - cmdstanpy - INFO - Chain [1] start processing\n",
      "11:08:33 - cmdstanpy - INFO - Chain [1] done processing\n",
      "11:08:35 - cmdstanpy - INFO - Chain [1] start processing\n",
      "11:08:35 - cmdstanpy - INFO - Chain [1] done processing\n"
     ]
    },
    {
     "name": "stdout",
     "output_type": "stream",
     "text": [
      "RSMSR Med_Cpi 4 -91.35872771223846\n"
     ]
    },
    {
     "name": "stderr",
     "output_type": "stream",
     "text": [
      "11:08:37 - cmdstanpy - INFO - Chain [1] start processing\n",
      "11:08:37 - cmdstanpy - INFO - Chain [1] done processing\n",
      "11:08:39 - cmdstanpy - INFO - Chain [1] start processing\n",
      "11:08:39 - cmdstanpy - INFO - Chain [1] done processing\n"
     ]
    },
    {
     "name": "stdout",
     "output_type": "stream",
     "text": [
      "RSMSR CPI 4 -57.41312383333291\n"
     ]
    },
    {
     "name": "stderr",
     "output_type": "stream",
     "text": [
      "11:08:41 - cmdstanpy - INFO - Chain [1] start processing\n",
      "11:08:41 - cmdstanpy - INFO - Chain [1] done processing\n"
     ]
    },
    {
     "name": "stdout",
     "output_type": "stream",
     "text": [
      "RSNSR 0 30.557234909407484\n"
     ]
    },
    {
     "name": "stderr",
     "output_type": "stream",
     "text": [
      "11:08:43 - cmdstanpy - INFO - Chain [1] start processing\n",
      "11:08:43 - cmdstanpy - INFO - Chain [1] done processing\n"
     ]
    },
    {
     "name": "stdout",
     "output_type": "stream",
     "text": [
      "RSNSR break_inflate10 0 14.944179386691545\n"
     ]
    },
    {
     "name": "stderr",
     "output_type": "stream",
     "text": [
      "11:08:45 - cmdstanpy - INFO - Chain [1] start processing\n",
      "11:08:45 - cmdstanpy - INFO - Chain [1] done processing\n"
     ]
    },
    {
     "name": "stdout",
     "output_type": "stream",
     "text": [
      "RSNSR employ_rate 0 27.496450171275004\n"
     ]
    },
    {
     "name": "stderr",
     "output_type": "stream",
     "text": [
      "11:08:47 - cmdstanpy - INFO - Chain [1] start processing\n",
      "11:08:48 - cmdstanpy - INFO - Chain [1] done processing\n"
     ]
    },
    {
     "name": "stdout",
     "output_type": "stream",
     "text": [
      "RSNSR indust_prod 0 7.655871151658197\n"
     ]
    },
    {
     "name": "stderr",
     "output_type": "stream",
     "text": [
      "11:08:51 - cmdstanpy - INFO - Chain [1] start processing\n",
      "11:08:51 - cmdstanpy - INFO - Chain [1] done processing\n"
     ]
    },
    {
     "name": "stdout",
     "output_type": "stream",
     "text": [
      "RSNSR mortgage_rate30 0 37.50200155151784\n"
     ]
    },
    {
     "name": "stderr",
     "output_type": "stream",
     "text": [
      "11:08:53 - cmdstanpy - INFO - Chain [1] start processing\n",
      "11:08:53 - cmdstanpy - INFO - Chain [1] done processing\n"
     ]
    },
    {
     "name": "stdout",
     "output_type": "stream",
     "text": [
      "RSNSR Sticky_Price_Cpi 0 31.81207248137619\n"
     ]
    },
    {
     "name": "stderr",
     "output_type": "stream",
     "text": [
      "11:08:55 - cmdstanpy - INFO - Chain [1] start processing\n",
      "11:08:55 - cmdstanpy - INFO - Chain [1] done processing\n"
     ]
    },
    {
     "name": "stdout",
     "output_type": "stream",
     "text": [
      "RSNSR International_Trade 0 13.532323426628054\n"
     ]
    },
    {
     "name": "stderr",
     "output_type": "stream",
     "text": [
      "11:08:58 - cmdstanpy - INFO - Chain [1] start processing\n",
      "11:08:58 - cmdstanpy - INFO - Chain [1] done processing\n"
     ]
    },
    {
     "name": "stdout",
     "output_type": "stream",
     "text": [
      "RSNSR Med_Cpi 0 30.033619221655762\n"
     ]
    },
    {
     "name": "stderr",
     "output_type": "stream",
     "text": [
      "11:09:00 - cmdstanpy - INFO - Chain [1] start processing\n",
      "11:09:00 - cmdstanpy - INFO - Chain [1] done processing\n"
     ]
    },
    {
     "name": "stdout",
     "output_type": "stream",
     "text": [
      "RSNSR CPI 0 26.193308944258053\n"
     ]
    },
    {
     "name": "stderr",
     "output_type": "stream",
     "text": [
      "11:09:02 - cmdstanpy - INFO - Chain [1] start processing\n",
      "11:09:02 - cmdstanpy - INFO - Chain [1] done processing\n",
      "11:09:04 - cmdstanpy - INFO - Chain [1] start processing\n",
      "11:09:04 - cmdstanpy - INFO - Chain [1] done processing\n"
     ]
    },
    {
     "name": "stdout",
     "output_type": "stream",
     "text": [
      "RSNSR 1 29.04689610211722\n"
     ]
    },
    {
     "name": "stderr",
     "output_type": "stream",
     "text": [
      "11:09:06 - cmdstanpy - INFO - Chain [1] start processing\n",
      "11:09:06 - cmdstanpy - INFO - Chain [1] done processing\n",
      "11:09:08 - cmdstanpy - INFO - Chain [1] start processing\n",
      "11:09:08 - cmdstanpy - INFO - Chain [1] done processing\n"
     ]
    },
    {
     "name": "stdout",
     "output_type": "stream",
     "text": [
      "RSNSR break_inflate10 1 18.542799593289406\n"
     ]
    },
    {
     "name": "stderr",
     "output_type": "stream",
     "text": [
      "11:09:10 - cmdstanpy - INFO - Chain [1] start processing\n",
      "11:09:10 - cmdstanpy - INFO - Chain [1] done processing\n",
      "11:09:12 - cmdstanpy - INFO - Chain [1] start processing\n",
      "11:09:12 - cmdstanpy - INFO - Chain [1] done processing\n"
     ]
    },
    {
     "name": "stdout",
     "output_type": "stream",
     "text": [
      "RSNSR employ_rate 1 28.15880404490792\n"
     ]
    },
    {
     "name": "stderr",
     "output_type": "stream",
     "text": [
      "11:09:14 - cmdstanpy - INFO - Chain [1] start processing\n",
      "11:09:14 - cmdstanpy - INFO - Chain [1] done processing\n",
      "11:09:15 - cmdstanpy - INFO - Chain [1] start processing\n",
      "11:09:15 - cmdstanpy - INFO - Chain [1] done processing\n"
     ]
    },
    {
     "name": "stdout",
     "output_type": "stream",
     "text": [
      "RSNSR indust_prod 1 14.708018764147484\n"
     ]
    },
    {
     "name": "stderr",
     "output_type": "stream",
     "text": [
      "11:09:17 - cmdstanpy - INFO - Chain [1] start processing\n",
      "11:09:17 - cmdstanpy - INFO - Chain [1] done processing\n",
      "11:09:19 - cmdstanpy - INFO - Chain [1] start processing\n",
      "11:09:19 - cmdstanpy - INFO - Chain [1] done processing\n"
     ]
    },
    {
     "name": "stdout",
     "output_type": "stream",
     "text": [
      "RSNSR mortgage_rate30 1 36.52168998494429\n"
     ]
    },
    {
     "name": "stderr",
     "output_type": "stream",
     "text": [
      "11:09:21 - cmdstanpy - INFO - Chain [1] start processing\n",
      "11:09:21 - cmdstanpy - INFO - Chain [1] done processing\n",
      "11:09:24 - cmdstanpy - INFO - Chain [1] start processing\n",
      "11:09:24 - cmdstanpy - INFO - Chain [1] done processing\n"
     ]
    },
    {
     "name": "stdout",
     "output_type": "stream",
     "text": [
      "RSNSR Sticky_Price_Cpi 1 29.61062302305229\n"
     ]
    },
    {
     "name": "stderr",
     "output_type": "stream",
     "text": [
      "11:09:26 - cmdstanpy - INFO - Chain [1] start processing\n",
      "11:09:26 - cmdstanpy - INFO - Chain [1] done processing\n",
      "11:09:28 - cmdstanpy - INFO - Chain [1] start processing\n",
      "11:09:28 - cmdstanpy - INFO - Chain [1] done processing\n"
     ]
    },
    {
     "name": "stdout",
     "output_type": "stream",
     "text": [
      "RSNSR International_Trade 1 17.011144483996702\n"
     ]
    },
    {
     "name": "stderr",
     "output_type": "stream",
     "text": [
      "11:09:30 - cmdstanpy - INFO - Chain [1] start processing\n",
      "11:09:30 - cmdstanpy - INFO - Chain [1] done processing\n",
      "11:09:32 - cmdstanpy - INFO - Chain [1] start processing\n",
      "11:09:32 - cmdstanpy - INFO - Chain [1] done processing\n"
     ]
    },
    {
     "name": "stdout",
     "output_type": "stream",
     "text": [
      "RSNSR Med_Cpi 1 30.087208089301726\n"
     ]
    },
    {
     "name": "stderr",
     "output_type": "stream",
     "text": [
      "11:09:34 - cmdstanpy - INFO - Chain [1] start processing\n",
      "11:09:34 - cmdstanpy - INFO - Chain [1] done processing\n",
      "11:09:36 - cmdstanpy - INFO - Chain [1] start processing\n",
      "11:09:36 - cmdstanpy - INFO - Chain [1] done processing\n"
     ]
    },
    {
     "name": "stdout",
     "output_type": "stream",
     "text": [
      "RSNSR CPI 1 26.31409305092746\n"
     ]
    },
    {
     "name": "stderr",
     "output_type": "stream",
     "text": [
      "11:09:38 - cmdstanpy - INFO - Chain [1] start processing\n",
      "11:09:38 - cmdstanpy - INFO - Chain [1] done processing\n",
      "11:09:40 - cmdstanpy - INFO - Chain [1] start processing\n",
      "11:09:40 - cmdstanpy - INFO - Chain [1] done processing\n"
     ]
    },
    {
     "name": "stdout",
     "output_type": "stream",
     "text": [
      "RSNSR 2 29.530045290033268\n"
     ]
    },
    {
     "name": "stderr",
     "output_type": "stream",
     "text": [
      "11:09:42 - cmdstanpy - INFO - Chain [1] start processing\n",
      "11:09:42 - cmdstanpy - INFO - Chain [1] done processing\n",
      "11:09:44 - cmdstanpy - INFO - Chain [1] start processing\n",
      "11:09:44 - cmdstanpy - INFO - Chain [1] done processing\n"
     ]
    },
    {
     "name": "stdout",
     "output_type": "stream",
     "text": [
      "RSNSR break_inflate10 2 20.919019890645767\n"
     ]
    },
    {
     "name": "stderr",
     "output_type": "stream",
     "text": [
      "11:09:46 - cmdstanpy - INFO - Chain [1] start processing\n",
      "11:09:46 - cmdstanpy - INFO - Chain [1] done processing\n",
      "11:09:47 - cmdstanpy - INFO - Chain [1] start processing\n",
      "11:09:48 - cmdstanpy - INFO - Chain [1] done processing\n"
     ]
    },
    {
     "name": "stdout",
     "output_type": "stream",
     "text": [
      "RSNSR employ_rate 2 28.88157711117198\n"
     ]
    },
    {
     "name": "stderr",
     "output_type": "stream",
     "text": [
      "11:09:49 - cmdstanpy - INFO - Chain [1] start processing\n",
      "11:09:49 - cmdstanpy - INFO - Chain [1] done processing\n",
      "11:09:51 - cmdstanpy - INFO - Chain [1] start processing\n",
      "11:09:51 - cmdstanpy - INFO - Chain [1] done processing\n"
     ]
    },
    {
     "name": "stdout",
     "output_type": "stream",
     "text": [
      "RSNSR indust_prod 2 20.69037882626339\n"
     ]
    },
    {
     "name": "stderr",
     "output_type": "stream",
     "text": [
      "11:09:53 - cmdstanpy - INFO - Chain [1] start processing\n",
      "11:09:53 - cmdstanpy - INFO - Chain [1] done processing\n",
      "11:09:55 - cmdstanpy - INFO - Chain [1] start processing\n",
      "11:09:55 - cmdstanpy - INFO - Chain [1] done processing\n"
     ]
    },
    {
     "name": "stdout",
     "output_type": "stream",
     "text": [
      "RSNSR mortgage_rate30 2 35.99471231688906\n"
     ]
    },
    {
     "name": "stderr",
     "output_type": "stream",
     "text": [
      "11:09:57 - cmdstanpy - INFO - Chain [1] start processing\n",
      "11:09:57 - cmdstanpy - INFO - Chain [1] done processing\n",
      "11:09:59 - cmdstanpy - INFO - Chain [1] start processing\n",
      "11:09:59 - cmdstanpy - INFO - Chain [1] done processing\n"
     ]
    },
    {
     "name": "stdout",
     "output_type": "stream",
     "text": [
      "RSNSR Sticky_Price_Cpi 2 29.50376830737519\n"
     ]
    },
    {
     "name": "stderr",
     "output_type": "stream",
     "text": [
      "11:10:01 - cmdstanpy - INFO - Chain [1] start processing\n",
      "11:10:01 - cmdstanpy - INFO - Chain [1] done processing\n",
      "11:10:03 - cmdstanpy - INFO - Chain [1] start processing\n",
      "11:10:03 - cmdstanpy - INFO - Chain [1] done processing\n"
     ]
    },
    {
     "name": "stdout",
     "output_type": "stream",
     "text": [
      "RSNSR International_Trade 2 23.484586949908902\n"
     ]
    },
    {
     "name": "stderr",
     "output_type": "stream",
     "text": [
      "11:10:05 - cmdstanpy - INFO - Chain [1] start processing\n",
      "11:10:05 - cmdstanpy - INFO - Chain [1] done processing\n",
      "11:10:07 - cmdstanpy - INFO - Chain [1] start processing\n",
      "11:10:07 - cmdstanpy - INFO - Chain [1] done processing\n"
     ]
    },
    {
     "name": "stdout",
     "output_type": "stream",
     "text": [
      "RSNSR Med_Cpi 2 29.87794165216681\n"
     ]
    },
    {
     "name": "stderr",
     "output_type": "stream",
     "text": [
      "11:10:09 - cmdstanpy - INFO - Chain [1] start processing\n",
      "11:10:09 - cmdstanpy - INFO - Chain [1] done processing\n",
      "11:10:10 - cmdstanpy - INFO - Chain [1] start processing\n",
      "11:10:11 - cmdstanpy - INFO - Chain [1] done processing\n"
     ]
    },
    {
     "name": "stdout",
     "output_type": "stream",
     "text": [
      "RSNSR CPI 2 27.72729243954153\n"
     ]
    },
    {
     "name": "stderr",
     "output_type": "stream",
     "text": [
      "11:10:12 - cmdstanpy - INFO - Chain [1] start processing\n",
      "11:10:12 - cmdstanpy - INFO - Chain [1] done processing\n",
      "11:10:14 - cmdstanpy - INFO - Chain [1] start processing\n",
      "11:10:14 - cmdstanpy - INFO - Chain [1] done processing\n"
     ]
    },
    {
     "name": "stdout",
     "output_type": "stream",
     "text": [
      "RSNSR 3 28.495262374430077\n"
     ]
    },
    {
     "name": "stderr",
     "output_type": "stream",
     "text": [
      "11:10:16 - cmdstanpy - INFO - Chain [1] start processing\n",
      "11:10:16 - cmdstanpy - INFO - Chain [1] done processing\n",
      "11:10:18 - cmdstanpy - INFO - Chain [1] start processing\n",
      "11:10:18 - cmdstanpy - INFO - Chain [1] done processing\n"
     ]
    },
    {
     "name": "stdout",
     "output_type": "stream",
     "text": [
      "RSNSR break_inflate10 3 23.931724152251764\n"
     ]
    },
    {
     "name": "stderr",
     "output_type": "stream",
     "text": [
      "11:10:20 - cmdstanpy - INFO - Chain [1] start processing\n",
      "11:10:20 - cmdstanpy - INFO - Chain [1] done processing\n",
      "11:10:22 - cmdstanpy - INFO - Chain [1] start processing\n",
      "11:10:22 - cmdstanpy - INFO - Chain [1] done processing\n"
     ]
    },
    {
     "name": "stdout",
     "output_type": "stream",
     "text": [
      "RSNSR employ_rate 3 27.573985755022957\n"
     ]
    },
    {
     "name": "stderr",
     "output_type": "stream",
     "text": [
      "11:10:24 - cmdstanpy - INFO - Chain [1] start processing\n",
      "11:10:25 - cmdstanpy - INFO - Chain [1] done processing\n",
      "11:10:27 - cmdstanpy - INFO - Chain [1] start processing\n",
      "11:10:27 - cmdstanpy - INFO - Chain [1] done processing\n"
     ]
    },
    {
     "name": "stdout",
     "output_type": "stream",
     "text": [
      "RSNSR indust_prod 3 23.91623026651119\n"
     ]
    },
    {
     "name": "stderr",
     "output_type": "stream",
     "text": [
      "11:10:29 - cmdstanpy - INFO - Chain [1] start processing\n",
      "11:10:29 - cmdstanpy - INFO - Chain [1] done processing\n",
      "11:10:31 - cmdstanpy - INFO - Chain [1] start processing\n",
      "11:10:31 - cmdstanpy - INFO - Chain [1] done processing\n"
     ]
    },
    {
     "name": "stdout",
     "output_type": "stream",
     "text": [
      "RSNSR mortgage_rate30 3 27.55852003212638\n"
     ]
    },
    {
     "name": "stderr",
     "output_type": "stream",
     "text": [
      "11:10:33 - cmdstanpy - INFO - Chain [1] start processing\n",
      "11:10:33 - cmdstanpy - INFO - Chain [1] done processing\n",
      "11:10:35 - cmdstanpy - INFO - Chain [1] start processing\n",
      "11:10:35 - cmdstanpy - INFO - Chain [1] done processing\n"
     ]
    },
    {
     "name": "stdout",
     "output_type": "stream",
     "text": [
      "RSNSR Sticky_Price_Cpi 3 27.170983285291868\n"
     ]
    },
    {
     "name": "stderr",
     "output_type": "stream",
     "text": [
      "11:10:37 - cmdstanpy - INFO - Chain [1] start processing\n",
      "11:10:37 - cmdstanpy - INFO - Chain [1] done processing\n",
      "11:10:39 - cmdstanpy - INFO - Chain [1] start processing\n",
      "11:10:39 - cmdstanpy - INFO - Chain [1] done processing\n"
     ]
    },
    {
     "name": "stdout",
     "output_type": "stream",
     "text": [
      "RSNSR International_Trade 3 23.039001967620067\n"
     ]
    },
    {
     "name": "stderr",
     "output_type": "stream",
     "text": [
      "11:10:41 - cmdstanpy - INFO - Chain [1] start processing\n",
      "11:10:41 - cmdstanpy - INFO - Chain [1] done processing\n",
      "11:10:43 - cmdstanpy - INFO - Chain [1] start processing\n",
      "11:10:43 - cmdstanpy - INFO - Chain [1] done processing\n"
     ]
    },
    {
     "name": "stdout",
     "output_type": "stream",
     "text": [
      "RSNSR Med_Cpi 3 27.6001299859314\n"
     ]
    },
    {
     "name": "stderr",
     "output_type": "stream",
     "text": [
      "11:10:45 - cmdstanpy - INFO - Chain [1] start processing\n",
      "11:10:45 - cmdstanpy - INFO - Chain [1] done processing\n",
      "11:10:47 - cmdstanpy - INFO - Chain [1] start processing\n",
      "11:10:47 - cmdstanpy - INFO - Chain [1] done processing\n"
     ]
    },
    {
     "name": "stdout",
     "output_type": "stream",
     "text": [
      "RSNSR CPI 3 27.791589807612592\n"
     ]
    },
    {
     "name": "stderr",
     "output_type": "stream",
     "text": [
      "11:10:49 - cmdstanpy - INFO - Chain [1] start processing\n",
      "11:10:49 - cmdstanpy - INFO - Chain [1] done processing\n",
      "11:10:51 - cmdstanpy - INFO - Chain [1] start processing\n",
      "11:10:51 - cmdstanpy - INFO - Chain [1] done processing\n"
     ]
    },
    {
     "name": "stdout",
     "output_type": "stream",
     "text": [
      "RSNSR 4 20.196235026980446\n"
     ]
    },
    {
     "name": "stderr",
     "output_type": "stream",
     "text": [
      "11:10:53 - cmdstanpy - INFO - Chain [1] start processing\n",
      "11:10:53 - cmdstanpy - INFO - Chain [1] done processing\n",
      "11:10:55 - cmdstanpy - INFO - Chain [1] start processing\n",
      "11:10:55 - cmdstanpy - INFO - Chain [1] done processing\n"
     ]
    },
    {
     "name": "stdout",
     "output_type": "stream",
     "text": [
      "RSNSR break_inflate10 4 22.551813579304245\n"
     ]
    },
    {
     "name": "stderr",
     "output_type": "stream",
     "text": [
      "11:10:58 - cmdstanpy - INFO - Chain [1] start processing\n",
      "11:10:58 - cmdstanpy - INFO - Chain [1] done processing\n",
      "11:11:00 - cmdstanpy - INFO - Chain [1] start processing\n",
      "11:11:00 - cmdstanpy - INFO - Chain [1] done processing\n"
     ]
    },
    {
     "name": "stdout",
     "output_type": "stream",
     "text": [
      "RSNSR employ_rate 4 24.127265232593647\n"
     ]
    },
    {
     "name": "stderr",
     "output_type": "stream",
     "text": [
      "11:11:03 - cmdstanpy - INFO - Chain [1] start processing\n",
      "11:11:03 - cmdstanpy - INFO - Chain [1] done processing\n",
      "11:11:05 - cmdstanpy - INFO - Chain [1] start processing\n",
      "11:11:05 - cmdstanpy - INFO - Chain [1] done processing\n"
     ]
    },
    {
     "name": "stdout",
     "output_type": "stream",
     "text": [
      "RSNSR indust_prod 4 20.799116382717823\n"
     ]
    },
    {
     "name": "stderr",
     "output_type": "stream",
     "text": [
      "11:11:07 - cmdstanpy - INFO - Chain [1] start processing\n",
      "11:11:07 - cmdstanpy - INFO - Chain [1] done processing\n",
      "11:11:09 - cmdstanpy - INFO - Chain [1] start processing\n",
      "11:11:09 - cmdstanpy - INFO - Chain [1] done processing\n"
     ]
    },
    {
     "name": "stdout",
     "output_type": "stream",
     "text": [
      "RSNSR mortgage_rate30 4 15.841074169357311\n"
     ]
    },
    {
     "name": "stderr",
     "output_type": "stream",
     "text": [
      "11:11:11 - cmdstanpy - INFO - Chain [1] start processing\n",
      "11:11:11 - cmdstanpy - INFO - Chain [1] done processing\n",
      "11:11:14 - cmdstanpy - INFO - Chain [1] start processing\n",
      "11:11:14 - cmdstanpy - INFO - Chain [1] done processing\n"
     ]
    },
    {
     "name": "stdout",
     "output_type": "stream",
     "text": [
      "RSNSR Sticky_Price_Cpi 4 11.378188165193926\n"
     ]
    },
    {
     "name": "stderr",
     "output_type": "stream",
     "text": [
      "11:11:16 - cmdstanpy - INFO - Chain [1] start processing\n",
      "11:11:16 - cmdstanpy - INFO - Chain [1] done processing\n",
      "11:11:18 - cmdstanpy - INFO - Chain [1] start processing\n",
      "11:11:18 - cmdstanpy - INFO - Chain [1] done processing\n"
     ]
    },
    {
     "name": "stdout",
     "output_type": "stream",
     "text": [
      "RSNSR International_Trade 4 18.852220693281566\n"
     ]
    },
    {
     "name": "stderr",
     "output_type": "stream",
     "text": [
      "11:11:20 - cmdstanpy - INFO - Chain [1] start processing\n",
      "11:11:20 - cmdstanpy - INFO - Chain [1] done processing\n",
      "11:11:22 - cmdstanpy - INFO - Chain [1] start processing\n",
      "11:11:22 - cmdstanpy - INFO - Chain [1] done processing\n"
     ]
    },
    {
     "name": "stdout",
     "output_type": "stream",
     "text": [
      "RSNSR Med_Cpi 4 21.26518676481134\n"
     ]
    },
    {
     "name": "stderr",
     "output_type": "stream",
     "text": [
      "11:11:25 - cmdstanpy - INFO - Chain [1] start processing\n",
      "11:11:25 - cmdstanpy - INFO - Chain [1] done processing\n",
      "11:11:27 - cmdstanpy - INFO - Chain [1] start processing\n",
      "11:11:27 - cmdstanpy - INFO - Chain [1] done processing\n"
     ]
    },
    {
     "name": "stdout",
     "output_type": "stream",
     "text": [
      "RSNSR CPI 4 20.477740021800543\n"
     ]
    },
    {
     "name": "stderr",
     "output_type": "stream",
     "text": [
      "11:11:29 - cmdstanpy - INFO - Chain [1] start processing\n",
      "11:11:29 - cmdstanpy - INFO - Chain [1] done processing\n"
     ]
    },
    {
     "name": "stdout",
     "output_type": "stream",
     "text": [
      "RSFSDP 0 43.14478665361944\n"
     ]
    },
    {
     "name": "stderr",
     "output_type": "stream",
     "text": [
      "11:11:31 - cmdstanpy - INFO - Chain [1] start processing\n",
      "11:11:31 - cmdstanpy - INFO - Chain [1] done processing\n"
     ]
    },
    {
     "name": "stdout",
     "output_type": "stream",
     "text": [
      "RSFSDP break_inflate10 0 38.45534664039288\n"
     ]
    },
    {
     "name": "stderr",
     "output_type": "stream",
     "text": [
      "11:11:33 - cmdstanpy - INFO - Chain [1] start processing\n",
      "11:11:33 - cmdstanpy - INFO - Chain [1] done processing\n"
     ]
    },
    {
     "name": "stdout",
     "output_type": "stream",
     "text": [
      "RSFSDP employ_rate 0 43.46216472894503\n"
     ]
    },
    {
     "name": "stderr",
     "output_type": "stream",
     "text": [
      "11:11:35 - cmdstanpy - INFO - Chain [1] start processing\n",
      "11:11:35 - cmdstanpy - INFO - Chain [1] done processing\n"
     ]
    },
    {
     "name": "stdout",
     "output_type": "stream",
     "text": [
      "RSFSDP indust_prod 0 32.27024791872475\n"
     ]
    },
    {
     "name": "stderr",
     "output_type": "stream",
     "text": [
      "11:11:37 - cmdstanpy - INFO - Chain [1] start processing\n",
      "11:11:37 - cmdstanpy - INFO - Chain [1] done processing\n"
     ]
    },
    {
     "name": "stdout",
     "output_type": "stream",
     "text": [
      "RSFSDP mortgage_rate30 0 49.63541466015415\n"
     ]
    },
    {
     "name": "stderr",
     "output_type": "stream",
     "text": [
      "11:11:39 - cmdstanpy - INFO - Chain [1] start processing\n",
      "11:11:39 - cmdstanpy - INFO - Chain [1] done processing\n"
     ]
    },
    {
     "name": "stdout",
     "output_type": "stream",
     "text": [
      "RSFSDP Sticky_Price_Cpi 0 50.14912614149289\n"
     ]
    },
    {
     "name": "stderr",
     "output_type": "stream",
     "text": [
      "11:11:41 - cmdstanpy - INFO - Chain [1] start processing\n",
      "11:11:41 - cmdstanpy - INFO - Chain [1] done processing\n"
     ]
    },
    {
     "name": "stdout",
     "output_type": "stream",
     "text": [
      "RSFSDP International_Trade 0 26.14556168132301\n"
     ]
    },
    {
     "name": "stderr",
     "output_type": "stream",
     "text": [
      "11:11:43 - cmdstanpy - INFO - Chain [1] start processing\n",
      "11:11:43 - cmdstanpy - INFO - Chain [1] done processing\n"
     ]
    },
    {
     "name": "stdout",
     "output_type": "stream",
     "text": [
      "RSFSDP Med_Cpi 0 42.99905458083992\n"
     ]
    },
    {
     "name": "stderr",
     "output_type": "stream",
     "text": [
      "11:11:45 - cmdstanpy - INFO - Chain [1] start processing\n",
      "11:11:45 - cmdstanpy - INFO - Chain [1] done processing\n"
     ]
    },
    {
     "name": "stdout",
     "output_type": "stream",
     "text": [
      "RSFSDP CPI 0 41.68217701266691\n"
     ]
    },
    {
     "name": "stderr",
     "output_type": "stream",
     "text": [
      "11:11:48 - cmdstanpy - INFO - Chain [1] start processing\n",
      "11:11:48 - cmdstanpy - INFO - Chain [1] done processing\n",
      "11:11:50 - cmdstanpy - INFO - Chain [1] start processing\n",
      "11:11:50 - cmdstanpy - INFO - Chain [1] done processing\n"
     ]
    },
    {
     "name": "stdout",
     "output_type": "stream",
     "text": [
      "RSFSDP 1 42.402710525684064\n"
     ]
    },
    {
     "name": "stderr",
     "output_type": "stream",
     "text": [
      "11:11:52 - cmdstanpy - INFO - Chain [1] start processing\n",
      "11:11:52 - cmdstanpy - INFO - Chain [1] done processing\n",
      "11:11:53 - cmdstanpy - INFO - Chain [1] start processing\n",
      "11:11:54 - cmdstanpy - INFO - Chain [1] done processing\n"
     ]
    },
    {
     "name": "stdout",
     "output_type": "stream",
     "text": [
      "RSFSDP break_inflate10 1 33.707511962574216\n"
     ]
    },
    {
     "name": "stderr",
     "output_type": "stream",
     "text": [
      "11:11:55 - cmdstanpy - INFO - Chain [1] start processing\n",
      "11:11:55 - cmdstanpy - INFO - Chain [1] done processing\n",
      "11:11:58 - cmdstanpy - INFO - Chain [1] start processing\n",
      "11:11:58 - cmdstanpy - INFO - Chain [1] done processing\n"
     ]
    },
    {
     "name": "stdout",
     "output_type": "stream",
     "text": [
      "RSFSDP employ_rate 1 42.61696481438401\n"
     ]
    },
    {
     "name": "stderr",
     "output_type": "stream",
     "text": [
      "11:12:01 - cmdstanpy - INFO - Chain [1] start processing\n",
      "11:12:01 - cmdstanpy - INFO - Chain [1] done processing\n",
      "11:12:03 - cmdstanpy - INFO - Chain [1] start processing\n",
      "11:12:03 - cmdstanpy - INFO - Chain [1] done processing\n"
     ]
    },
    {
     "name": "stdout",
     "output_type": "stream",
     "text": [
      "RSFSDP indust_prod 1 28.514181900106028\n"
     ]
    },
    {
     "name": "stderr",
     "output_type": "stream",
     "text": [
      "11:12:05 - cmdstanpy - INFO - Chain [1] start processing\n",
      "11:12:05 - cmdstanpy - INFO - Chain [1] done processing\n",
      "11:12:07 - cmdstanpy - INFO - Chain [1] start processing\n",
      "11:12:07 - cmdstanpy - INFO - Chain [1] done processing\n"
     ]
    },
    {
     "name": "stdout",
     "output_type": "stream",
     "text": [
      "RSFSDP mortgage_rate30 1 41.05675135487226\n"
     ]
    },
    {
     "name": "stderr",
     "output_type": "stream",
     "text": [
      "11:12:09 - cmdstanpy - INFO - Chain [1] start processing\n",
      "11:12:09 - cmdstanpy - INFO - Chain [1] done processing\n",
      "11:12:11 - cmdstanpy - INFO - Chain [1] start processing\n",
      "11:12:11 - cmdstanpy - INFO - Chain [1] done processing\n"
     ]
    },
    {
     "name": "stdout",
     "output_type": "stream",
     "text": [
      "RSFSDP Sticky_Price_Cpi 1 49.37255148811232\n"
     ]
    },
    {
     "name": "stderr",
     "output_type": "stream",
     "text": [
      "11:12:13 - cmdstanpy - INFO - Chain [1] start processing\n",
      "11:12:13 - cmdstanpy - INFO - Chain [1] done processing\n",
      "11:12:15 - cmdstanpy - INFO - Chain [1] start processing\n",
      "11:12:15 - cmdstanpy - INFO - Chain [1] done processing\n"
     ]
    },
    {
     "name": "stdout",
     "output_type": "stream",
     "text": [
      "RSFSDP International_Trade 1 26.431424992652918\n"
     ]
    },
    {
     "name": "stderr",
     "output_type": "stream",
     "text": [
      "11:12:17 - cmdstanpy - INFO - Chain [1] start processing\n",
      "11:12:17 - cmdstanpy - INFO - Chain [1] done processing\n",
      "11:12:19 - cmdstanpy - INFO - Chain [1] start processing\n",
      "11:12:19 - cmdstanpy - INFO - Chain [1] done processing\n"
     ]
    },
    {
     "name": "stdout",
     "output_type": "stream",
     "text": [
      "RSFSDP Med_Cpi 1 42.27607461479275\n"
     ]
    },
    {
     "name": "stderr",
     "output_type": "stream",
     "text": [
      "11:12:21 - cmdstanpy - INFO - Chain [1] start processing\n",
      "11:12:21 - cmdstanpy - INFO - Chain [1] done processing\n",
      "11:12:23 - cmdstanpy - INFO - Chain [1] start processing\n",
      "11:12:23 - cmdstanpy - INFO - Chain [1] done processing\n"
     ]
    },
    {
     "name": "stdout",
     "output_type": "stream",
     "text": [
      "RSFSDP CPI 1 40.11862772112511\n"
     ]
    },
    {
     "name": "stderr",
     "output_type": "stream",
     "text": [
      "11:12:25 - cmdstanpy - INFO - Chain [1] start processing\n",
      "11:12:25 - cmdstanpy - INFO - Chain [1] done processing\n",
      "11:12:27 - cmdstanpy - INFO - Chain [1] start processing\n",
      "11:12:27 - cmdstanpy - INFO - Chain [1] done processing\n"
     ]
    },
    {
     "name": "stdout",
     "output_type": "stream",
     "text": [
      "RSFSDP 2 38.371157626896625\n"
     ]
    },
    {
     "name": "stderr",
     "output_type": "stream",
     "text": [
      "11:12:29 - cmdstanpy - INFO - Chain [1] start processing\n",
      "11:12:29 - cmdstanpy - INFO - Chain [1] done processing\n",
      "11:12:31 - cmdstanpy - INFO - Chain [1] start processing\n",
      "11:12:31 - cmdstanpy - INFO - Chain [1] done processing\n"
     ]
    },
    {
     "name": "stdout",
     "output_type": "stream",
     "text": [
      "RSFSDP break_inflate10 2 28.415731687478953\n"
     ]
    },
    {
     "name": "stderr",
     "output_type": "stream",
     "text": [
      "11:12:34 - cmdstanpy - INFO - Chain [1] start processing\n",
      "11:12:34 - cmdstanpy - INFO - Chain [1] done processing\n",
      "11:12:36 - cmdstanpy - INFO - Chain [1] start processing\n",
      "11:12:36 - cmdstanpy - INFO - Chain [1] done processing\n"
     ]
    },
    {
     "name": "stdout",
     "output_type": "stream",
     "text": [
      "RSFSDP employ_rate 2 40.3940034164563\n"
     ]
    },
    {
     "name": "stderr",
     "output_type": "stream",
     "text": [
      "11:12:38 - cmdstanpy - INFO - Chain [1] start processing\n",
      "11:12:38 - cmdstanpy - INFO - Chain [1] done processing\n",
      "11:12:40 - cmdstanpy - INFO - Chain [1] start processing\n",
      "11:12:40 - cmdstanpy - INFO - Chain [1] done processing\n"
     ]
    },
    {
     "name": "stdout",
     "output_type": "stream",
     "text": [
      "RSFSDP indust_prod 2 25.566882774638998\n"
     ]
    },
    {
     "name": "stderr",
     "output_type": "stream",
     "text": [
      "11:12:43 - cmdstanpy - INFO - Chain [1] start processing\n",
      "11:12:43 - cmdstanpy - INFO - Chain [1] done processing\n",
      "11:12:45 - cmdstanpy - INFO - Chain [1] start processing\n",
      "11:12:45 - cmdstanpy - INFO - Chain [1] done processing\n"
     ]
    },
    {
     "name": "stdout",
     "output_type": "stream",
     "text": [
      "RSFSDP mortgage_rate30 2 11.98125821313638\n"
     ]
    },
    {
     "name": "stderr",
     "output_type": "stream",
     "text": [
      "11:12:47 - cmdstanpy - INFO - Chain [1] start processing\n",
      "11:12:47 - cmdstanpy - INFO - Chain [1] done processing\n",
      "11:12:49 - cmdstanpy - INFO - Chain [1] start processing\n",
      "11:12:49 - cmdstanpy - INFO - Chain [1] done processing\n"
     ]
    },
    {
     "name": "stdout",
     "output_type": "stream",
     "text": [
      "RSFSDP Sticky_Price_Cpi 2 27.776122732322367\n"
     ]
    },
    {
     "name": "stderr",
     "output_type": "stream",
     "text": [
      "11:12:51 - cmdstanpy - INFO - Chain [1] start processing\n",
      "11:12:51 - cmdstanpy - INFO - Chain [1] done processing\n",
      "11:12:53 - cmdstanpy - INFO - Chain [1] start processing\n",
      "11:12:53 - cmdstanpy - INFO - Chain [1] done processing\n"
     ]
    },
    {
     "name": "stdout",
     "output_type": "stream",
     "text": [
      "RSFSDP International_Trade 2 22.408702409497817\n"
     ]
    },
    {
     "name": "stderr",
     "output_type": "stream",
     "text": [
      "11:12:55 - cmdstanpy - INFO - Chain [1] start processing\n",
      "11:12:55 - cmdstanpy - INFO - Chain [1] done processing\n",
      "11:12:57 - cmdstanpy - INFO - Chain [1] start processing\n",
      "11:12:57 - cmdstanpy - INFO - Chain [1] done processing\n"
     ]
    },
    {
     "name": "stdout",
     "output_type": "stream",
     "text": [
      "RSFSDP Med_Cpi 2 31.32526026736555\n"
     ]
    },
    {
     "name": "stderr",
     "output_type": "stream",
     "text": [
      "11:12:59 - cmdstanpy - INFO - Chain [1] start processing\n",
      "11:12:59 - cmdstanpy - INFO - Chain [1] done processing\n",
      "11:13:01 - cmdstanpy - INFO - Chain [1] start processing\n",
      "11:13:01 - cmdstanpy - INFO - Chain [1] done processing\n"
     ]
    },
    {
     "name": "stdout",
     "output_type": "stream",
     "text": [
      "RSFSDP CPI 2 21.82240756133342\n"
     ]
    },
    {
     "name": "stderr",
     "output_type": "stream",
     "text": [
      "11:13:04 - cmdstanpy - INFO - Chain [1] start processing\n",
      "11:13:04 - cmdstanpy - INFO - Chain [1] done processing\n",
      "11:13:07 - cmdstanpy - INFO - Chain [1] start processing\n",
      "11:13:07 - cmdstanpy - INFO - Chain [1] done processing\n"
     ]
    },
    {
     "name": "stdout",
     "output_type": "stream",
     "text": [
      "RSFSDP 3 -18.225601895437887\n"
     ]
    },
    {
     "name": "stderr",
     "output_type": "stream",
     "text": [
      "11:13:10 - cmdstanpy - INFO - Chain [1] start processing\n",
      "11:13:10 - cmdstanpy - INFO - Chain [1] done processing\n",
      "11:13:13 - cmdstanpy - INFO - Chain [1] start processing\n",
      "11:13:13 - cmdstanpy - INFO - Chain [1] done processing\n"
     ]
    },
    {
     "name": "stdout",
     "output_type": "stream",
     "text": [
      "RSFSDP break_inflate10 3 -3.416336453796122\n"
     ]
    },
    {
     "name": "stderr",
     "output_type": "stream",
     "text": [
      "11:13:16 - cmdstanpy - INFO - Chain [1] start processing\n",
      "11:13:17 - cmdstanpy - INFO - Chain [1] done processing\n",
      "11:13:19 - cmdstanpy - INFO - Chain [1] start processing\n",
      "11:13:19 - cmdstanpy - INFO - Chain [1] done processing\n"
     ]
    },
    {
     "name": "stdout",
     "output_type": "stream",
     "text": [
      "RSFSDP employ_rate 3 -2.688575110756735\n"
     ]
    },
    {
     "name": "stderr",
     "output_type": "stream",
     "text": [
      "11:13:22 - cmdstanpy - INFO - Chain [1] start processing\n",
      "11:13:22 - cmdstanpy - INFO - Chain [1] done processing\n",
      "11:13:24 - cmdstanpy - INFO - Chain [1] start processing\n",
      "11:13:24 - cmdstanpy - INFO - Chain [1] done processing\n"
     ]
    },
    {
     "name": "stdout",
     "output_type": "stream",
     "text": [
      "RSFSDP indust_prod 3 2.451996615593761\n"
     ]
    },
    {
     "name": "stderr",
     "output_type": "stream",
     "text": [
      "11:13:27 - cmdstanpy - INFO - Chain [1] start processing\n",
      "11:13:27 - cmdstanpy - INFO - Chain [1] done processing\n",
      "11:13:29 - cmdstanpy - INFO - Chain [1] start processing\n",
      "11:13:30 - cmdstanpy - INFO - Chain [1] done processing\n"
     ]
    },
    {
     "name": "stdout",
     "output_type": "stream",
     "text": [
      "RSFSDP mortgage_rate30 3 -94.0722821859975\n"
     ]
    },
    {
     "name": "stderr",
     "output_type": "stream",
     "text": [
      "11:13:32 - cmdstanpy - INFO - Chain [1] start processing\n",
      "11:13:32 - cmdstanpy - INFO - Chain [1] done processing\n",
      "11:13:34 - cmdstanpy - INFO - Chain [1] start processing\n",
      "11:13:34 - cmdstanpy - INFO - Chain [1] done processing\n"
     ]
    },
    {
     "name": "stdout",
     "output_type": "stream",
     "text": [
      "RSFSDP Sticky_Price_Cpi 3 -53.88848587054144\n"
     ]
    },
    {
     "name": "stderr",
     "output_type": "stream",
     "text": [
      "11:13:36 - cmdstanpy - INFO - Chain [1] start processing\n",
      "11:13:36 - cmdstanpy - INFO - Chain [1] done processing\n",
      "11:13:38 - cmdstanpy - INFO - Chain [1] start processing\n",
      "11:13:38 - cmdstanpy - INFO - Chain [1] done processing\n"
     ]
    },
    {
     "name": "stdout",
     "output_type": "stream",
     "text": [
      "RSFSDP International_Trade 3 9.637956306158799\n"
     ]
    },
    {
     "name": "stderr",
     "output_type": "stream",
     "text": [
      "11:13:40 - cmdstanpy - INFO - Chain [1] start processing\n",
      "11:13:40 - cmdstanpy - INFO - Chain [1] done processing\n",
      "11:13:42 - cmdstanpy - INFO - Chain [1] start processing\n",
      "11:13:43 - cmdstanpy - INFO - Chain [1] done processing\n"
     ]
    },
    {
     "name": "stdout",
     "output_type": "stream",
     "text": [
      "RSFSDP Med_Cpi 3 24.28389458015148\n"
     ]
    },
    {
     "name": "stderr",
     "output_type": "stream",
     "text": [
      "11:13:45 - cmdstanpy - INFO - Chain [1] start processing\n",
      "11:13:45 - cmdstanpy - INFO - Chain [1] done processing\n",
      "11:13:47 - cmdstanpy - INFO - Chain [1] start processing\n",
      "11:13:47 - cmdstanpy - INFO - Chain [1] done processing\n"
     ]
    },
    {
     "name": "stdout",
     "output_type": "stream",
     "text": [
      "RSFSDP CPI 3 -15.679253337361452\n"
     ]
    },
    {
     "name": "stderr",
     "output_type": "stream",
     "text": [
      "11:13:51 - cmdstanpy - INFO - Chain [1] start processing\n",
      "11:13:51 - cmdstanpy - INFO - Chain [1] done processing\n",
      "11:13:53 - cmdstanpy - INFO - Chain [1] start processing\n",
      "11:13:53 - cmdstanpy - INFO - Chain [1] done processing\n"
     ]
    },
    {
     "name": "stdout",
     "output_type": "stream",
     "text": [
      "RSFSDP 4 -99.60988659498608\n"
     ]
    },
    {
     "name": "stderr",
     "output_type": "stream",
     "text": [
      "11:13:55 - cmdstanpy - INFO - Chain [1] start processing\n",
      "11:13:55 - cmdstanpy - INFO - Chain [1] done processing\n",
      "11:13:57 - cmdstanpy - INFO - Chain [1] start processing\n",
      "11:13:57 - cmdstanpy - INFO - Chain [1] done processing\n"
     ]
    },
    {
     "name": "stdout",
     "output_type": "stream",
     "text": [
      "RSFSDP break_inflate10 4 -41.36187333976486\n"
     ]
    },
    {
     "name": "stderr",
     "output_type": "stream",
     "text": [
      "11:13:59 - cmdstanpy - INFO - Chain [1] start processing\n",
      "11:13:59 - cmdstanpy - INFO - Chain [1] done processing\n",
      "11:14:01 - cmdstanpy - INFO - Chain [1] start processing\n",
      "11:14:01 - cmdstanpy - INFO - Chain [1] done processing\n"
     ]
    },
    {
     "name": "stdout",
     "output_type": "stream",
     "text": [
      "RSFSDP employ_rate 4 -120.2847863709478\n"
     ]
    },
    {
     "name": "stderr",
     "output_type": "stream",
     "text": [
      "11:14:03 - cmdstanpy - INFO - Chain [1] start processing\n",
      "11:14:03 - cmdstanpy - INFO - Chain [1] done processing\n",
      "11:14:05 - cmdstanpy - INFO - Chain [1] start processing\n",
      "11:14:05 - cmdstanpy - INFO - Chain [1] done processing\n"
     ]
    },
    {
     "name": "stdout",
     "output_type": "stream",
     "text": [
      "RSFSDP indust_prod 4 -30.638078714476674\n"
     ]
    },
    {
     "name": "stderr",
     "output_type": "stream",
     "text": [
      "11:14:07 - cmdstanpy - INFO - Chain [1] start processing\n",
      "11:14:07 - cmdstanpy - INFO - Chain [1] done processing\n",
      "11:14:09 - cmdstanpy - INFO - Chain [1] start processing\n",
      "11:14:09 - cmdstanpy - INFO - Chain [1] done processing\n"
     ]
    },
    {
     "name": "stdout",
     "output_type": "stream",
     "text": [
      "RSFSDP mortgage_rate30 4 -41.80247526848378\n"
     ]
    },
    {
     "name": "stderr",
     "output_type": "stream",
     "text": [
      "11:14:11 - cmdstanpy - INFO - Chain [1] start processing\n",
      "11:14:11 - cmdstanpy - INFO - Chain [1] done processing\n",
      "11:14:14 - cmdstanpy - INFO - Chain [1] start processing\n",
      "11:14:14 - cmdstanpy - INFO - Chain [1] done processing\n"
     ]
    },
    {
     "name": "stdout",
     "output_type": "stream",
     "text": [
      "RSFSDP Sticky_Price_Cpi 4 -66.52511383448082\n"
     ]
    },
    {
     "name": "stderr",
     "output_type": "stream",
     "text": [
      "11:14:16 - cmdstanpy - INFO - Chain [1] start processing\n",
      "11:14:16 - cmdstanpy - INFO - Chain [1] done processing\n",
      "11:14:18 - cmdstanpy - INFO - Chain [1] start processing\n",
      "11:14:18 - cmdstanpy - INFO - Chain [1] done processing\n"
     ]
    },
    {
     "name": "stdout",
     "output_type": "stream",
     "text": [
      "RSFSDP International_Trade 4 -96.77970681906747\n"
     ]
    },
    {
     "name": "stderr",
     "output_type": "stream",
     "text": [
      "11:14:20 - cmdstanpy - INFO - Chain [1] start processing\n",
      "11:14:20 - cmdstanpy - INFO - Chain [1] done processing\n",
      "11:14:22 - cmdstanpy - INFO - Chain [1] start processing\n",
      "11:14:22 - cmdstanpy - INFO - Chain [1] done processing\n"
     ]
    },
    {
     "name": "stdout",
     "output_type": "stream",
     "text": [
      "RSFSDP Med_Cpi 4 -82.35888622552174\n"
     ]
    },
    {
     "name": "stderr",
     "output_type": "stream",
     "text": [
      "11:14:24 - cmdstanpy - INFO - Chain [1] start processing\n",
      "11:14:24 - cmdstanpy - INFO - Chain [1] done processing\n",
      "11:14:26 - cmdstanpy - INFO - Chain [1] start processing\n",
      "11:14:26 - cmdstanpy - INFO - Chain [1] done processing\n"
     ]
    },
    {
     "name": "stdout",
     "output_type": "stream",
     "text": [
      "RSFSDP CPI 4 -36.43092810845888\n"
     ]
    },
    {
     "name": "stderr",
     "output_type": "stream",
     "text": [
      "11:14:29 - cmdstanpy - INFO - Chain [1] start processing\n"
     ]
    },
    {
     "name": "stdout",
     "output_type": "stream",
     "text": [
      "RSXFS 0 -11.489511576372163\n"
     ]
    },
    {
     "name": "stderr",
     "output_type": "stream",
     "text": [
      "11:14:29 - cmdstanpy - INFO - Chain [1] done processing\n"
     ]
    },
    {
     "name": "stdout",
     "output_type": "stream",
     "text": [
      "RSXFS break_inflate10 0 43.01533994560768\n"
     ]
    },
    {
     "name": "stderr",
     "output_type": "stream",
     "text": [
      "11:14:34 - cmdstanpy - INFO - Chain [1] start processing\n",
      "11:14:34 - cmdstanpy - INFO - Chain [1] done processing\n",
      "11:14:37 - cmdstanpy - INFO - Chain [1] start processing\n",
      "11:14:37 - cmdstanpy - INFO - Chain [1] done processing\n"
     ]
    },
    {
     "name": "stdout",
     "output_type": "stream",
     "text": [
      "RSXFS employ_rate 0 -9.992167272981604\n"
     ]
    },
    {
     "name": "stderr",
     "output_type": "stream",
     "text": [
      "11:14:41 - cmdstanpy - INFO - Chain [1] start processing\n",
      "11:14:41 - cmdstanpy - INFO - Chain [1] done processing\n"
     ]
    },
    {
     "name": "stdout",
     "output_type": "stream",
     "text": [
      "RSXFS indust_prod 0 24.997629995352476\n"
     ]
    },
    {
     "name": "stderr",
     "output_type": "stream",
     "text": [
      "11:14:43 - cmdstanpy - INFO - Chain [1] start processing\n",
      "11:14:43 - cmdstanpy - INFO - Chain [1] done processing\n"
     ]
    },
    {
     "name": "stdout",
     "output_type": "stream",
     "text": [
      "RSXFS mortgage_rate30 0 14.188880377505377\n"
     ]
    },
    {
     "name": "stderr",
     "output_type": "stream",
     "text": [
      "11:14:47 - cmdstanpy - INFO - Chain [1] start processing\n"
     ]
    },
    {
     "name": "stdout",
     "output_type": "stream",
     "text": [
      "RSXFS Sticky_Price_Cpi 0 -20.714871879822176\n"
     ]
    },
    {
     "name": "stderr",
     "output_type": "stream",
     "text": [
      "11:14:47 - cmdstanpy - INFO - Chain [1] done processing\n",
      "11:14:49 - cmdstanpy - INFO - Chain [1] start processing\n",
      "11:14:50 - cmdstanpy - INFO - Chain [1] done processing\n"
     ]
    },
    {
     "name": "stdout",
     "output_type": "stream",
     "text": [
      "RSXFS International_Trade 0 13.10164146594786\n"
     ]
    },
    {
     "name": "stderr",
     "output_type": "stream",
     "text": [
      "11:14:52 - cmdstanpy - INFO - Chain [1] start processing\n",
      "11:14:52 - cmdstanpy - INFO - Chain [1] done processing\n"
     ]
    },
    {
     "name": "stdout",
     "output_type": "stream",
     "text": [
      "RSXFS Med_Cpi 0 -15.309976027432715\n"
     ]
    },
    {
     "name": "stderr",
     "output_type": "stream",
     "text": [
      "11:14:54 - cmdstanpy - INFO - Chain [1] start processing\n",
      "11:14:54 - cmdstanpy - INFO - Chain [1] done processing\n"
     ]
    },
    {
     "name": "stdout",
     "output_type": "stream",
     "text": [
      "RSXFS CPI 0 20.756065574734496\n"
     ]
    },
    {
     "name": "stderr",
     "output_type": "stream",
     "text": [
      "11:14:57 - cmdstanpy - INFO - Chain [1] start processing\n",
      "11:14:57 - cmdstanpy - INFO - Chain [1] done processing\n",
      "11:15:00 - cmdstanpy - INFO - Chain [1] start processing\n"
     ]
    },
    {
     "name": "stdout",
     "output_type": "stream",
     "text": [
      "RSXFS 1 -21.53396693952659\n"
     ]
    },
    {
     "name": "stderr",
     "output_type": "stream",
     "text": [
      "11:15:00 - cmdstanpy - INFO - Chain [1] done processing\n",
      "11:15:03 - cmdstanpy - INFO - Chain [1] start processing\n",
      "11:15:03 - cmdstanpy - INFO - Chain [1] done processing\n",
      "11:15:05 - cmdstanpy - INFO - Chain [1] start processing\n",
      "11:15:05 - cmdstanpy - INFO - Chain [1] done processing\n"
     ]
    },
    {
     "name": "stdout",
     "output_type": "stream",
     "text": [
      "RSXFS break_inflate10 1 41.19567809970892\n"
     ]
    },
    {
     "name": "stderr",
     "output_type": "stream",
     "text": [
      "11:15:07 - cmdstanpy - INFO - Chain [1] start processing\n",
      "11:15:07 - cmdstanpy - INFO - Chain [1] done processing\n",
      "11:15:09 - cmdstanpy - INFO - Chain [1] start processing\n",
      "11:15:09 - cmdstanpy - INFO - Chain [1] done processing\n"
     ]
    },
    {
     "name": "stdout",
     "output_type": "stream",
     "text": [
      "RSXFS employ_rate 1 -18.152554038408166\n"
     ]
    },
    {
     "name": "stderr",
     "output_type": "stream",
     "text": [
      "11:15:11 - cmdstanpy - INFO - Chain [1] start processing\n",
      "11:15:11 - cmdstanpy - INFO - Chain [1] done processing\n",
      "11:15:13 - cmdstanpy - INFO - Chain [1] start processing\n",
      "11:15:13 - cmdstanpy - INFO - Chain [1] done processing\n"
     ]
    },
    {
     "name": "stdout",
     "output_type": "stream",
     "text": [
      "RSXFS indust_prod 1 4.041269206277654\n"
     ]
    },
    {
     "name": "stderr",
     "output_type": "stream",
     "text": [
      "11:15:14 - cmdstanpy - INFO - Chain [1] start processing\n",
      "11:15:14 - cmdstanpy - INFO - Chain [1] done processing\n",
      "11:15:16 - cmdstanpy - INFO - Chain [1] start processing\n",
      "11:15:16 - cmdstanpy - INFO - Chain [1] done processing\n"
     ]
    },
    {
     "name": "stdout",
     "output_type": "stream",
     "text": [
      "RSXFS mortgage_rate30 1 -7.178399966247646\n"
     ]
    },
    {
     "name": "stderr",
     "output_type": "stream",
     "text": [
      "11:15:18 - cmdstanpy - INFO - Chain [1] start processing\n",
      "11:15:18 - cmdstanpy - INFO - Chain [1] done processing\n",
      "11:15:20 - cmdstanpy - INFO - Chain [1] start processing\n",
      "11:15:20 - cmdstanpy - INFO - Chain [1] done processing\n"
     ]
    },
    {
     "name": "stdout",
     "output_type": "stream",
     "text": [
      "RSXFS Sticky_Price_Cpi 1 -29.78967273076243\n"
     ]
    },
    {
     "name": "stderr",
     "output_type": "stream",
     "text": [
      "11:15:22 - cmdstanpy - INFO - Chain [1] start processing\n",
      "11:15:22 - cmdstanpy - INFO - Chain [1] done processing\n",
      "11:15:24 - cmdstanpy - INFO - Chain [1] start processing\n",
      "11:15:24 - cmdstanpy - INFO - Chain [1] done processing\n"
     ]
    },
    {
     "name": "stdout",
     "output_type": "stream",
     "text": [
      "RSXFS International_Trade 1 13.044248881544895\n"
     ]
    },
    {
     "name": "stderr",
     "output_type": "stream",
     "text": [
      "11:15:27 - cmdstanpy - INFO - Chain [1] start processing\n",
      "11:15:27 - cmdstanpy - INFO - Chain [1] done processing\n",
      "11:15:30 - cmdstanpy - INFO - Chain [1] start processing\n",
      "11:15:30 - cmdstanpy - INFO - Chain [1] done processing\n"
     ]
    },
    {
     "name": "stdout",
     "output_type": "stream",
     "text": [
      "RSXFS Med_Cpi 1 -25.64210992494248\n"
     ]
    },
    {
     "name": "stderr",
     "output_type": "stream",
     "text": [
      "11:15:33 - cmdstanpy - INFO - Chain [1] start processing\n",
      "11:15:33 - cmdstanpy - INFO - Chain [1] done processing\n",
      "11:15:35 - cmdstanpy - INFO - Chain [1] start processing\n",
      "11:15:35 - cmdstanpy - INFO - Chain [1] done processing\n"
     ]
    },
    {
     "name": "stdout",
     "output_type": "stream",
     "text": [
      "RSXFS CPI 1 14.93146073718759\n"
     ]
    },
    {
     "name": "stderr",
     "output_type": "stream",
     "text": [
      "11:15:37 - cmdstanpy - INFO - Chain [1] start processing\n",
      "11:15:37 - cmdstanpy - INFO - Chain [1] done processing\n",
      "11:15:39 - cmdstanpy - INFO - Chain [1] start processing\n",
      "11:15:39 - cmdstanpy - INFO - Chain [1] done processing\n"
     ]
    },
    {
     "name": "stdout",
     "output_type": "stream",
     "text": [
      "RSXFS 2 -34.73071554621094\n"
     ]
    },
    {
     "name": "stderr",
     "output_type": "stream",
     "text": [
      "11:15:42 - cmdstanpy - INFO - Chain [1] start processing\n",
      "11:15:42 - cmdstanpy - INFO - Chain [1] done processing\n",
      "11:15:44 - cmdstanpy - INFO - Chain [1] start processing\n",
      "11:15:44 - cmdstanpy - INFO - Chain [1] done processing\n"
     ]
    },
    {
     "name": "stdout",
     "output_type": "stream",
     "text": [
      "RSXFS break_inflate10 2 20.575843659141306\n"
     ]
    },
    {
     "name": "stderr",
     "output_type": "stream",
     "text": [
      "11:15:47 - cmdstanpy - INFO - Chain [1] start processing\n",
      "11:15:47 - cmdstanpy - INFO - Chain [1] done processing\n",
      "11:15:49 - cmdstanpy - INFO - Chain [1] start processing\n",
      "11:15:49 - cmdstanpy - INFO - Chain [1] done processing\n"
     ]
    },
    {
     "name": "stdout",
     "output_type": "stream",
     "text": [
      "RSXFS employ_rate 2 -34.35843051544998\n"
     ]
    },
    {
     "name": "stderr",
     "output_type": "stream",
     "text": [
      "11:15:51 - cmdstanpy - INFO - Chain [1] start processing\n",
      "11:15:51 - cmdstanpy - INFO - Chain [1] done processing\n",
      "11:15:53 - cmdstanpy - INFO - Chain [1] start processing\n",
      "11:15:53 - cmdstanpy - INFO - Chain [1] done processing\n"
     ]
    },
    {
     "name": "stdout",
     "output_type": "stream",
     "text": [
      "RSXFS indust_prod 2 -37.30935377347754\n"
     ]
    },
    {
     "name": "stderr",
     "output_type": "stream",
     "text": [
      "11:15:55 - cmdstanpy - INFO - Chain [1] start processing\n",
      "11:15:55 - cmdstanpy - INFO - Chain [1] done processing\n",
      "11:15:57 - cmdstanpy - INFO - Chain [1] start processing\n",
      "11:15:57 - cmdstanpy - INFO - Chain [1] done processing\n"
     ]
    },
    {
     "name": "stdout",
     "output_type": "stream",
     "text": [
      "RSXFS mortgage_rate30 2 -45.41623987427007\n"
     ]
    },
    {
     "name": "stderr",
     "output_type": "stream",
     "text": [
      "11:16:00 - cmdstanpy - INFO - Chain [1] start processing\n",
      "11:16:00 - cmdstanpy - INFO - Chain [1] done processing\n",
      "11:16:02 - cmdstanpy - INFO - Chain [1] start processing\n",
      "11:16:02 - cmdstanpy - INFO - Chain [1] done processing\n"
     ]
    },
    {
     "name": "stdout",
     "output_type": "stream",
     "text": [
      "RSXFS Sticky_Price_Cpi 2 -75.72431525697792\n"
     ]
    },
    {
     "name": "stderr",
     "output_type": "stream",
     "text": [
      "11:16:04 - cmdstanpy - INFO - Chain [1] start processing\n",
      "11:16:05 - cmdstanpy - INFO - Chain [1] done processing\n",
      "11:16:07 - cmdstanpy - INFO - Chain [1] start processing\n",
      "11:16:07 - cmdstanpy - INFO - Chain [1] done processing\n"
     ]
    },
    {
     "name": "stdout",
     "output_type": "stream",
     "text": [
      "RSXFS International_Trade 2 13.030995817498086\n"
     ]
    },
    {
     "name": "stderr",
     "output_type": "stream",
     "text": [
      "11:16:09 - cmdstanpy - INFO - Chain [1] start processing\n",
      "11:16:09 - cmdstanpy - INFO - Chain [1] done processing\n",
      "11:16:11 - cmdstanpy - INFO - Chain [1] start processing\n",
      "11:16:11 - cmdstanpy - INFO - Chain [1] done processing\n"
     ]
    },
    {
     "name": "stdout",
     "output_type": "stream",
     "text": [
      "RSXFS Med_Cpi 2 -54.58262094518742\n"
     ]
    },
    {
     "name": "stderr",
     "output_type": "stream",
     "text": [
      "11:16:14 - cmdstanpy - INFO - Chain [1] start processing\n",
      "11:16:14 - cmdstanpy - INFO - Chain [1] done processing\n",
      "11:16:16 - cmdstanpy - INFO - Chain [1] start processing\n",
      "11:16:16 - cmdstanpy - INFO - Chain [1] done processing\n"
     ]
    },
    {
     "name": "stdout",
     "output_type": "stream",
     "text": [
      "RSXFS CPI 2 -17.306086823462845\n"
     ]
    },
    {
     "name": "stderr",
     "output_type": "stream",
     "text": [
      "11:16:18 - cmdstanpy - INFO - Chain [1] start processing\n",
      "11:16:19 - cmdstanpy - INFO - Chain [1] done processing\n",
      "11:16:21 - cmdstanpy - INFO - Chain [1] start processing\n",
      "11:16:21 - cmdstanpy - INFO - Chain [1] done processing\n"
     ]
    },
    {
     "name": "stdout",
     "output_type": "stream",
     "text": [
      "RSXFS 3 -70.87438617419102\n"
     ]
    },
    {
     "name": "stderr",
     "output_type": "stream",
     "text": [
      "11:16:23 - cmdstanpy - INFO - Chain [1] start processing\n",
      "11:16:23 - cmdstanpy - INFO - Chain [1] done processing\n",
      "11:16:26 - cmdstanpy - INFO - Chain [1] start processing\n",
      "11:16:26 - cmdstanpy - INFO - Chain [1] done processing\n"
     ]
    },
    {
     "name": "stdout",
     "output_type": "stream",
     "text": [
      "RSXFS break_inflate10 3 -29.13527660092221\n"
     ]
    },
    {
     "name": "stderr",
     "output_type": "stream",
     "text": [
      "11:16:28 - cmdstanpy - INFO - Chain [1] start processing\n",
      "11:16:28 - cmdstanpy - INFO - Chain [1] done processing\n",
      "11:16:30 - cmdstanpy - INFO - Chain [1] start processing\n",
      "11:16:30 - cmdstanpy - INFO - Chain [1] done processing\n"
     ]
    },
    {
     "name": "stdout",
     "output_type": "stream",
     "text": [
      "RSXFS employ_rate 3 -61.26815923164279\n"
     ]
    },
    {
     "name": "stderr",
     "output_type": "stream",
     "text": [
      "11:16:33 - cmdstanpy - INFO - Chain [1] start processing\n",
      "11:16:34 - cmdstanpy - INFO - Chain [1] done processing\n"
     ]
    },
    {
     "name": "stdout",
     "output_type": "stream",
     "text": [
      "RSXFS indust_prod 3 -213.87980225673272\n"
     ]
    },
    {
     "name": "stderr",
     "output_type": "stream",
     "text": [
      "11:16:37 - cmdstanpy - INFO - Chain [1] start processing\n",
      "11:16:37 - cmdstanpy - INFO - Chain [1] done processing\n",
      "11:16:39 - cmdstanpy - INFO - Chain [1] start processing\n",
      "11:16:40 - cmdstanpy - INFO - Chain [1] done processing\n",
      "11:16:42 - cmdstanpy - INFO - Chain [1] start processing\n",
      "11:16:42 - cmdstanpy - INFO - Chain [1] done processing\n"
     ]
    },
    {
     "name": "stdout",
     "output_type": "stream",
     "text": [
      "RSXFS mortgage_rate30 3 -80.82226243439915\n"
     ]
    },
    {
     "name": "stderr",
     "output_type": "stream",
     "text": [
      "11:16:46 - cmdstanpy - INFO - Chain [1] start processing\n",
      "11:16:46 - cmdstanpy - INFO - Chain [1] done processing\n",
      "11:16:49 - cmdstanpy - INFO - Chain [1] start processing\n",
      "11:16:49 - cmdstanpy - INFO - Chain [1] done processing\n"
     ]
    },
    {
     "name": "stdout",
     "output_type": "stream",
     "text": [
      "RSXFS Sticky_Price_Cpi 3 -79.98252056126537\n"
     ]
    },
    {
     "name": "stderr",
     "output_type": "stream",
     "text": [
      "11:16:52 - cmdstanpy - INFO - Chain [1] start processing\n",
      "11:16:52 - cmdstanpy - INFO - Chain [1] done processing\n",
      "11:16:54 - cmdstanpy - INFO - Chain [1] start processing\n",
      "11:16:54 - cmdstanpy - INFO - Chain [1] done processing\n"
     ]
    },
    {
     "name": "stdout",
     "output_type": "stream",
     "text": [
      "RSXFS International_Trade 3 -3.2781012120487167\n"
     ]
    },
    {
     "name": "stderr",
     "output_type": "stream",
     "text": [
      "11:16:57 - cmdstanpy - INFO - Chain [1] start processing\n",
      "11:16:57 - cmdstanpy - INFO - Chain [1] done processing\n",
      "11:17:00 - cmdstanpy - INFO - Chain [1] start processing\n",
      "11:17:00 - cmdstanpy - INFO - Chain [1] done processing\n"
     ]
    },
    {
     "name": "stdout",
     "output_type": "stream",
     "text": [
      "RSXFS Med_Cpi 3 -65.70448238786906\n"
     ]
    },
    {
     "name": "stderr",
     "output_type": "stream",
     "text": [
      "11:17:02 - cmdstanpy - INFO - Chain [1] start processing\n",
      "11:17:02 - cmdstanpy - INFO - Chain [1] done processing\n",
      "11:17:04 - cmdstanpy - INFO - Chain [1] start processing\n",
      "11:17:04 - cmdstanpy - INFO - Chain [1] done processing\n"
     ]
    },
    {
     "name": "stdout",
     "output_type": "stream",
     "text": [
      "RSXFS CPI 3 -26.078818025986045\n"
     ]
    },
    {
     "name": "stderr",
     "output_type": "stream",
     "text": [
      "11:17:06 - cmdstanpy - INFO - Chain [1] start processing\n",
      "11:17:06 - cmdstanpy - INFO - Chain [1] done processing\n",
      "11:17:08 - cmdstanpy - INFO - Chain [1] start processing\n",
      "11:17:08 - cmdstanpy - INFO - Chain [1] done processing\n"
     ]
    },
    {
     "name": "stdout",
     "output_type": "stream",
     "text": [
      "RSXFS 4 -394.6065511534629\n"
     ]
    },
    {
     "name": "stderr",
     "output_type": "stream",
     "text": [
      "11:17:10 - cmdstanpy - INFO - Chain [1] start processing\n",
      "11:17:10 - cmdstanpy - INFO - Chain [1] done processing\n",
      "11:17:12 - cmdstanpy - INFO - Chain [1] start processing\n",
      "11:17:12 - cmdstanpy - INFO - Chain [1] done processing\n"
     ]
    },
    {
     "name": "stdout",
     "output_type": "stream",
     "text": [
      "RSXFS break_inflate10 4 -135.99647116132644\n"
     ]
    },
    {
     "name": "stderr",
     "output_type": "stream",
     "text": [
      "11:17:14 - cmdstanpy - INFO - Chain [1] start processing\n",
      "11:17:14 - cmdstanpy - INFO - Chain [1] done processing\n",
      "11:17:16 - cmdstanpy - INFO - Chain [1] start processing\n",
      "11:17:16 - cmdstanpy - INFO - Chain [1] done processing\n"
     ]
    },
    {
     "name": "stdout",
     "output_type": "stream",
     "text": [
      "RSXFS employ_rate 4 -261.878236315216\n"
     ]
    },
    {
     "name": "stderr",
     "output_type": "stream",
     "text": [
      "11:17:18 - cmdstanpy - INFO - Chain [1] start processing\n",
      "11:17:18 - cmdstanpy - INFO - Chain [1] done processing\n",
      "11:17:20 - cmdstanpy - INFO - Chain [1] start processing\n",
      "11:17:20 - cmdstanpy - INFO - Chain [1] done processing\n"
     ]
    },
    {
     "name": "stdout",
     "output_type": "stream",
     "text": [
      "RSXFS indust_prod 4 -224.94813253034786\n"
     ]
    },
    {
     "name": "stderr",
     "output_type": "stream",
     "text": [
      "11:17:21 - cmdstanpy - INFO - Chain [1] start processing\n",
      "11:17:22 - cmdstanpy - INFO - Chain [1] done processing\n",
      "11:17:23 - cmdstanpy - INFO - Chain [1] start processing\n",
      "11:17:23 - cmdstanpy - INFO - Chain [1] done processing\n"
     ]
    },
    {
     "name": "stdout",
     "output_type": "stream",
     "text": [
      "RSXFS mortgage_rate30 4 -390.8758335859834\n"
     ]
    },
    {
     "name": "stderr",
     "output_type": "stream",
     "text": [
      "11:17:25 - cmdstanpy - INFO - Chain [1] start processing\n",
      "11:17:25 - cmdstanpy - INFO - Chain [1] done processing\n",
      "11:17:28 - cmdstanpy - INFO - Chain [1] start processing\n",
      "11:17:28 - cmdstanpy - INFO - Chain [1] done processing\n"
     ]
    },
    {
     "name": "stdout",
     "output_type": "stream",
     "text": [
      "RSXFS Sticky_Price_Cpi 4 -263.23634105196476\n"
     ]
    },
    {
     "name": "stderr",
     "output_type": "stream",
     "text": [
      "11:17:30 - cmdstanpy - INFO - Chain [1] start processing\n",
      "11:17:30 - cmdstanpy - INFO - Chain [1] done processing\n",
      "11:17:33 - cmdstanpy - INFO - Chain [1] start processing\n",
      "11:17:33 - cmdstanpy - INFO - Chain [1] done processing\n"
     ]
    },
    {
     "name": "stdout",
     "output_type": "stream",
     "text": [
      "RSXFS International_Trade 4 -121.22640117094494\n"
     ]
    },
    {
     "name": "stderr",
     "output_type": "stream",
     "text": [
      "11:17:36 - cmdstanpy - INFO - Chain [1] start processing\n",
      "11:17:36 - cmdstanpy - INFO - Chain [1] done processing\n",
      "11:17:39 - cmdstanpy - INFO - Chain [1] start processing\n",
      "11:17:39 - cmdstanpy - INFO - Chain [1] done processing\n"
     ]
    },
    {
     "name": "stdout",
     "output_type": "stream",
     "text": [
      "RSXFS Med_Cpi 4 -80.22809461589964\n"
     ]
    },
    {
     "name": "stderr",
     "output_type": "stream",
     "text": [
      "11:17:41 - cmdstanpy - INFO - Chain [1] start processing\n",
      "11:17:41 - cmdstanpy - INFO - Chain [1] done processing\n"
     ]
    },
    {
     "name": "stdout",
     "output_type": "stream",
     "text": [
      "RSXFS CPI 4 -102.86020359614379\n"
     ]
    }
   ],
   "source": [
    "prophet_results = {}\n",
    "horizon = len(sales.index)//10\n",
    "for sale in sales.iloc[:,1:]:\n",
    "    data = sales[['ds', sale]]\n",
    "    data = data.rename(columns={sale: 'y'})\n",
    "    for deriv in range(5):\n",
    "        result = prophetnderivatives(data, horizon, 'm', deriv, pd.DataFrame())\n",
    "        print(sale, deriv, result)\n",
    "        prophet_results[sale, '', deriv] = result\n",
    "        for indicator in indicators:\n",
    "            result = prophetnderivatives(data, horizon, 'm', deriv, pd.DataFrame(indicators[indicator]))\n",
    "            print(sale, indicator, deriv, result)\n",
    "            prophet_results[sale, indicator, deriv] = result"
   ]
  },
  {
   "cell_type": "code",
   "execution_count": 12,
   "metadata": {},
   "outputs": [],
   "source": [
    "#with open('prophet_results.pickle', 'wb') as handle:\n",
    "#    pickle.dump(prophet_results, handle, protocol=pickle.HIGHEST_PROTOCOL)"
   ]
  },
  {
   "cell_type": "code",
   "execution_count": 20,
   "metadata": {},
   "outputs": [],
   "source": [
    "# make sure prophet_results.pickle is in the same folder as this Jupyter notebook\n",
    "with open('prophet_results.pickle', 'rb') as handle:\n",
    "    a = pickle.load(handle)"
   ]
  },
  {
   "cell_type": "code",
   "execution_count": 21,
   "metadata": {},
   "outputs": [],
   "source": [
    "def dumpclean(obj):\n",
    "    if isinstance(obj, dict):\n",
    "        for k, v in obj.items():\n",
    "            if hasattr(v, '__iter__'):\n",
    "                print(k)\n",
    "                dumpclean(v)\n",
    "            else:\n",
    "                print('%s : %s' % (k, v))\n",
    "    elif isinstance(obj, list):\n",
    "        for v in obj:\n",
    "            if hasattr(v, '__iter__'):\n",
    "                dumpclean(v)\n",
    "            else:\n",
    "                print(v)\n",
    "    else:\n",
    "        print(obj)"
   ]
  },
  {
   "cell_type": "code",
   "execution_count": 28,
   "metadata": {},
   "outputs": [],
   "source": [
    "sale_names = []\n",
    "indicator_names = []\n",
    "derivative_numbers = []\n",
    "variance_values = []\n",
    "for key, value in a.items():\n",
    "    sale_names.append(key[0])\n",
    "    indicator_names.append(key[1])\n",
    "    derivative_numbers.append(key[2])\n",
    "    variance_values.append(value)"
   ]
  },
  {
   "cell_type": "code",
   "execution_count": 37,
   "metadata": {},
   "outputs": [],
   "source": [
    "sheet = np.column_stack((sale_names, indicator_names, derivative_numbers, variance_values))\n",
    "sheet = pd.DataFrame(sheet, columns=['Sale', 'Indicator', 'Derivatives', 'Variance explained'])\n",
    "sheet.to_csv('prophet_economic_indicators.csv')"
   ]
  },
  {
   "cell_type": "code",
   "execution_count": 56,
   "metadata": {},
   "outputs": [],
   "source": [
    "results_by_sale = {}\n",
    "for key, value in a.items():\n",
    "    results_by_sale[key[0]] = {}\n",
    "    \n",
    "for key, value in a.items():\n",
    "    results_by_sale[key[0]][key] = value"
   ]
  },
  {
   "cell_type": "code",
   "execution_count": 57,
   "metadata": {},
   "outputs": [],
   "source": [
    "best_results = {}\n",
    "for sale in results_by_sale:\n",
    "    best_results[sale] = {}\n",
    "for sale, dictionary in results_by_sale.items():\n",
    "    best_results[sale][sale,'',0] = dictionary[sale,'',0]\n",
    "    best_results[sale][max(dictionary, key=dictionary.get)] = dictionary[max(dictionary, key=dictionary.get)]"
   ]
  },
  {
   "cell_type": "code",
   "execution_count": 59,
   "metadata": {},
   "outputs": [
    {
     "name": "stdout",
     "output_type": "stream",
     "text": [
      "RSAFS\n",
      "('RSAFS', '', 0) : 15.324039282504836\n",
      "('RSAFS', 'break_inflate10', 0) : 48.79709787286957\n",
      "RSFSXMV\n",
      "('RSFSXMV', '', 0) : -7.847762127188558\n",
      "('RSFSXMV', 'break_inflate10', 0) : 39.98704377614626\n",
      "RSHPCS\n",
      "('RSHPCS', '', 0) : -356.0426699461252\n",
      "('RSHPCS', 'Med_Cpi', 0) : -352.70646901936715\n",
      "RSGASS\n",
      "('RSGASS', '', 0) : -301.1200619804295\n",
      "('RSGASS', 'break_inflate10', 2) : 13.695670087881437\n",
      "RSCCAS\n",
      "('RSCCAS', '', 0) : -77.49786990564135\n",
      "('RSCCAS', 'indust_prod', 0) : -69.39353081408566\n",
      "RSSGHBMS\n",
      "('RSSGHBMS', '', 0) : -196.77899352672932\n",
      "('RSSGHBMS', 'mortgage_rate30', 3) : -96.01921379894473\n",
      "RSGMS\n",
      "('RSGMS', '', 0) : -120.45853365128328\n",
      "('RSGMS', 'mortgage_rate30', 0) : -96.23457744007699\n",
      "RSDSELD\n",
      "('RSDSELD', '', 0) : -94.13121498999443\n",
      "('RSDSELD', 'indust_prod', 1) : -64.1288954513712\n",
      "RSMSR\n",
      "('RSMSR', '', 0) : -23.910841315922905\n",
      "('RSMSR', 'CPI', 0) : -18.121982839483145\n",
      "RSNSR\n",
      "('RSNSR', '', 0) : 30.557234909407484\n",
      "('RSNSR', 'mortgage_rate30', 0) : 37.50200155151784\n",
      "RSFSDP\n",
      "('RSFSDP', '', 0) : 43.14478665361944\n",
      "('RSFSDP', 'Sticky_Price_Cpi', 0) : 50.14912614149289\n",
      "RSXFS\n",
      "('RSXFS', '', 0) : -11.489511576372163\n",
      "('RSXFS', 'break_inflate10', 0) : 43.01533994560768\n"
     ]
    }
   ],
   "source": [
    "dumpclean(best_results)"
   ]
  }
 ],
 "metadata": {
  "kernelspec": {
   "display_name": "Python 3",
   "language": "python",
   "name": "python3"
  },
  "language_info": {
   "codemirror_mode": {
    "name": "ipython",
    "version": 3
   },
   "file_extension": ".py",
   "mimetype": "text/x-python",
   "name": "python",
   "nbconvert_exporter": "python",
   "pygments_lexer": "ipython3",
   "version": "3.8.5"
  }
 },
 "nbformat": 4,
 "nbformat_minor": 2
}
